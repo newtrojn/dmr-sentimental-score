{
  "nbformat": 4,
  "nbformat_minor": 0,
  "metadata": {
    "colab": {
      "name": "tripadvisor_crawler.ipynb",
      "provenance": [],
      "collapsed_sections": [],
      "authorship_tag": "ABX9TyPnZ6vg3X4BSGKlsccKSI59"
    },
    "kernelspec": {
      "name": "python3",
      "display_name": "Python 3"
    },
    "language_info": {
      "name": "python"
    }
  },
  "cells": [
    {
      "cell_type": "code",
      "metadata": {
        "id": "-81OEViPI08o"
      },
      "source": [
        "import numpy as np\n",
        "import pandas as pd\n",
        "import os\n",
        "import re\n",
        "from selenium import webdriver\n",
        "from urllib.request import urlopen\n",
        "from bs4 import BeautifulSoup as bs\n",
        "from urllib.parse import quote_plus\n",
        "from selenium.webdriver.common.keys import Keys\n",
        "import time\n",
        "from selenium.webdriver.chrome.service import Service\n",
        "from selenium.webdriver.common.by import By\n",
        "from selenium.webdriver import ActionChains as AC"
      ],
      "execution_count": null,
      "outputs": []
    },
    {
      "cell_type": "code",
      "metadata": {
        "colab": {
          "base_uri": "https://localhost:8080/"
        },
        "id": "eB3oCCOTTDFb",
        "outputId": "1a814cc8-1885-4891-e61a-011f49e5abf0"
      },
      "source": [
        "!pip install Selenium"
      ],
      "execution_count": null,
      "outputs": [
        {
          "output_type": "stream",
          "name": "stdout",
          "text": [
            "Collecting Selenium\n",
            "  Downloading selenium-4.0.0-py3-none-any.whl (954 kB)\n",
            "\u001b[?25l\r\u001b[K     |▍                               | 10 kB 24.0 MB/s eta 0:00:01\r\u001b[K     |▊                               | 20 kB 28.4 MB/s eta 0:00:01\r\u001b[K     |█                               | 30 kB 23.7 MB/s eta 0:00:01\r\u001b[K     |█▍                              | 40 kB 18.1 MB/s eta 0:00:01\r\u001b[K     |█▊                              | 51 kB 13.1 MB/s eta 0:00:01\r\u001b[K     |██                              | 61 kB 14.7 MB/s eta 0:00:01\r\u001b[K     |██▍                             | 71 kB 13.5 MB/s eta 0:00:01\r\u001b[K     |██▊                             | 81 kB 14.7 MB/s eta 0:00:01\r\u001b[K     |███                             | 92 kB 12.6 MB/s eta 0:00:01\r\u001b[K     |███▍                            | 102 kB 12.9 MB/s eta 0:00:01\r\u001b[K     |███▊                            | 112 kB 12.9 MB/s eta 0:00:01\r\u001b[K     |████▏                           | 122 kB 12.9 MB/s eta 0:00:01\r\u001b[K     |████▌                           | 133 kB 12.9 MB/s eta 0:00:01\r\u001b[K     |████▉                           | 143 kB 12.9 MB/s eta 0:00:01\r\u001b[K     |█████▏                          | 153 kB 12.9 MB/s eta 0:00:01\r\u001b[K     |█████▌                          | 163 kB 12.9 MB/s eta 0:00:01\r\u001b[K     |█████▉                          | 174 kB 12.9 MB/s eta 0:00:01\r\u001b[K     |██████▏                         | 184 kB 12.9 MB/s eta 0:00:01\r\u001b[K     |██████▌                         | 194 kB 12.9 MB/s eta 0:00:01\r\u001b[K     |██████▉                         | 204 kB 12.9 MB/s eta 0:00:01\r\u001b[K     |███████▏                        | 215 kB 12.9 MB/s eta 0:00:01\r\u001b[K     |███████▌                        | 225 kB 12.9 MB/s eta 0:00:01\r\u001b[K     |████████                        | 235 kB 12.9 MB/s eta 0:00:01\r\u001b[K     |████████▎                       | 245 kB 12.9 MB/s eta 0:00:01\r\u001b[K     |████████▋                       | 256 kB 12.9 MB/s eta 0:00:01\r\u001b[K     |█████████                       | 266 kB 12.9 MB/s eta 0:00:01\r\u001b[K     |█████████▎                      | 276 kB 12.9 MB/s eta 0:00:01\r\u001b[K     |█████████▋                      | 286 kB 12.9 MB/s eta 0:00:01\r\u001b[K     |██████████                      | 296 kB 12.9 MB/s eta 0:00:01\r\u001b[K     |██████████▎                     | 307 kB 12.9 MB/s eta 0:00:01\r\u001b[K     |██████████▋                     | 317 kB 12.9 MB/s eta 0:00:01\r\u001b[K     |███████████                     | 327 kB 12.9 MB/s eta 0:00:01\r\u001b[K     |███████████▎                    | 337 kB 12.9 MB/s eta 0:00:01\r\u001b[K     |███████████▊                    | 348 kB 12.9 MB/s eta 0:00:01\r\u001b[K     |████████████                    | 358 kB 12.9 MB/s eta 0:00:01\r\u001b[K     |████████████▍                   | 368 kB 12.9 MB/s eta 0:00:01\r\u001b[K     |████████████▊                   | 378 kB 12.9 MB/s eta 0:00:01\r\u001b[K     |█████████████                   | 389 kB 12.9 MB/s eta 0:00:01\r\u001b[K     |█████████████▍                  | 399 kB 12.9 MB/s eta 0:00:01\r\u001b[K     |█████████████▊                  | 409 kB 12.9 MB/s eta 0:00:01\r\u001b[K     |██████████████                  | 419 kB 12.9 MB/s eta 0:00:01\r\u001b[K     |██████████████▍                 | 430 kB 12.9 MB/s eta 0:00:01\r\u001b[K     |██████████████▊                 | 440 kB 12.9 MB/s eta 0:00:01\r\u001b[K     |███████████████                 | 450 kB 12.9 MB/s eta 0:00:01\r\u001b[K     |███████████████▌                | 460 kB 12.9 MB/s eta 0:00:01\r\u001b[K     |███████████████▉                | 471 kB 12.9 MB/s eta 0:00:01\r\u001b[K     |████████████████▏               | 481 kB 12.9 MB/s eta 0:00:01\r\u001b[K     |████████████████▌               | 491 kB 12.9 MB/s eta 0:00:01\r\u001b[K     |████████████████▉               | 501 kB 12.9 MB/s eta 0:00:01\r\u001b[K     |█████████████████▏              | 512 kB 12.9 MB/s eta 0:00:01\r\u001b[K     |█████████████████▌              | 522 kB 12.9 MB/s eta 0:00:01\r\u001b[K     |█████████████████▉              | 532 kB 12.9 MB/s eta 0:00:01\r\u001b[K     |██████████████████▏             | 542 kB 12.9 MB/s eta 0:00:01\r\u001b[K     |██████████████████▌             | 552 kB 12.9 MB/s eta 0:00:01\r\u001b[K     |██████████████████▉             | 563 kB 12.9 MB/s eta 0:00:01\r\u001b[K     |███████████████████▎            | 573 kB 12.9 MB/s eta 0:00:01\r\u001b[K     |███████████████████▋            | 583 kB 12.9 MB/s eta 0:00:01\r\u001b[K     |████████████████████            | 593 kB 12.9 MB/s eta 0:00:01\r\u001b[K     |████████████████████▎           | 604 kB 12.9 MB/s eta 0:00:01\r\u001b[K     |████████████████████▋           | 614 kB 12.9 MB/s eta 0:00:01\r\u001b[K     |█████████████████████           | 624 kB 12.9 MB/s eta 0:00:01\r\u001b[K     |█████████████████████▎          | 634 kB 12.9 MB/s eta 0:00:01\r\u001b[K     |█████████████████████▋          | 645 kB 12.9 MB/s eta 0:00:01\r\u001b[K     |██████████████████████          | 655 kB 12.9 MB/s eta 0:00:01\r\u001b[K     |██████████████████████▎         | 665 kB 12.9 MB/s eta 0:00:01\r\u001b[K     |██████████████████████▋         | 675 kB 12.9 MB/s eta 0:00:01\r\u001b[K     |███████████████████████         | 686 kB 12.9 MB/s eta 0:00:01\r\u001b[K     |███████████████████████▍        | 696 kB 12.9 MB/s eta 0:00:01\r\u001b[K     |███████████████████████▊        | 706 kB 12.9 MB/s eta 0:00:01\r\u001b[K     |████████████████████████        | 716 kB 12.9 MB/s eta 0:00:01\r\u001b[K     |████████████████████████▍       | 727 kB 12.9 MB/s eta 0:00:01\r\u001b[K     |████████████████████████▊       | 737 kB 12.9 MB/s eta 0:00:01\r\u001b[K     |█████████████████████████       | 747 kB 12.9 MB/s eta 0:00:01\r\u001b[K     |█████████████████████████▍      | 757 kB 12.9 MB/s eta 0:00:01\r\u001b[K     |█████████████████████████▊      | 768 kB 12.9 MB/s eta 0:00:01\r\u001b[K     |██████████████████████████      | 778 kB 12.9 MB/s eta 0:00:01\r\u001b[K     |██████████████████████████▍     | 788 kB 12.9 MB/s eta 0:00:01\r\u001b[K     |██████████████████████████▉     | 798 kB 12.9 MB/s eta 0:00:01\r\u001b[K     |███████████████████████████▏    | 808 kB 12.9 MB/s eta 0:00:01\r\u001b[K     |███████████████████████████▌    | 819 kB 12.9 MB/s eta 0:00:01\r\u001b[K     |███████████████████████████▉    | 829 kB 12.9 MB/s eta 0:00:01\r\u001b[K     |████████████████████████████▏   | 839 kB 12.9 MB/s eta 0:00:01\r\u001b[K     |████████████████████████████▌   | 849 kB 12.9 MB/s eta 0:00:01\r\u001b[K     |████████████████████████████▉   | 860 kB 12.9 MB/s eta 0:00:01\r\u001b[K     |█████████████████████████████▏  | 870 kB 12.9 MB/s eta 0:00:01\r\u001b[K     |█████████████████████████████▌  | 880 kB 12.9 MB/s eta 0:00:01\r\u001b[K     |█████████████████████████████▉  | 890 kB 12.9 MB/s eta 0:00:01\r\u001b[K     |██████████████████████████████▏ | 901 kB 12.9 MB/s eta 0:00:01\r\u001b[K     |██████████████████████████████▋ | 911 kB 12.9 MB/s eta 0:00:01\r\u001b[K     |███████████████████████████████ | 921 kB 12.9 MB/s eta 0:00:01\r\u001b[K     |███████████████████████████████▎| 931 kB 12.9 MB/s eta 0:00:01\r\u001b[K     |███████████████████████████████▋| 942 kB 12.9 MB/s eta 0:00:01\r\u001b[K     |████████████████████████████████| 952 kB 12.9 MB/s eta 0:00:01\r\u001b[K     |████████████████████████████████| 954 kB 12.9 MB/s \n",
            "\u001b[?25hCollecting trio-websocket~=0.9\n",
            "  Downloading trio_websocket-0.9.2-py3-none-any.whl (16 kB)\n",
            "Collecting urllib3[secure]~=1.26\n",
            "  Downloading urllib3-1.26.7-py2.py3-none-any.whl (138 kB)\n",
            "\u001b[K     |████████████████████████████████| 138 kB 45.4 MB/s \n",
            "\u001b[?25hCollecting trio~=0.17\n",
            "  Downloading trio-0.19.0-py3-none-any.whl (356 kB)\n",
            "\u001b[K     |████████████████████████████████| 356 kB 53.2 MB/s \n",
            "\u001b[?25hRequirement already satisfied: sortedcontainers in /usr/local/lib/python3.7/dist-packages (from trio~=0.17->Selenium) (2.4.0)\n",
            "Requirement already satisfied: idna in /usr/local/lib/python3.7/dist-packages (from trio~=0.17->Selenium) (2.10)\n",
            "Requirement already satisfied: attrs>=19.2.0 in /usr/local/lib/python3.7/dist-packages (from trio~=0.17->Selenium) (21.2.0)\n",
            "Collecting sniffio\n",
            "  Downloading sniffio-1.2.0-py3-none-any.whl (10 kB)\n",
            "Collecting outcome\n",
            "  Downloading outcome-1.1.0-py2.py3-none-any.whl (9.7 kB)\n",
            "Collecting async-generator>=1.9\n",
            "  Downloading async_generator-1.10-py3-none-any.whl (18 kB)\n",
            "Collecting wsproto>=0.14\n",
            "  Downloading wsproto-1.0.0-py3-none-any.whl (24 kB)\n",
            "Collecting cryptography>=1.3.4\n",
            "  Downloading cryptography-35.0.0-cp36-abi3-manylinux_2_24_x86_64.whl (3.5 MB)\n",
            "\u001b[K     |████████████████████████████████| 3.5 MB 31.9 MB/s \n",
            "\u001b[?25hCollecting pyOpenSSL>=0.14\n",
            "  Downloading pyOpenSSL-21.0.0-py2.py3-none-any.whl (55 kB)\n",
            "\u001b[K     |████████████████████████████████| 55 kB 3.1 MB/s \n",
            "\u001b[?25hRequirement already satisfied: certifi in /usr/local/lib/python3.7/dist-packages (from urllib3[secure]~=1.26->Selenium) (2021.5.30)\n",
            "Requirement already satisfied: cffi>=1.12 in /usr/local/lib/python3.7/dist-packages (from cryptography>=1.3.4->urllib3[secure]~=1.26->Selenium) (1.14.6)\n",
            "Requirement already satisfied: pycparser in /usr/local/lib/python3.7/dist-packages (from cffi>=1.12->cryptography>=1.3.4->urllib3[secure]~=1.26->Selenium) (2.20)\n",
            "Requirement already satisfied: six>=1.5.2 in /usr/local/lib/python3.7/dist-packages (from pyOpenSSL>=0.14->urllib3[secure]~=1.26->Selenium) (1.15.0)\n",
            "Collecting h11<1,>=0.9.0\n",
            "  Downloading h11-0.12.0-py3-none-any.whl (54 kB)\n",
            "\u001b[K     |████████████████████████████████| 54 kB 2.8 MB/s \n",
            "\u001b[?25hInstalling collected packages: sniffio, outcome, h11, cryptography, async-generator, wsproto, urllib3, trio, pyOpenSSL, trio-websocket, Selenium\n",
            "  Attempting uninstall: urllib3\n",
            "    Found existing installation: urllib3 1.24.3\n",
            "    Uninstalling urllib3-1.24.3:\n",
            "      Successfully uninstalled urllib3-1.24.3\n",
            "\u001b[31mERROR: pip's dependency resolver does not currently take into account all the packages that are installed. This behaviour is the source of the following dependency conflicts.\n",
            "requests 2.23.0 requires urllib3!=1.25.0,!=1.25.1,<1.26,>=1.21.1, but you have urllib3 1.26.7 which is incompatible.\n",
            "datascience 0.10.6 requires folium==0.2.1, but you have folium 0.8.3 which is incompatible.\u001b[0m\n",
            "Successfully installed Selenium-4.0.0 async-generator-1.10 cryptography-35.0.0 h11-0.12.0 outcome-1.1.0 pyOpenSSL-21.0.0 sniffio-1.2.0 trio-0.19.0 trio-websocket-0.9.2 urllib3-1.26.7 wsproto-1.0.0\n"
          ]
        }
      ]
    },
    {
      "cell_type": "code",
      "metadata": {
        "colab": {
          "base_uri": "https://localhost:8080/"
        },
        "id": "3Q7UphtPTNGu",
        "outputId": "e4810a8e-52a8-43aa-a141-e7ac29514aa2"
      },
      "source": [
        "!apt-get update\n",
        "!apt install chromium-chromedriver"
      ],
      "execution_count": null,
      "outputs": [
        {
          "output_type": "stream",
          "name": "stdout",
          "text": [
            "\r0% [Working]\r            \rHit:1 http://ppa.launchpad.net/c2d4u.team/c2d4u4.0+/ubuntu bionic InRelease\n",
            "\r0% [Connecting to archive.ubuntu.com (91.189.88.142)] [Connecting to security.u\r                                                                               \rHit:2 http://archive.ubuntu.com/ubuntu bionic InRelease\n",
            "\r0% [Waiting for headers] [Connecting to security.ubuntu.com (91.189.91.38)] [Co\r0% [1 InRelease gpgv 15.9 kB] [Waiting for headers] [Connecting to security.ubu\r                                                                               \rHit:3 http://ppa.launchpad.net/cran/libgit2/ubuntu bionic InRelease\n",
            "\r0% [1 InRelease gpgv 15.9 kB] [Waiting for headers] [Connecting to security.ubu\r                                                                               \rHit:4 http://archive.ubuntu.com/ubuntu bionic-updates InRelease\n",
            "\r0% [1 InRelease gpgv 15.9 kB] [Waiting for headers] [Connecting to security.ubu\r                                                                               \rHit:5 https://cloud.r-project.org/bin/linux/ubuntu bionic-cran40/ InRelease\n",
            "\r0% [1 InRelease gpgv 15.9 kB] [Waiting for headers] [Connecting to security.ubu\r                                                                               \rHit:6 http://archive.ubuntu.com/ubuntu bionic-backports InRelease\n",
            "\r0% [1 InRelease gpgv 15.9 kB] [Connecting to security.ubuntu.com (91.189.91.38)\r                                                                               \rHit:7 http://ppa.launchpad.net/deadsnakes/ppa/ubuntu bionic InRelease\n",
            "\r0% [1 InRelease gpgv 15.9 kB] [Connecting to security.ubuntu.com (91.189.91.38)\r                                                                               \rHit:8 http://ppa.launchpad.net/graphics-drivers/ppa/ubuntu bionic InRelease\n",
            "\r                                                                               \r0% [1 InRelease gpgv 15.9 kB] [Waiting for headers] [Waiting for headers]\r                                                                         \rHit:9 http://security.ubuntu.com/ubuntu bionic-security InRelease\n",
            "Ign:10 https://developer.download.nvidia.com/compute/cuda/repos/ubuntu1804/x86_64  InRelease\n",
            "Ign:11 https://developer.download.nvidia.com/compute/machine-learning/repos/ubuntu1804/x86_64  InRelease\n",
            "Hit:12 https://developer.download.nvidia.com/compute/cuda/repos/ubuntu1804/x86_64  Release\n",
            "Hit:13 https://developer.download.nvidia.com/compute/machine-learning/repos/ubuntu1804/x86_64  Release\n",
            "Reading package lists... Done\n",
            "Reading package lists... Done\n",
            "Building dependency tree       \n",
            "Reading state information... Done\n",
            "chromium-chromedriver is already the newest version (94.0.4606.81-0ubuntu0.18.04.1).\n",
            "0 upgraded, 0 newly installed, 0 to remove and 72 not upgraded.\n"
          ]
        }
      ]
    },
    {
      "cell_type": "code",
      "metadata": {
        "colab": {
          "base_uri": "https://localhost:8080/"
        },
        "id": "UPmJ_dqJJ13v",
        "outputId": "21bb80d6-d3fa-4326-c4ab-f3b4f8ef300d"
      },
      "source": [
        "from google.colab import drive\n",
        "drive.mount('/content/gdrive')"
      ],
      "execution_count": null,
      "outputs": [
        {
          "output_type": "stream",
          "name": "stdout",
          "text": [
            "Mounted at /content/gdrive\n"
          ]
        }
      ]
    },
    {
      "cell_type": "code",
      "metadata": {
        "id": "huycn8nILlHX"
      },
      "source": [
        "chrome_options = webdriver.ChromeOptions()\n",
        "chrome_options.add_argument('--headless')\n",
        "chrome_options.add_argument('--no-sandbox')\n",
        "chrome_options.add_argument('--disable-dev-shm-usage')\n",
        "driver = webdriver.Chrome('chromedriver', options=chrome_options)"
      ],
      "execution_count": null,
      "outputs": []
    },
    {
      "cell_type": "code",
      "metadata": {
        "id": "Td_ZSSNUQUZH"
      },
      "source": [
        "#인기 여행지 리스트 추출 100곳\n",
        "first_url_str=\"https://www.tripadvisor.co.kr/Attractions-g294197-Activities-a_allAttractions.true-Seoul.html\"\n",
        "\n",
        "for i in range(30,120,30):\n",
        "  url_str=\"https://www.tripadvisor.co.kr/Attractions-g294197-Activities-oa\"\n",
        "  url_num=str(i)\n",
        "  url_keyword=\"-Seoul.html\"\n",
        "  total_url=url_str+url_num+url_keyword\n",
        "\n",
        "  driver.get(total_url)\n",
        "\n",
        "  time.sleep(5)\n",
        "\n",
        "for i in"
      ],
      "execution_count": null,
      "outputs": []
    },
    {
      "cell_type": "code",
      "metadata": {
        "id": "t4fSoouV4R0w",
        "colab": {
          "base_uri": "https://localhost:8080/"
        },
        "outputId": "234d98e8-5bea-4d68-96bc-56fdb70f3cc9"
      },
      "source": [
        "df=pd.DataFrame()\n",
        "review_title=[]\n",
        "review=[]\n",
        "score=[]\n",
        "date=[]\n",
        "for i in range(0,70,10):\n",
        "\n",
        "    url_str=\"https://www.tripadvisor.co.kr/Attraction_Review-g294197-d12309166-Reviews-or\"\n",
        "    url_num=repr(i)\n",
        "    url_keyword=\"-Seoul_Sky-Seoul.html\"\n",
        "    total_url=url_str+url_num+url_keyword\n",
        "    try:\n",
        "        driver.get(total_url)\n",
        "    except:\n",
        "        time.sleep(3)\n",
        "        driver.get(total_url)\n",
        "    print('크롤링할 페이지 : {}'.format(i/10))\n",
        "    #크롤링\n",
        "    for j in range(1,12):\n",
        "        \n",
        "        review_title_css='#tab-data-qa-reviews-0 > div > div.bPhtn > div:nth-child('+repr(j)+') > span > span > a > div > span'\n",
        "        review_css='#tab-data-qa-reviews-0 > div > div.bPhtn > div:nth-child('+repr(j)+') > span > span > div.duhwe._T.bOlcm > div.pIRBV._T.KRIav > div > span'\n",
        "        score_css='#tab-data-qa-reviews-0 > div > div.bPhtn > div:nth-child('+repr(j)+') > span > span > div:nth-child(3) > svg'\n",
        "        date_css='#tab-data-qa-reviews-0 > div > div.bPhtn > div:nth-child('+repr(j)+') > span > span > div.fEDvV'\n",
        "        \n",
        "        \n",
        "        review_title_find=driver.find_elements_by_css_selector(review_title_css)\n",
        "        review_find=driver.find_elements_by_css_selector(review_css)\n",
        "        score_find=driver.find_elements_by_css_selector(score_css)\n",
        "        date_find=driver.find_elements_by_css_selector(date_css)\n",
        "        \n",
        "\n",
        "        try :\n",
        "            review_title.append(review_title_find[0].get_attribute('innerText'))\n",
        "                \n",
        "        except IndexError :\n",
        "            try :\n",
        "                review_title_css='#tab-data-qa-reviews-0 > div > div.bPhtn > div:nth-child('+repr(j)+') > span > span > a > span > div > span'\n",
        "                review_title_find=driver.find_elements_by_css_selector(review_title_css)\n",
        "                review_title.append(review_title_find[0].get_attribute('innerText'))\n",
        "            except IndexError :\n",
        "                review_title.append(np.NaN)\n",
        "            \n",
        "        try :\n",
        "            review.append(review_find[0].get_attribute('innerText'))\n",
        "        except IndexError :\n",
        "            review.append(np.NaN)\n",
        "            \n",
        "        try :\n",
        "            score.append(score_find[0].get_attribute('title'))\n",
        "        except IndexError :\n",
        "            score.append(np.NaN)\n",
        "            \n",
        "        try :\n",
        "            date.append(date_find[0].get_attribute('innerText'))\n",
        "\n",
        "        except IndexError :\n",
        "            date.append(np.NaN)"
      ],
      "execution_count": null,
      "outputs": [
        {
          "output_type": "stream",
          "name": "stdout",
          "text": [
            "크롤링할 페이지 : 0.0\n"
          ]
        },
        {
          "output_type": "stream",
          "name": "stderr",
          "text": [
            "/usr/local/lib/python3.7/dist-packages/ipykernel_launcher.py:27: DeprecationWarning: find_elements_by_* commands are deprecated. Please use find_elements() instead\n",
            "/usr/local/lib/python3.7/dist-packages/ipykernel_launcher.py:28: DeprecationWarning: find_elements_by_* commands are deprecated. Please use find_elements() instead\n",
            "/usr/local/lib/python3.7/dist-packages/ipykernel_launcher.py:29: DeprecationWarning: find_elements_by_* commands are deprecated. Please use find_elements() instead\n",
            "/usr/local/lib/python3.7/dist-packages/ipykernel_launcher.py:30: DeprecationWarning: find_elements_by_* commands are deprecated. Please use find_elements() instead\n",
            "/usr/local/lib/python3.7/dist-packages/ipykernel_launcher.py:39: DeprecationWarning: find_elements_by_* commands are deprecated. Please use find_elements() instead\n"
          ]
        },
        {
          "output_type": "stream",
          "name": "stdout",
          "text": [
            "크롤링할 페이지 : 1.0\n",
            "크롤링할 페이지 : 2.0\n",
            "크롤링할 페이지 : 3.0\n",
            "크롤링할 페이지 : 4.0\n",
            "크롤링할 페이지 : 5.0\n",
            "크롤링할 페이지 : 6.0\n"
          ]
        }
      ]
    },
    {
      "cell_type": "code",
      "metadata": {
        "colab": {
          "base_uri": "https://localhost:8080/",
          "height": 979
        },
        "id": "seFJ9YvPWQWu",
        "outputId": "1c97a292-f50c-4d57-cc1b-fdef77c0b832"
      },
      "source": [
        "df2=pd.DataFrame()\n",
        "df['review_title']=pd.Series(review_title)\n",
        "df['review']=pd.Series(review)\n",
        "df['score']=pd.Series(score)\n",
        "df['date']=pd.Series(date)\n",
        "df.tail(30)"
      ],
      "execution_count": null,
      "outputs": [
        {
          "output_type": "execute_result",
          "data": {
            "text/html": [
              "<div>\n",
              "<style scoped>\n",
              "    .dataframe tbody tr th:only-of-type {\n",
              "        vertical-align: middle;\n",
              "    }\n",
              "\n",
              "    .dataframe tbody tr th {\n",
              "        vertical-align: top;\n",
              "    }\n",
              "\n",
              "    .dataframe thead th {\n",
              "        text-align: right;\n",
              "    }\n",
              "</style>\n",
              "<table border=\"1\" class=\"dataframe\">\n",
              "  <thead>\n",
              "    <tr style=\"text-align: right;\">\n",
              "      <th></th>\n",
              "      <th>review_title</th>\n",
              "      <th>review</th>\n",
              "      <th>score</th>\n",
              "      <th>date</th>\n",
              "    </tr>\n",
              "  </thead>\n",
              "  <tbody>\n",
              "    <tr>\n",
              "      <th>36</th>\n",
              "      <td>서울의 새로운 랜드마크, 대한민국에서 가장 높은 전망대</td>\n",
              "      <td>입장료가 조금 비싸긴 하지만 예약을 통한 여유있는 관람이 가능하며, 대한민국에서 가...</td>\n",
              "      <td>풍선 5개 중 3.0</td>\n",
              "      <td>2017년 4월</td>\n",
              "    </tr>\n",
              "    <tr>\n",
              "      <th>37</th>\n",
              "      <td>서울 타워 방문해야 할 곳</td>\n",
              "      <td>위에서 도시 전체의 멋진 전망. 서울에있을 때 관광지가 방문해야합니다. 그냥 좋아해...</td>\n",
              "      <td>풍선 5개 중 5.0</td>\n",
              "      <td>2019년 8월 • 친구</td>\n",
              "    </tr>\n",
              "    <tr>\n",
              "      <th>38</th>\n",
              "      <td>한 평생 놀라운 경험 !!!</td>\n",
              "      <td>꼭해야하고보아야합니다. 세계에서 가장 높은 5 번째 건물에있는 세계에서 가장 높은 ...</td>\n",
              "      <td>풍선 5개 중 5.0</td>\n",
              "      <td>2018년 9월 • 친구</td>\n",
              "    </tr>\n",
              "    <tr>\n",
              "      <th>39</th>\n",
              "      <td>적극 꼭대기에 있는 맥주 추천합니다</td>\n",
              "      <td>서울 경관이. 세계 5위 가장 높은 건물입니다.\\n맥주, 123층 위에 스낵을 즐길...</td>\n",
              "      <td>풍선 5개 중 5.0</td>\n",
              "      <td>2018년 8월 • 개인</td>\n",
              "    </tr>\n",
              "    <tr>\n",
              "      <th>40</th>\n",
              "      <td>멋진 전망, 그만한 가치가 있다!</td>\n",
              "      <td>티켓은 그냥 살 수, 원하는 만큼 머물 수 있습니다. 우리는 잠시 그곳에 이 밤에 ...</td>\n",
              "      <td>풍선 5개 중 5.0</td>\n",
              "      <td>2018년 4월 • 친구</td>\n",
              "    </tr>\n",
              "    <tr>\n",
              "      <th>41</th>\n",
              "      <td>서울의 아름다운 광경</td>\n",
              "      <td>나는 서울의 하늘 전체를 서울 움직였다 줬어요. 제 친구와 저는 서울 3일 서울 하...</td>\n",
              "      <td>풍선 5개 중 4.0</td>\n",
              "      <td>2018년 3월 • 친구</td>\n",
              "    </tr>\n",
              "    <tr>\n",
              "      <th>42</th>\n",
              "      <td>마천루 멋진 서울의 경치를</td>\n",
              "      <td>서울 하늘이 최고층 건물입니다. 360도 서울 훌륭한 경치를 볼 수 있습니다. 날씨...</td>\n",
              "      <td>풍선 5개 중 5.0</td>\n",
              "      <td>2017년 4월 • 개인</td>\n",
              "    </tr>\n",
              "    <tr>\n",
              "      <th>43</th>\n",
              "      <td>훌륭한 전망과 좋은 경험</td>\n",
              "      <td>이 도시의 멋진 전망을 가진 시내에서 가장 높은 타워. 120일 층에 있는 파노라마...</td>\n",
              "      <td>풍선 5개 중 4.0</td>\n",
              "      <td>2017년 11월 • 친구</td>\n",
              "    </tr>\n",
              "    <tr>\n",
              "      <th>44</th>\n",
              "      <td>NaN</td>\n",
              "      <td>NaN</td>\n",
              "      <td>NaN</td>\n",
              "      <td>NaN</td>\n",
              "    </tr>\n",
              "    <tr>\n",
              "      <th>45</th>\n",
              "      <td>훌륭한</td>\n",
              "      <td>방문할 가치가, 멋진 도시 전망, 좋은 기념품 상점, 커피숍 및 레스토랑이 마련되어...</td>\n",
              "      <td>풍선 5개 중 5.0</td>\n",
              "      <td>2017년 10월 • 가족</td>\n",
              "    </tr>\n",
              "    <tr>\n",
              "      <th>46</th>\n",
              "      <td>서울 놀라운 풍경</td>\n",
              "      <td>남편, 딸과 함께 방문했습니다. 잘 성인 입장료는 1인당 가치가 원 27000입니다...</td>\n",
              "      <td>풍선 5개 중 5.0</td>\n",
              "      <td>2017년 9월 • 가족</td>\n",
              "    </tr>\n",
              "    <tr>\n",
              "      <th>47</th>\n",
              "      <td>놀라운 전망입니다!</td>\n",
              "      <td>올해 4월에 전망대가 바로 공개. 큰 군중 수도 예상치 (주민 등) 티켓 구입 때 ...</td>\n",
              "      <td>풍선 5개 중 4.0</td>\n",
              "      <td>2017년 9월 • 커플</td>\n",
              "    </tr>\n",
              "    <tr>\n",
              "      <th>48</th>\n",
              "      <td>절대적으로 놀라운 전망은, 아름다운, 멋진, daebak …</td>\n",
              "      <td>서울에 있는 롯데 월드 쇼핑몰 옆에 있는 하늘 위에 잠실역 롯데 월드.\\n\\n몇 가...</td>\n",
              "      <td>풍선 5개 중 5.0</td>\n",
              "      <td>2017년 8월 • 개인</td>\n",
              "    </tr>\n",
              "    <tr>\n",
              "      <th>49</th>\n",
              "      <td>서울에서 가장 높은 빌딩</td>\n",
              "      <td>하늘은 멋진 곳 입니다. 20층에 있는 유리 (이 경우 기억할 수 있는) 에 대해 ...</td>\n",
              "      <td>풍선 5개 중 4.0</td>\n",
              "      <td>2017년 8월</td>\n",
              "    </tr>\n",
              "    <tr>\n",
              "      <th>50</th>\n",
              "      <td>당신이 방문해야합니다</td>\n",
              "      <td>이 건물은 화려한. 큰 정도. 또한 한 층 아래로 볼 수 있습니다. 제가 제일 좋아...</td>\n",
              "      <td>풍선 5개 중 5.0</td>\n",
              "      <td>2017년 6월</td>\n",
              "    </tr>\n",
              "    <tr>\n",
              "      <th>51</th>\n",
              "      <td>좋은 경험!</td>\n",
              "      <td>이 중에 한 곳을 갈 계획이 있었는데 봅니다. 매우 높은 다양한 첨단 기술 및 신속...</td>\n",
              "      <td>풍선 5개 중 5.0</td>\n",
              "      <td>2017년 7월 • 개인</td>\n",
              "    </tr>\n",
              "    <tr>\n",
              "      <th>52</th>\n",
              "      <td>고층 건물이 올라가는 경우 들 을 봅니다</td>\n",
              "      <td>서울에 있는 무료로 롯데 월드 타워 로 올라가는 것이라고 생각했습니다. 저는 키가 ...</td>\n",
              "      <td>풍선 5개 중 4.0</td>\n",
              "      <td>2017년 6월 • 개인</td>\n",
              "    </tr>\n",
              "    <tr>\n",
              "      <th>53</th>\n",
              "      <td>멋진 전망, 재미가 있는</td>\n",
              "      <td>즐길 수 있는 곳이 몇 명의 최근, 많은 것을! 유리로 된 바닥이 있지만 우리는 모...</td>\n",
              "      <td>풍선 5개 중 5.0</td>\n",
              "      <td>2017년 6월 • 비지니스</td>\n",
              "    </tr>\n",
              "    <tr>\n",
              "      <th>54</th>\n",
              "      <td>놀라운!</td>\n",
              "      <td>직원들은 친절하고 유익한 정보.\\n구축 작업을 수행한 의 타워 및 기타 전자적 경험...</td>\n",
              "      <td>풍선 5개 중 5.0</td>\n",
              "      <td>2017년 7월 • 커플</td>\n",
              "    </tr>\n",
              "    <tr>\n",
              "      <th>55</th>\n",
              "      <td>NaN</td>\n",
              "      <td>NaN</td>\n",
              "      <td>NaN</td>\n",
              "      <td>NaN</td>\n",
              "    </tr>\n",
              "    <tr>\n",
              "      <th>56</th>\n",
              "      <td>만한 가치가 있는</td>\n",
              "      <td>저는 어른들의 작은 그룹에서 연 후 곧바로 weeknight. 그래서 전체적인 상황...</td>\n",
              "      <td>풍선 5개 중 5.0</td>\n",
              "      <td>2017년 5월 • 친구</td>\n",
              "    </tr>\n",
              "    <tr>\n",
              "      <th>57</th>\n",
              "      <td>롯데 월드에서 드롭 될 경우, 첫 번째 정류장 입니다!</td>\n",
              "      <td>저와 제 가족 (성인 4자 1) 스카이 타워 토요일 아침에 서울을 방문 하여. 우리...</td>\n",
              "      <td>풍선 5개 중 5.0</td>\n",
              "      <td>2017년 6월 • 가족</td>\n",
              "    </tr>\n",
              "    <tr>\n",
              "      <th>58</th>\n",
              "      <td>서울 의 경우 반드시</td>\n",
              "      <td>도시의 전망은 없 었네요 선명하고 깨끗한 때문이었지만, 이 도시 전체를 아름다운 파...</td>\n",
              "      <td>풍선 5개 중 5.0</td>\n",
              "      <td>2017년 6월 • 개인</td>\n",
              "    </tr>\n",
              "    <tr>\n",
              "      <th>59</th>\n",
              "      <td>올라갈 가치가 있는 시간</td>\n",
              "      <td>제 남편과 저는 이 논쟁에 가서, 이 약간 가파른 입장, 할 수 있는 아주 좋은 방...</td>\n",
              "      <td>풍선 5개 중 5.0</td>\n",
              "      <td>2017년 5월 • 커플</td>\n",
              "    </tr>\n",
              "    <tr>\n",
              "      <th>60</th>\n",
              "      <td>큰 시티 뷰가 없는 대괄호),</td>\n",
              "      <td>놀라 울 정도로, 우리는 기다리는 시간이 전혀 없었습니다! 그렇게 금요일 정오쯤에 ...</td>\n",
              "      <td>풍선 5개 중 5.0</td>\n",
              "      <td>2017년 6월 • 가족</td>\n",
              "    </tr>\n",
              "    <tr>\n",
              "      <th>61</th>\n",
              "      <td>비어</td>\n",
              "      <td>강 이 환상적인 명소, 서울 올림픽 공원 타워. 경우 의 단점은 밤에 가 도 매우 ...</td>\n",
              "      <td>풍선 5개 중 4.0</td>\n",
              "      <td>2017년 5월 • 커플</td>\n",
              "    </tr>\n",
              "    <tr>\n",
              "      <th>62</th>\n",
              "      <td>3rd 세계에서 가장 높은 전망대</td>\n",
              "      <td>저는 운이 좋게도 방문한 롯데 스카이 타워 전망대 의 공식 개막 첫 주 공개 가 사...</td>\n",
              "      <td>풍선 5개 중 4.0</td>\n",
              "      <td>2017년 4월 • 가족</td>\n",
              "    </tr>\n",
              "    <tr>\n",
              "      <th>63</th>\n",
              "      <td>서울 하늘</td>\n",
              "      <td>27, 000 이지만 조금 비싸다는 것 이 새로 지어진 전망대가 해 준다. 긴 줄에...</td>\n",
              "      <td>풍선 5개 중 5.0</td>\n",
              "      <td>2017년 4월 • 커플</td>\n",
              "    </tr>\n",
              "    <tr>\n",
              "      <th>64</th>\n",
              "      <td>아름다운 경관, 좋은 사람들을 컨트롤, 표시 하기 전에 확인할 수 있지만</td>\n",
              "      <td>제 남편과 저는 서울 하늘 전망대를 방문, 하지만 우리는 공기 / 표시 품질 수준으...</td>\n",
              "      <td>풍선 5개 중 4.0</td>\n",
              "      <td>2017년 4월 • 커플</td>\n",
              "    </tr>\n",
              "    <tr>\n",
              "      <th>65</th>\n",
              "      <td>전망은 좋지만 비싼</td>\n",
              "      <td>저는 이곳에 모든 것이 매우 깨끗하고 새것 이 주 를 오픈 한 것. 매우 빠른 엘리...</td>\n",
              "      <td>풍선 5개 중 3.0</td>\n",
              "      <td>2017년 4월 • 개인</td>\n",
              "    </tr>\n",
              "  </tbody>\n",
              "</table>\n",
              "</div>"
            ],
            "text/plain": [
              "                                review_title  ...             date\n",
              "36            서울의 새로운 랜드마크, 대한민국에서 가장 높은 전망대  ...         2017년 4월\n",
              "37                            서울 타워 방문해야 할 곳  ...    2019년 8월 • 친구\n",
              "38                           한 평생 놀라운 경험 !!!  ...    2018년 9월 • 친구\n",
              "39                       적극 꼭대기에 있는 맥주 추천합니다  ...    2018년 8월 • 개인\n",
              "40                        멋진 전망, 그만한 가치가 있다!  ...    2018년 4월 • 친구\n",
              "41                               서울의 아름다운 광경  ...    2018년 3월 • 친구\n",
              "42                            마천루 멋진 서울의 경치를  ...    2017년 4월 • 개인\n",
              "43                             훌륭한 전망과 좋은 경험  ...   2017년 11월 • 친구\n",
              "44                                       NaN  ...              NaN\n",
              "45                                       훌륭한  ...   2017년 10월 • 가족\n",
              "46                                 서울 놀라운 풍경  ...    2017년 9월 • 가족\n",
              "47                                놀라운 전망입니다!  ...    2017년 9월 • 커플\n",
              "48         절대적으로 놀라운 전망은, 아름다운, 멋진, daebak …  ...    2017년 8월 • 개인\n",
              "49                             서울에서 가장 높은 빌딩  ...         2017년 8월\n",
              "50                               당신이 방문해야합니다  ...         2017년 6월\n",
              "51                                    좋은 경험!  ...    2017년 7월 • 개인\n",
              "52                    고층 건물이 올라가는 경우 들 을 봅니다  ...    2017년 6월 • 개인\n",
              "53                             멋진 전망, 재미가 있는  ...  2017년 6월 • 비지니스\n",
              "54                                      놀라운!  ...    2017년 7월 • 커플\n",
              "55                                       NaN  ...              NaN\n",
              "56                                 만한 가치가 있는  ...    2017년 5월 • 친구\n",
              "57            롯데 월드에서 드롭 될 경우, 첫 번째 정류장 입니다!  ...    2017년 6월 • 가족\n",
              "58                               서울 의 경우 반드시  ...    2017년 6월 • 개인\n",
              "59                             올라갈 가치가 있는 시간  ...    2017년 5월 • 커플\n",
              "60                          큰 시티 뷰가 없는 대괄호),  ...    2017년 6월 • 가족\n",
              "61                                        비어  ...    2017년 5월 • 커플\n",
              "62                        3rd 세계에서 가장 높은 전망대  ...    2017년 4월 • 가족\n",
              "63                                     서울 하늘  ...    2017년 4월 • 커플\n",
              "64  아름다운 경관, 좋은 사람들을 컨트롤, 표시 하기 전에 확인할 수 있지만  ...    2017년 4월 • 커플\n",
              "65                                전망은 좋지만 비싼  ...    2017년 4월 • 개인\n",
              "\n",
              "[30 rows x 4 columns]"
            ]
          },
          "metadata": {},
          "execution_count": 113
        }
      ]
    },
    {
      "cell_type": "code",
      "metadata": {
        "colab": {
          "base_uri": "https://localhost:8080/",
          "height": 204
        },
        "id": "oAuoXqjt4A9v",
        "outputId": "f7eb7e5e-2ab7-4b39-ffaa-737b57f5f8a7"
      },
      "source": [
        "a = df['date'].str.split('•')\n",
        "\n",
        "a=a.apply(lambda x: pd.Series(x))\n",
        "\n",
        "df.insert(4,'real_date',a[0])\n",
        "df.insert(5,'type',a[1])\n",
        "\n",
        "df.head()"
      ],
      "execution_count": null,
      "outputs": [
        {
          "output_type": "execute_result",
          "data": {
            "text/html": [
              "<div>\n",
              "<style scoped>\n",
              "    .dataframe tbody tr th:only-of-type {\n",
              "        vertical-align: middle;\n",
              "    }\n",
              "\n",
              "    .dataframe tbody tr th {\n",
              "        vertical-align: top;\n",
              "    }\n",
              "\n",
              "    .dataframe thead th {\n",
              "        text-align: right;\n",
              "    }\n",
              "</style>\n",
              "<table border=\"1\" class=\"dataframe\">\n",
              "  <thead>\n",
              "    <tr style=\"text-align: right;\">\n",
              "      <th></th>\n",
              "      <th>review_title</th>\n",
              "      <th>review</th>\n",
              "      <th>score</th>\n",
              "      <th>date</th>\n",
              "      <th>real_date</th>\n",
              "      <th>type</th>\n",
              "    </tr>\n",
              "  </thead>\n",
              "  <tbody>\n",
              "    <tr>\n",
              "      <th>0</th>\n",
              "      <td>삼성...</td>\n",
              "      <td>박물관과 전시에 관심이 있다면 반드시 찾아가야 할 곳입니다. 개별 유물과 미술품의 ...</td>\n",
              "      <td>풍선 5개 중 4.0</td>\n",
              "      <td>2019년 4월 • 개인</td>\n",
              "      <td>2019년 4월</td>\n",
              "      <td>개인</td>\n",
              "    </tr>\n",
              "    <tr>\n",
              "      <th>1</th>\n",
              "      <td>삼성가의 자랑</td>\n",
              "      <td>삼성에서 하는 미술관이다보니 전체적으로 건물도 내부도 좋아요,.\\n'언덕에 있지만 ...</td>\n",
              "      <td>풍선 5개 중 3.0</td>\n",
              "      <td>2019년 11월</td>\n",
              "      <td>2019년 11월</td>\n",
              "      <td>NaN</td>\n",
              "    </tr>\n",
              "    <tr>\n",
              "      <th>2</th>\n",
              "      <td>삼성에서 운영 중인 미술관</td>\n",
              "      <td>한국, 그 중 서울을 대표하는 미술관 중 하나이다. 삼성에서 소유하고 있는 미술관으...</td>\n",
              "      <td>풍선 5개 중 5.0</td>\n",
              "      <td>2019년 9월</td>\n",
              "      <td>2019년 9월</td>\n",
              "      <td>NaN</td>\n",
              "    </tr>\n",
              "    <tr>\n",
              "      <th>3</th>\n",
              "      <td>가끔 방문할만한 곳</td>\n",
              "      <td>가끔 좋은 기획전을 하면 들르기 좋은 곳이다. 주위에 한강진 맛집, 카페도 가고 이...</td>\n",
              "      <td>풍선 5개 중 4.0</td>\n",
              "      <td>2019년 3월 • 친구</td>\n",
              "      <td>2019년 3월</td>\n",
              "      <td>친구</td>\n",
              "    </tr>\n",
              "    <tr>\n",
              "      <th>4</th>\n",
              "      <td>구경거리 많아요</td>\n",
              "      <td>외국인 친구랑 갔는데 재밌게 구경하고 왔네요~\\n모던한 작품들도 많고 한국적인 작품...</td>\n",
              "      <td>풍선 5개 중 4.0</td>\n",
              "      <td>2019년 6월 • 가족</td>\n",
              "      <td>2019년 6월</td>\n",
              "      <td>가족</td>\n",
              "    </tr>\n",
              "  </tbody>\n",
              "</table>\n",
              "</div>"
            ],
            "text/plain": [
              "     review_title  ... type\n",
              "0           삼성...  ...   개인\n",
              "1         삼성가의 자랑  ...  NaN\n",
              "2  삼성에서 운영 중인 미술관  ...  NaN\n",
              "3      가끔 방문할만한 곳  ...   친구\n",
              "4        구경거리 많아요  ...   가족\n",
              "\n",
              "[5 rows x 6 columns]"
            ]
          },
          "metadata": {},
          "execution_count": 106
        }
      ]
    },
    {
      "cell_type": "code",
      "metadata": {
        "colab": {
          "base_uri": "https://localhost:8080/"
        },
        "id": "l0W3Qa78YYem",
        "outputId": "aad6e90b-6be5-4886-a477-c1ded700a149"
      },
      "source": [
        "df.isnull().sum()"
      ],
      "execution_count": null,
      "outputs": [
        {
          "output_type": "execute_result",
          "data": {
            "text/plain": [
              "review_title    24\n",
              "review          24\n",
              "score           24\n",
              "date            28\n",
              "real_date       28\n",
              "type            59\n",
              "dtype: int64"
            ]
          },
          "metadata": {},
          "execution_count": 107
        }
      ]
    },
    {
      "cell_type": "code",
      "metadata": {
        "id": "IGHoo2NTYdSU"
      },
      "source": [
        "df=df.dropna(how='all')"
      ],
      "execution_count": null,
      "outputs": []
    },
    {
      "cell_type": "code",
      "metadata": {
        "colab": {
          "base_uri": "https://localhost:8080/"
        },
        "id": "wLhcUE9pYc3R",
        "outputId": "9353c9b6-3122-4616-863b-3ce3a9b064c5"
      },
      "source": [
        "df.isnull().sum()"
      ],
      "execution_count": null,
      "outputs": [
        {
          "output_type": "execute_result",
          "data": {
            "text/plain": [
              "review_title     0\n",
              "review           0\n",
              "score            0\n",
              "date             4\n",
              "real_date        4\n",
              "type            35\n",
              "dtype: int64"
            ]
          },
          "metadata": {},
          "execution_count": 109
        }
      ]
    },
    {
      "cell_type": "code",
      "metadata": {
        "colab": {
          "base_uri": "https://localhost:8080/",
          "height": 204
        },
        "id": "COCL4w7LhW3q",
        "outputId": "dba5ebbe-1d23-421c-e2b5-b7fa0b526470"
      },
      "source": [
        "df.tail()"
      ],
      "execution_count": null,
      "outputs": [
        {
          "output_type": "execute_result",
          "data": {
            "text/html": [
              "<div>\n",
              "<style scoped>\n",
              "    .dataframe tbody tr th:only-of-type {\n",
              "        vertical-align: middle;\n",
              "    }\n",
              "\n",
              "    .dataframe tbody tr th {\n",
              "        vertical-align: top;\n",
              "    }\n",
              "\n",
              "    .dataframe thead th {\n",
              "        text-align: right;\n",
              "    }\n",
              "</style>\n",
              "<table border=\"1\" class=\"dataframe\">\n",
              "  <thead>\n",
              "    <tr style=\"text-align: right;\">\n",
              "      <th></th>\n",
              "      <th>review_title</th>\n",
              "      <th>review</th>\n",
              "      <th>score</th>\n",
              "      <th>date</th>\n",
              "      <th>real_date</th>\n",
              "      <th>type</th>\n",
              "    </tr>\n",
              "  </thead>\n",
              "  <tbody>\n",
              "    <tr>\n",
              "      <th>223</th>\n",
              "      <td>좋은 박물관</td>\n",
              "      <td>가운데에 있는 주거 지역. 여기서 택시를 타고 갔는데. 저는 바로 현대 전자 설명서...</td>\n",
              "      <td>풍선 5개 중 4.0</td>\n",
              "      <td>2014년 8월 • 개인</td>\n",
              "      <td>2014년 8월</td>\n",
              "      <td>개인</td>\n",
              "    </tr>\n",
              "    <tr>\n",
              "      <th>224</th>\n",
              "      <td>전에 전화가</td>\n",
              "      <td>나는 오늘 방문은 슬프게도 실망스러웠습니다. 도착했을 때는 간판이 빨리 문 닫으면 ...</td>\n",
              "      <td>풍선 5개 중 5.0</td>\n",
              "      <td>2014년 8월 • 개인</td>\n",
              "      <td>2014년 8월</td>\n",
              "      <td>개인</td>\n",
              "    </tr>\n",
              "    <tr>\n",
              "      <th>225</th>\n",
              "      <td>봐야 하는</td>\n",
              "      <td>누구나 몸이 예술 및 건축 가야한다. 찾기도 무척 쉽고 - 당장 지하철 - 및 봉제...</td>\n",
              "      <td>풍선 5개 중 5.0</td>\n",
              "      <td>2014년 6월 • 비지니스</td>\n",
              "      <td>2014년 6월</td>\n",
              "      <td>비지니스</td>\n",
              "    </tr>\n",
              "    <tr>\n",
              "      <th>226</th>\n",
              "      <td>재미있 는 현대 미술</td>\n",
              "      <td>지하철 역 에서 조금 만 걸어가 면, 리움 박물관 은 꼭 가보 아야지 하 ㄹ 곳 은...</td>\n",
              "      <td>풍선 5개 중 5.0</td>\n",
              "      <td>2014년 5월 • 개인</td>\n",
              "      <td>2014년 5월</td>\n",
              "      <td>개인</td>\n",
              "    </tr>\n",
              "    <tr>\n",
              "      <th>227</th>\n",
              "      <td>멋진 박물관</td>\n",
              "      <td>이 아키텍처, 야외, 전통과 현대 미술 의 조합.\\n\\n안 좋았던 점: 아무것도!</td>\n",
              "      <td>풍선 5개 중 5.0</td>\n",
              "      <td>2013년 11월 • 커플</td>\n",
              "      <td>2013년 11월</td>\n",
              "      <td>커플</td>\n",
              "    </tr>\n",
              "  </tbody>\n",
              "</table>\n",
              "</div>"
            ],
            "text/plain": [
              "    review_title  ...   type\n",
              "223       좋은 박물관  ...     개인\n",
              "224       전에 전화가  ...     개인\n",
              "225        봐야 하는  ...   비지니스\n",
              "226  재미있 는 현대 미술  ...     개인\n",
              "227       멋진 박물관  ...     커플\n",
              "\n",
              "[5 rows x 6 columns]"
            ]
          },
          "metadata": {},
          "execution_count": 110
        }
      ]
    },
    {
      "cell_type": "code",
      "metadata": {
        "id": "7VN8JWCEYqvl"
      },
      "source": [
        "df.to_csv('Seoul_Sky.csv',header=True, index=False, encoding='utf-8-sig')"
      ],
      "execution_count": null,
      "outputs": []
    }
  ]
}