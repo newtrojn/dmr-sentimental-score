{
 "cells": [
  {
   "cell_type": "code",
   "execution_count": 1,
   "id": "7cd86a82",
   "metadata": {},
   "outputs": [],
   "source": [
    "import tomotopy as tp\n",
    "import numpy as np\n",
    "import pandas as pd\n",
    "import re\n",
    "import os\n",
    "import time\n",
    "import itertools\n",
    "import konlpy\n",
    "from kiwipiepy import Kiwi\n",
    "from hanspell import spell_checker\n",
    "from tqdm import tqdm\n",
    "import matplotlib.pyplot as plt\n",
    "import matplotlib.ticker as ticker\n",
    "import pyLDAvis\n"
   ]
  },
  {
   "cell_type": "code",
   "execution_count": 2,
   "id": "f1d37b14",
   "metadata": {
    "scrolled": true
   },
   "outputs": [
    {
     "name": "stdout",
     "output_type": "stream",
     "text": [
      "<class 'pandas.core.frame.DataFrame'>\n",
      "RangeIndex: 5035 entries, 0 to 5034\n",
      "Data columns (total 8 columns):\n",
      " #   Column        Non-Null Count  Dtype \n",
      "---  ------        --------------  ----- \n",
      " 0   review_title  5035 non-null   object\n",
      " 1   review        5035 non-null   object\n",
      " 2   score         5035 non-null   object\n",
      " 3   real_date     5035 non-null   object\n",
      " 4   year          5035 non-null   int64 \n",
      " 5   month         5035 non-null   int64 \n",
      " 6   type          4558 non-null   object\n",
      " 7   dataset       4966 non-null   object\n",
      "dtypes: int64(2), object(6)\n",
      "memory usage: 314.8+ KB\n"
     ]
    },
    {
     "name": "stderr",
     "output_type": "stream",
     "text": [
      "C:\\Users\\jenny\\AppData\\Local\\Temp/ipykernel_24608/3728096588.py:1: DeprecationWarning: `np.str` is a deprecated alias for the builtin `str`. To silence this warning, use `str` by itself. Doing this will not modify any behavior and is safe. If you specifically wanted the numpy scalar type, use `np.str_` here.\n",
      "Deprecated in NumPy 1.20; for more details and guidance: https://numpy.org/devdocs/release/1.20.0-notes.html#deprecations\n",
      "  df=pd.read_csv('secondary.csv',encoding='utf-8-sig',header=0, dtype={'score':np.str})\n"
     ]
    }
   ],
   "source": [
    "df=pd.read_csv('secondary.csv',encoding='utf-8-sig',header=0, dtype={'score':np.str})\n",
    "df.info()"
   ]
  },
  {
   "cell_type": "code",
   "execution_count": 3,
   "id": "8b11a13d",
   "metadata": {},
   "outputs": [
    {
     "data": {
      "text/plain": [
       "array([' 친구', ' 커플', nan, ' 비지니스', ' 개인', ' 가족'], dtype=object)"
      ]
     },
     "execution_count": 3,
     "metadata": {},
     "output_type": "execute_result"
    }
   ],
   "source": [
    "df['type'].unique()"
   ]
  },
  {
   "cell_type": "code",
   "execution_count": 4,
   "id": "9bb8e2a5",
   "metadata": {},
   "outputs": [],
   "source": [
    "for i in range(len(df)):\n",
    "    if df.iloc[i,6] in [' 친구',' 가족',' 커플']:\n",
    "        df.iloc[i,6] = 'no_solo'\n",
    "    elif df.iloc[i,6] in [' 비지니스', np.NaN]:\n",
    "        df.iloc[i,6] = np.NaN\n",
    "    elif df.iloc[i,6] in [' 개인']:\n",
    "        df.iloc[i,6]='solo'"
   ]
  },
  {
   "cell_type": "code",
   "execution_count": 5,
   "id": "7f75caac",
   "metadata": {
    "scrolled": true
   },
   "outputs": [
    {
     "data": {
      "text/plain": [
       "array(['no_solo', nan, 'solo'], dtype=object)"
      ]
     },
     "execution_count": 5,
     "metadata": {},
     "output_type": "execute_result"
    }
   ],
   "source": [
    "df['type'].unique()"
   ]
  },
  {
   "cell_type": "code",
   "execution_count": 6,
   "id": "a5b95b57",
   "metadata": {},
   "outputs": [
    {
     "name": "stdout",
     "output_type": "stream",
     "text": [
      "<class 'pandas.core.frame.DataFrame'>\n",
      "Int64Index: 4293 entries, 0 to 5034\n",
      "Data columns (total 8 columns):\n",
      " #   Column        Non-Null Count  Dtype \n",
      "---  ------        --------------  ----- \n",
      " 0   review_title  4293 non-null   object\n",
      " 1   review        4293 non-null   object\n",
      " 2   score         4293 non-null   object\n",
      " 3   real_date     4293 non-null   object\n",
      " 4   year          4293 non-null   int64 \n",
      " 5   month         4293 non-null   int64 \n",
      " 6   type          4293 non-null   object\n",
      " 7   dataset       4233 non-null   object\n",
      "dtypes: int64(2), object(6)\n",
      "memory usage: 301.9+ KB\n"
     ]
    }
   ],
   "source": [
    "df.dropna(subset=['type'], how='any', inplace=True)\n",
    "df.info()"
   ]
  },
  {
   "cell_type": "code",
   "execution_count": 7,
   "id": "f24a8613",
   "metadata": {},
   "outputs": [],
   "source": [
    "#솔로/비솔로 데이터 구분\n",
    "#비솔로\n",
    "condition = (df.type=='no_solo')\n",
    "df2=df.loc[condition]"
   ]
  },
  {
   "cell_type": "code",
   "execution_count": 8,
   "id": "5ba1fbbf",
   "metadata": {},
   "outputs": [
    {
     "name": "stdout",
     "output_type": "stream",
     "text": [
      "<class 'pandas.core.frame.DataFrame'>\n",
      "Int64Index: 3611 entries, 0 to 5034\n",
      "Data columns (total 8 columns):\n",
      " #   Column        Non-Null Count  Dtype \n",
      "---  ------        --------------  ----- \n",
      " 0   review_title  3611 non-null   object\n",
      " 1   review        3611 non-null   object\n",
      " 2   score         3611 non-null   object\n",
      " 3   real_date     3611 non-null   object\n",
      " 4   year          3611 non-null   int64 \n",
      " 5   month         3611 non-null   int64 \n",
      " 6   type          3611 non-null   object\n",
      " 7   dataset       3558 non-null   object\n",
      "dtypes: int64(2), object(6)\n",
      "memory usage: 253.9+ KB\n"
     ]
    }
   ],
   "source": [
    "df2.info()"
   ]
  },
  {
   "cell_type": "code",
   "execution_count": 9,
   "id": "55a4b5ea",
   "metadata": {},
   "outputs": [
    {
     "name": "stdout",
     "output_type": "stream",
     "text": [
      "<class 'pandas.core.frame.DataFrame'>\n",
      "Int64Index: 3558 entries, 0 to 5034\n",
      "Data columns (total 8 columns):\n",
      " #   Column        Non-Null Count  Dtype \n",
      "---  ------        --------------  ----- \n",
      " 0   review_title  3558 non-null   object\n",
      " 1   review        3558 non-null   object\n",
      " 2   score         3558 non-null   object\n",
      " 3   real_date     3558 non-null   object\n",
      " 4   year          3558 non-null   int64 \n",
      " 5   month         3558 non-null   int64 \n",
      " 6   type          3558 non-null   object\n",
      " 7   dataset       3558 non-null   object\n",
      "dtypes: int64(2), object(6)\n",
      "memory usage: 250.2+ KB\n"
     ]
    },
    {
     "name": "stderr",
     "output_type": "stream",
     "text": [
      "C:\\Users\\jenny\\anaconda3\\lib\\site-packages\\pandas\\util\\_decorators.py:311: SettingWithCopyWarning: \n",
      "A value is trying to be set on a copy of a slice from a DataFrame\n",
      "\n",
      "See the caveats in the documentation: https://pandas.pydata.org/pandas-docs/stable/user_guide/indexing.html#returning-a-view-versus-a-copy\n",
      "  return func(*args, **kwargs)\n"
     ]
    }
   ],
   "source": [
    "df2.dropna(subset=['dataset'], how='any', inplace=True)\n",
    "df2.info()"
   ]
  },
  {
   "cell_type": "code",
   "execution_count": 10,
   "id": "75c84dac",
   "metadata": {},
   "outputs": [],
   "source": [
    "#응집도 계산 전 사용할 토크나이저 함수 정의\n",
    "\n",
    "import konlpy\n",
    "stop_list=['우리','함께','있습니다']\n",
    "def tokenize_korean_text(text):\n",
    "    text = re.sub(r'[^,.?!\\w\\s]','', text)\n",
    "    \n",
    "    okt = konlpy.tag.Okt()\n",
    "    Okt_morphs = okt.pos(text)\n",
    "    \n",
    "    words = []\n",
    "    for word, pos in Okt_morphs:\n",
    "        if not pos == 'Josa' and not pos =='Punctuation' and not pos =='Foreign' and len(word) > 1 and word not in stop_list :\n",
    "            words.append(word)\n",
    "    ## word를 이어붙인 string 형태가 아닌 word의 list를 return해주는 게 sklearn lda 준비 과정과의 차이\n",
    "            \n",
    "    return words"
   ]
  },
  {
   "cell_type": "code",
   "execution_count": 11,
   "id": "8a2fd679",
   "metadata": {},
   "outputs": [],
   "source": [
    "#솔로 데이터 토큰화\n",
    "tokenized_list_no = []\n",
    "a=df2['dataset'].values\n",
    "for text in range(len(a)):\n",
    "    tokenized_list_no.append(tokenize_korean_text(a[text]))"
   ]
  },
  {
   "cell_type": "code",
   "execution_count": 12,
   "id": "30ba9c07",
   "metadata": {
    "scrolled": true
   },
   "outputs": [
    {
     "name": "stdout",
     "output_type": "stream",
     "text": [
      "Total docs: 3558\n",
      "Total words: 82828\n",
      "Vocab size: 1913\n"
     ]
    }
   ],
   "source": [
    "#솔로\n",
    "model = tp.DMRModel(k=20, alpha=0.1, eta=0.01, min_cf=6,rm_top=3,tw=tp.TermWeight.IDF)\n",
    "\n",
    "key=df2['score'].values\n",
    "value=tokenized_list_no\n",
    "\n",
    "\n",
    "for pairs in zip(key, value):\n",
    "    try :\n",
    "        model.add_doc(pairs[1],metadata=pairs[0]) # tokenize함수를 이용해 전처리한 결과를 add_doc에 넣습니다.\n",
    "    except RuntimeError :\n",
    "        pass\n",
    "        \n",
    "               \n",
    "model.train(0)\n",
    "print('Total docs:', len(model.docs))\n",
    "print('Total words:', model.num_words)\n",
    "print('Vocab size:', model.num_vocabs)\n",
    " "
   ]
  },
  {
   "cell_type": "code",
   "execution_count": 13,
   "id": "acc57850",
   "metadata": {
    "scrolled": true
   },
   "outputs": [
    {
     "name": "stdout",
     "output_type": "stream",
     "text": [
      "<Basic Info>\n",
      "| DMRModel (current version: 0.12.2)\n",
      "| 3558 docs, 82828 words\n",
      "| Total Vocabs: 10010, Used Vocabs: 1913\n",
      "| Entropy of words: 6.47635\n",
      "| Entropy of term-weighted words: 7.03530\n",
      "| Removed Vocabs: 쇼핑 있는 음식\n",
      "| Metadata of docs and its distribution\n",
      "|  5: 1533\n",
      "|  4: 1372\n",
      "|  3: 518\n",
      "|  2: 108\n",
      "|  1: 27\n",
      "|\n",
      "<Training Info>\n",
      "| Iterations: 0, Burn-in steps: 0\n",
      "| Optimization Interval: 10\n",
      "| Log-likelihood per word: -9.95401\n",
      "|\n",
      "<Initial Parameters>\n",
      "| tw: TermWeight.IDF\n",
      "| min_cf: 6 (minimum collection frequency of words)\n",
      "| min_df: 0 (minimum document frequency of words)\n",
      "| rm_top: 3 (the number of top words to be removed)\n",
      "| k: 20 (the number of topics between 1 ~ 32767)\n",
      "| alpha: [0.1] (an initial value of exponential of mean of normal distribution for `lambdas`, given as a single `float` in case of symmetric prior and as a list with length `k` of `float` in case of asymmetric prior.)\n",
      "| eta: 0.01 (hyperparameter of Dirichlet distribution for topic - word)\n",
      "| sigma: 1.0 (standard deviation of normal distribution for `lambdas`)\n",
      "| alpha_epsilon: 1e-10 (small smoothing value for preventing `exp(lambdas)` to be near zero)\n",
      "| seed: 1752163405 (random seed)\n",
      "| trained in version 0.12.2\n",
      "|\n",
      "<Parameters>\n",
      "| lambda (feature vector per metadata of documents)\n",
      "|  [[[-2.3025851]\n",
      "|    [-2.3025851]\n",
      "|    [-2.3025851]\n",
      "|    [-2.3025851]\n",
      "|    [-2.3025851]]\n",
      "|  \n",
      "|   [[-2.3025851]\n",
      "|    [-2.3025851]\n",
      "|    [-2.3025851]\n",
      "|    [-2.3025851]\n",
      "|    [-2.3025851]]\n",
      "|  \n",
      "|   [[-2.3025851]\n",
      "|    [-2.3025851]\n",
      "|    [-2.3025851]\n",
      "|    [-2.3025851]\n",
      "|    [-2.3025851]]\n",
      "|  \n",
      "|   [[-2.3025851]\n",
      "|    [-2.3025851]\n",
      "|    [-2.3025851]\n",
      "|    [-2.3025851]\n",
      "|    [-2.3025851]]\n",
      "|  \n",
      "|   [[-2.3025851]\n",
      "|    [-2.3025851]\n",
      "|    [-2.3025851]\n",
      "|    [-2.3025851]\n",
      "|    [-2.3025851]]\n",
      "|  \n",
      "|   [[-2.3025851]\n",
      "|    [-2.3025851]\n",
      "|    [-2.3025851]\n",
      "|    [-2.3025851]\n",
      "|    [-2.3025851]]\n",
      "|  \n",
      "|   [[-2.3025851]\n",
      "|    [-2.3025851]\n",
      "|    [-2.3025851]\n",
      "|    [-2.3025851]\n",
      "|    [-2.3025851]]\n",
      "|  \n",
      "|   [[-2.3025851]\n",
      "|    [-2.3025851]\n",
      "|    [-2.3025851]\n",
      "|    [-2.3025851]\n",
      "|    [-2.3025851]]\n",
      "|  \n",
      "|   [[-2.3025851]\n",
      "|    [-2.3025851]\n",
      "|    [-2.3025851]\n",
      "|    [-2.3025851]\n",
      "|    [-2.3025851]]\n",
      "|  \n",
      "|   [[-2.3025851]\n",
      "|    [-2.3025851]\n",
      "|    [-2.3025851]\n",
      "|    [-2.3025851]\n",
      "|    [-2.3025851]]\n",
      "|  \n",
      "|   [[-2.3025851]\n",
      "|    [-2.3025851]\n",
      "|    [-2.3025851]\n",
      "|    [-2.3025851]\n",
      "|    [-2.3025851]]\n",
      "|  \n",
      "|   [[-2.3025851]\n",
      "|    [-2.3025851]\n",
      "|    [-2.3025851]\n",
      "|    [-2.3025851]\n",
      "|    [-2.3025851]]\n",
      "|  \n",
      "|   [[-2.3025851]\n",
      "|    [-2.3025851]\n",
      "|    [-2.3025851]\n",
      "|    [-2.3025851]\n",
      "|    [-2.3025851]]\n",
      "|  \n",
      "|   [[-2.3025851]\n",
      "|    [-2.3025851]\n",
      "|    [-2.3025851]\n",
      "|    [-2.3025851]\n",
      "|    [-2.3025851]]\n",
      "|  \n",
      "|   [[-2.3025851]\n",
      "|    [-2.3025851]\n",
      "|    [-2.3025851]\n",
      "|    [-2.3025851]\n",
      "|    [-2.3025851]]\n",
      "|  \n",
      "|   [[-2.3025851]\n",
      "|    [-2.3025851]\n",
      "|    [-2.3025851]\n",
      "|    [-2.3025851]\n",
      "|    [-2.3025851]]\n",
      "|  \n",
      "|   [[-2.3025851]\n",
      "|    [-2.3025851]\n",
      "|    [-2.3025851]\n",
      "|    [-2.3025851]\n",
      "|    [-2.3025851]]\n",
      "|  \n",
      "|   [[-2.3025851]\n",
      "|    [-2.3025851]\n",
      "|    [-2.3025851]\n",
      "|    [-2.3025851]\n",
      "|    [-2.3025851]]\n",
      "|  \n",
      "|   [[-2.3025851]\n",
      "|    [-2.3025851]\n",
      "|    [-2.3025851]\n",
      "|    [-2.3025851]\n",
      "|    [-2.3025851]]\n",
      "|  \n",
      "|   [[-2.3025851]\n",
      "|    [-2.3025851]\n",
      "|    [-2.3025851]\n",
      "|    [-2.3025851]\n",
      "|    [-2.3025851]]]\n",
      "| alpha (Dirichlet prior on the per-document topic distributions for each metadata)\n",
      "|  5: [0.09999999 0.09999999 0.09999999 0.09999999 0.09999999 0.09999999\n",
      "|     0.09999999 0.09999999 0.09999999 0.09999999 0.09999999 0.09999999\n",
      "|     0.09999999 0.09999999 0.09999999 0.09999999 0.09999999 0.09999999\n",
      "|     0.09999999 0.09999999]\n",
      "|  4: [0.09999999 0.09999999 0.09999999 0.09999999 0.09999999 0.09999999\n",
      "|     0.09999999 0.09999999 0.09999999 0.09999999 0.09999999 0.09999999\n",
      "|     0.09999999 0.09999999 0.09999999 0.09999999 0.09999999 0.09999999\n",
      "|     0.09999999 0.09999999]\n",
      "|  3: [0.09999999 0.09999999 0.09999999 0.09999999 0.09999999 0.09999999\n",
      "|     0.09999999 0.09999999 0.09999999 0.09999999 0.09999999 0.09999999\n",
      "|     0.09999999 0.09999999 0.09999999 0.09999999 0.09999999 0.09999999\n",
      "|     0.09999999 0.09999999]\n",
      "|  2: [0.09999999 0.09999999 0.09999999 0.09999999 0.09999999 0.09999999\n",
      "|     0.09999999 0.09999999 0.09999999 0.09999999 0.09999999 0.09999999\n",
      "|     0.09999999 0.09999999 0.09999999 0.09999999 0.09999999 0.09999999\n",
      "|     0.09999999 0.09999999]\n",
      "|  1: [0.09999999 0.09999999 0.09999999 0.09999999 0.09999999 0.09999999\n",
      "|     0.09999999 0.09999999 0.09999999 0.09999999 0.09999999 0.09999999\n",
      "|     0.09999999 0.09999999 0.09999999 0.09999999 0.09999999 0.09999999\n",
      "|     0.09999999 0.09999999]\n",
      "| eta (Dirichlet prior on the per-topic word distribution)\n",
      "|  0.01\n",
      "|\n",
      "<Topics>\n",
      "| #0 (4027) : 좋은 길거리 거리 사람 한국\n",
      "| #1 (4163) : 많은 좋은 거리 상점 사람\n",
      "| #2 (4043) : 좋은 한국 거리 명동 많은\n",
      "| #3 (4157) : 거리 많은 좋은 사람 합니다\n",
      "| #4 (4254) : 사람 많은 거리 서울 가게\n",
      "| #5 (4175) : 거리 많은 좋은 명동 사람\n",
      "| #6 (4106) : 거리 좋은 한국 명동 상점\n",
      "| #7 (4125) : 명동 많은 인사동 가게 거리\n",
      "| #8 (4144) : 한국 사람 많은 좋은 가격\n",
      "| #9 (4042) : 많은 거리 사람 명동 하는\n",
      "| #10 (4126) : 거리 상점 사람 좋은 서울\n",
      "| #11 (4098) : 많은 사람 좋은 서울 명동\n",
      "| #12 (4239) : 많은 좋은 사람 거리 길거리\n",
      "| #13 (4181) : 사람 가게 거리 좋은 한국\n",
      "| #14 (4226) : 많은 좋은 거리 다양한 하는\n",
      "| #15 (4065) : 한국 많은 사람 거리 전통\n",
      "| #16 (4105) : 거리 좋은 한국 사람 많이\n",
      "| #17 (4230) : 많은 한국 거리 좋은 길거리\n",
      "| #18 (4255) : 거리 많은 모든 좋은 전통\n",
      "| #19 (4067) : 거리 명동 한국 좋은 입니다\n",
      "|\n",
      "\n"
     ]
    }
   ],
   "source": [
    "model.summary()"
   ]
  },
  {
   "cell_type": "code",
   "execution_count": 14,
   "id": "86d2b426",
   "metadata": {
    "scrolled": true
   },
   "outputs": [
    {
     "name": "stdout",
     "output_type": "stream",
     "text": [
      "==== Coherence : c ====\n",
      "Average: 0.43201761117205023 \n",
      "Per Topic: [0.44119485914707185, 0.453076496720314, 0.4633562296628952, 0.4671964108943939, 0.44317684769630433, 0.4375645726919174, 0.4597212910652161, 0.4108893912285566, 0.41359536051750184, 0.38313761055469514, 0.42497696578502653, 0.41316273659467695, 0.4015722021460533, 0.42826552093029024, 0.4352781504392624, 0.44621976017951964, 0.43092699646949767, 0.4405112683773041, 0.4102330893278122, 0.4362964630126953]\n"
     ]
    },
    {
     "data": {
      "image/png": "[encoded data removed]",
      "text/plain": [
       "<Figure size 432x288 with 1 Axes>"
      ]
     },
     "metadata": {
      "needs_background": "light"
     },
     "output_type": "display_data"
    },
    {
     "name": "stdout",
     "output_type": "stream",
     "text": [
      "\n"
     ]
    }
   ],
   "source": [
    "# calculate coherence using preset\n",
    "ax=plt.axes()\n",
    "coh = tp.coherence.Coherence(model, coherence='c_v')\n",
    "average_coherence = coh.get_score()\n",
    "coherence_per_topic = [coh.get_score(topic_id=k) for k in range(model.k)]\n",
    "print('==== Coherence : c ====')\n",
    "print('Average:', average_coherence, '\\nPer Topic:', coherence_per_topic)\n",
    "x=range(1,21,1)\n",
    "plt.plot(x, coherence_per_topic,marker='o')\n",
    "plt.xlabel(\"num_topics\")\n",
    "plt.ylabel(\"coherence\")\n",
    "ax.xaxis.set_major_locator(ticker.MultipleLocator(5))\n",
    "ax.xaxis.set_minor_locator(ticker.MultipleLocator(1))\n",
    "plt.show()\n",
    "print()"
   ]
  },
  {
   "cell_type": "markdown",
   "id": "2757602c",
   "metadata": {},
   "source": [
    "위 결과에서 14개일 때 가장 높은 응집도를 보였기 때문에 토픽을 14개로 설정하였다."
   ]
  },
  {
   "cell_type": "code",
   "execution_count": 15,
   "id": "fce23065",
   "metadata": {
    "scrolled": true
   },
   "outputs": [
    {
     "name": "stdout",
     "output_type": "stream",
     "text": [
      "Total docs: 3558\n",
      "Total words: 82828\n",
      "Vocab size: 1913\n",
      "Topic #0\t외국인, 사람, 너무, 구경, 먹거리, 거리, 많고, 많이, 많아서, 전통\n",
      "Topic #1\t좋은, 기념품, 인사동, 가게, 많은, 상점, 지역, 가격, 전통, 한국\n",
      "Topic #2\t많은, 모든, 상점, 좋은, 제품, 길거리, 지역, 거리, 화장품, 경우\n"
     ]
    }
   ],
   "source": [
    "#토픽수 정하고 솔로 분석\n",
    "model = tp.DMRModel(k=3, alpha=0.1, eta=0.01, min_cf=6,rm_top=3,tw=tp.TermWeight.IDF)\n",
    "\n",
    "key=df2['score'].values\n",
    "value=tokenized_list_no\n",
    "\n",
    "for pairs in zip(key, value):\n",
    "    try :\n",
    "        model.add_doc(pairs[1],metadata=pairs[0]) # tokenize함수를 이용해 전처리한 결과를 add_doc에 넣습니다.\n",
    "    except RuntimeError :\n",
    "        pass\n",
    "\n",
    "model.train(0)\n",
    "print('Total docs:', len(model.docs))\n",
    "print('Total words:', model.num_words)\n",
    "print('Vocab size:', model.num_vocabs)\n",
    " \n",
    " \n",
    " \n",
    "for i in range(200):\n",
    "    model.train(1)\n",
    "    \n",
    "for i in range(model.k):\n",
    "    res = model.get_topic_words(i, top_n=10)\n",
    "    print('Topic #{}'.format(i), end='\\t')\n",
    "    print(', '.join(w for w, p in res))"
   ]
  },
  {
   "cell_type": "code",
   "execution_count": 16,
   "id": "322351f5",
   "metadata": {
    "scrolled": true
   },
   "outputs": [
    {
     "name": "stdout",
     "output_type": "stream",
     "text": [
      "<Basic Info>\n",
      "| DMRModel (current version: 0.12.2)\n",
      "| 3558 docs, 82828 words\n",
      "| Total Vocabs: 10010, Used Vocabs: 1913\n",
      "| Entropy of words: 6.47635\n",
      "| Entropy of term-weighted words: 7.03530\n",
      "| Removed Vocabs: 쇼핑 있는 음식\n",
      "| Metadata of docs and its distribution\n",
      "|  5: 1533\n",
      "|  4: 1372\n",
      "|  3: 518\n",
      "|  2: 108\n",
      "|  1: 27\n",
      "|\n",
      "<Training Info>\n",
      "| Iterations: 200, Burn-in steps: 0\n",
      "| Optimization Interval: 10\n",
      "| Log-likelihood per word: -7.07776\n",
      "|\n",
      "<Initial Parameters>\n",
      "| tw: TermWeight.IDF\n",
      "| min_cf: 6 (minimum collection frequency of words)\n",
      "| min_df: 0 (minimum document frequency of words)\n",
      "| rm_top: 3 (the number of top words to be removed)\n",
      "| k: 3 (the number of topics between 1 ~ 32767)\n",
      "| alpha: [0.1] (an initial value of exponential of mean of normal distribution for `lambdas`, given as a single `float` in case of symmetric prior and as a list with length `k` of `float` in case of asymmetric prior.)\n",
      "| eta: 0.01 (hyperparameter of Dirichlet distribution for topic - word)\n",
      "| sigma: 1.0 (standard deviation of normal distribution for `lambdas`)\n",
      "| alpha_epsilon: 1e-10 (small smoothing value for preventing `exp(lambdas)` to be near zero)\n",
      "| seed: 2341132958 (random seed)\n",
      "| trained in version 0.12.2\n",
      "|\n",
      "<Parameters>\n",
      "| lambda (feature vector per metadata of documents)\n",
      "|  [[[-1.870691 ]\n",
      "|    [-2.9650428]\n",
      "|    [-2.6068108]\n",
      "|    [-4.315031 ]\n",
      "|    [-2.318277 ]]\n",
      "|  \n",
      "|   [[-1.4504722]\n",
      "|    [-2.0466459]\n",
      "|    [-4.046615 ]\n",
      "|    [-2.805427 ]\n",
      "|    [-2.227694 ]]\n",
      "|  \n",
      "|   [[-1.8079584]\n",
      "|    [-2.0973446]\n",
      "|    [-2.2061121]\n",
      "|    [-4.2491403]\n",
      "|    [-3.9785225]]]\n",
      "| alpha (Dirichlet prior on the per-document topic distributions for each metadata)\n",
      "|  5: [0.15401721 0.23445955 0.1639886 ]\n",
      "|  4: [0.05155826 0.12916742 0.12278203]\n",
      "|  3: [0.07376944 0.01748145 0.11012798]\n",
      "|  2: [0.01336613 0.06048094 0.0142765 ]\n",
      "|  1: [0.09844307 0.10777667 0.01871327]\n",
      "| eta (Dirichlet prior on the per-topic word distribution)\n",
      "|  0.01\n",
      "|\n",
      "<Topics>\n",
      "| #0 (22624) : 외국인 사람 너무 구경 먹거리\n",
      "| #1 (28636) : 좋은 기념품 인사동 가게 많은\n",
      "| #2 (31568) : 많은 모든 상점 좋은 제품\n",
      "|\n",
      "\n"
     ]
    }
   ],
   "source": [
    "model.summary()"
   ]
  },
  {
   "cell_type": "code",
   "execution_count": 17,
   "id": "3e231b8e",
   "metadata": {
    "scrolled": true
   },
   "outputs": [
    {
     "name": "stdout",
     "output_type": "stream",
     "text": [
      "Topic distributions by score, solo\n"
     ]
    },
    {
     "data": {
      "text/html": [
       "<div>\n",
       "<style scoped>\n",
       "    .dataframe tbody tr th:only-of-type {\n",
       "        vertical-align: middle;\n",
       "    }\n",
       "\n",
       "    .dataframe tbody tr th {\n",
       "        vertical-align: top;\n",
       "    }\n",
       "\n",
       "    .dataframe thead th {\n",
       "        text-align: right;\n",
       "    }\n",
       "</style>\n",
       "<table border=\"1\" class=\"dataframe\">\n",
       "  <thead>\n",
       "    <tr style=\"text-align: right;\">\n",
       "      <th></th>\n",
       "      <th>1score</th>\n",
       "      <th>2score</th>\n",
       "      <th>3score</th>\n",
       "      <th>4score</th>\n",
       "      <th>5score</th>\n",
       "      <th>total</th>\n",
       "      <th>re_score</th>\n",
       "    </tr>\n",
       "  </thead>\n",
       "  <tbody>\n",
       "    <tr>\n",
       "      <th>0</th>\n",
       "      <td>0.098443</td>\n",
       "      <td>0.013366</td>\n",
       "      <td>0.073769</td>\n",
       "      <td>0.051558</td>\n",
       "      <td>0.154017</td>\n",
       "      <td>0.391154</td>\n",
       "      <td>3.381794</td>\n",
       "    </tr>\n",
       "    <tr>\n",
       "      <th>1</th>\n",
       "      <td>0.107777</td>\n",
       "      <td>0.060481</td>\n",
       "      <td>0.017481</td>\n",
       "      <td>0.129167</td>\n",
       "      <td>0.234460</td>\n",
       "      <td>0.549366</td>\n",
       "      <td>3.586225</td>\n",
       "    </tr>\n",
       "    <tr>\n",
       "      <th>2</th>\n",
       "      <td>0.018713</td>\n",
       "      <td>0.014277</td>\n",
       "      <td>0.110128</td>\n",
       "      <td>0.122782</td>\n",
       "      <td>0.163989</td>\n",
       "      <td>0.429888</td>\n",
       "      <td>3.928279</td>\n",
       "    </tr>\n",
       "  </tbody>\n",
       "</table>\n",
       "</div>"
      ],
      "text/plain": [
       "     1score    2score    3score    4score    5score     total  re_score\n",
       "0  0.098443  0.013366  0.073769  0.051558  0.154017  0.391154  3.381794\n",
       "1  0.107777  0.060481  0.017481  0.129167  0.234460  0.549366  3.586225\n",
       "2  0.018713  0.014277  0.110128  0.122782  0.163989  0.429888  3.928279"
      ]
     },
     "execution_count": 17,
     "metadata": {},
     "output_type": "execute_result"
    }
   ],
   "source": [
    "#솔로 감성점수 계산\n",
    "print('Topic distributions by score, solo')\n",
    "\n",
    "df4=pd.DataFrame()\n",
    "score_labels=['1','2','3','4','5']\n",
    "\n",
    "for i in score_labels:\n",
    "    df4[i+'score']=model.get_topic_prior(i)\n",
    "df4['total']=df4.sum(axis=1)\n",
    "\n",
    "total_sum=df4['total'].values\n",
    "gamsung_sum=0\n",
    "gamsung_list=[]\n",
    "\n",
    "for i in range(model.k):\n",
    "    a=df4.iloc[i,:-1].values\n",
    "    gamsung_sum=(a[0]*1+a[1]*2+a[2]*3+a[3]*4+a[4]*5)/total_sum[i]\n",
    "    gamsung_list.append(gamsung_sum)\n",
    "    \n",
    "df4['re_score']=gamsung_list\n",
    "df4.head(20)"
   ]
  },
  {
   "cell_type": "code",
   "execution_count": 18,
   "id": "e7187651",
   "metadata": {},
   "outputs": [
    {
     "data": {
      "text/html": [
       "<div>\n",
       "<style scoped>\n",
       "    .dataframe tbody tr th:only-of-type {\n",
       "        vertical-align: middle;\n",
       "    }\n",
       "\n",
       "    .dataframe tbody tr th {\n",
       "        vertical-align: top;\n",
       "    }\n",
       "\n",
       "    .dataframe thead th {\n",
       "        text-align: right;\n",
       "    }\n",
       "</style>\n",
       "<table border=\"1\" class=\"dataframe\">\n",
       "  <thead>\n",
       "    <tr style=\"text-align: right;\">\n",
       "      <th></th>\n",
       "      <th>1score</th>\n",
       "      <th>2score</th>\n",
       "      <th>3score</th>\n",
       "      <th>4score</th>\n",
       "      <th>5score</th>\n",
       "      <th>total</th>\n",
       "      <th>re_score</th>\n",
       "      <th>word_list</th>\n",
       "    </tr>\n",
       "  </thead>\n",
       "  <tbody>\n",
       "    <tr>\n",
       "      <th>0</th>\n",
       "      <td>0.098443</td>\n",
       "      <td>0.013366</td>\n",
       "      <td>0.073769</td>\n",
       "      <td>0.051558</td>\n",
       "      <td>0.154017</td>\n",
       "      <td>0.391154</td>\n",
       "      <td>3.381794</td>\n",
       "      <td>[외국인, 사람, 너무, 구경, 먹거리, 거리, 많고, 많이, 많아서, 전통]</td>\n",
       "    </tr>\n",
       "    <tr>\n",
       "      <th>1</th>\n",
       "      <td>0.107777</td>\n",
       "      <td>0.060481</td>\n",
       "      <td>0.017481</td>\n",
       "      <td>0.129167</td>\n",
       "      <td>0.234460</td>\n",
       "      <td>0.549366</td>\n",
       "      <td>3.586225</td>\n",
       "      <td>[좋은, 기념품, 인사동, 가게, 많은, 상점, 지역, 가격, 전통, 한국]</td>\n",
       "    </tr>\n",
       "    <tr>\n",
       "      <th>2</th>\n",
       "      <td>0.018713</td>\n",
       "      <td>0.014277</td>\n",
       "      <td>0.110128</td>\n",
       "      <td>0.122782</td>\n",
       "      <td>0.163989</td>\n",
       "      <td>0.429888</td>\n",
       "      <td>3.928279</td>\n",
       "      <td>[많은, 모든, 상점, 좋은, 제품, 길거리, 지역, 거리, 화장품, 경우]</td>\n",
       "    </tr>\n",
       "  </tbody>\n",
       "</table>\n",
       "</div>"
      ],
      "text/plain": [
       "     1score    2score    3score    4score    5score     total  re_score  \\\n",
       "0  0.098443  0.013366  0.073769  0.051558  0.154017  0.391154  3.381794   \n",
       "1  0.107777  0.060481  0.017481  0.129167  0.234460  0.549366  3.586225   \n",
       "2  0.018713  0.014277  0.110128  0.122782  0.163989  0.429888  3.928279   \n",
       "\n",
       "                                     word_list  \n",
       "0  [외국인, 사람, 너무, 구경, 먹거리, 거리, 많고, 많이, 많아서, 전통]  \n",
       "1   [좋은, 기념품, 인사동, 가게, 많은, 상점, 지역, 가격, 전통, 한국]  \n",
       "2   [많은, 모든, 상점, 좋은, 제품, 길거리, 지역, 거리, 화장품, 경우]  "
      ]
     },
     "execution_count": 18,
     "metadata": {},
     "output_type": "execute_result"
    }
   ],
   "source": [
    "#각 토픽 별 상위 10개 단어 추출\n",
    "word_list=[]\n",
    "for i in range(model.k):\n",
    "    a=model.get_topic_words(i, top_n=10)\n",
    "    word_list.append([x[0] for x in a])\n",
    "\n",
    "df4['word_list']=word_list\n",
    "df4.head(15)"
   ]
  },
  {
   "cell_type": "code",
   "execution_count": 19,
   "id": "59fcad33",
   "metadata": {
    "scrolled": true
   },
   "outputs": [
    {
     "name": "stdout",
     "output_type": "stream",
     "text": [
      "== Topic #0 ==\n",
      "Labels: 외국인, 구경, 많아서, 먹거리, 많고\n",
      "외국인\t0.010998460464179516\n",
      "사람\t0.00827979575842619\n",
      "너무\t0.0081616947427392\n",
      "구경\t0.008159459568560123\n",
      "먹거리\t0.00813764613121748\n",
      "거리\t0.007972447201609612\n",
      "많고\t0.007948563434183598\n",
      "많이\t0.007182712201029062\n",
      "많아서\t0.006808917969465256\n",
      "전통\t0.006408387329429388\n",
      "\n",
      "== Topic #1 ==\n",
      "Labels: 경우, 지역, 상점, 또한, 다른\n",
      "좋은\t0.008711626753211021\n",
      "기념품\t0.007865034975111485\n",
      "인사동\t0.006851638667285442\n",
      "가게\t0.006659804377704859\n",
      "많은\t0.006442826706916094\n",
      "상점\t0.0063246143981814384\n",
      "지역\t0.006212891079485416\n",
      "가격\t0.005954726133495569\n",
      "전통\t0.005819440819323063\n",
      "한국\t0.005807673558592796\n",
      "\n",
      "== Topic #2 ==\n",
      "Labels: 경우, 또한, 모든, 지역, 상점\n",
      "많은\t0.0095104044303298\n",
      "모든\t0.00794180203229189\n",
      "상점\t0.007136486005038023\n",
      "좋은\t0.0068747359327971935\n",
      "제품\t0.006375814788043499\n",
      "길거리\t0.006335482466965914\n",
      "지역\t0.005941899958997965\n",
      "거리\t0.005795150529593229\n",
      "화장품\t0.005753632169216871\n",
      "경우\t0.005726854782551527\n",
      "\n"
     ]
    }
   ],
   "source": [
    " # extract candidates for auto topic labeling\n",
    "extractor = tp.label.PMIExtractor(min_cf=5, min_df=5, max_len=5, max_cand=10000, normalized=True)\n",
    "cands = extractor.extract(model)\n",
    "\n",
    "labeler = tp.label.FoRelevance(model, cands, min_df=5, smoothing=1e-2, mu=0.25)\n",
    "for k in range(model.k):\n",
    "    print(\"== Topic #{} ==\".format(k))\n",
    "    print(\"Labels:\", ', '.join(label for label, score in labeler.get_topic_labels(k, top_n=5)))\n",
    "    for word, prob in model.get_topic_words(k, top_n=10):\n",
    "        print(word, prob, sep='\\t')\n",
    "    print()"
   ]
  },
  {
   "cell_type": "code",
   "execution_count": 20,
   "id": "082cd52d",
   "metadata": {},
   "outputs": [
    {
     "name": "stdout",
     "output_type": "stream",
     "text": [
      "<class 'pandas.core.frame.DataFrame'>\n",
      "RangeIndex: 3558 entries, 0 to 3557\n",
      "Data columns (total 2 columns):\n",
      " #   Column  Non-Null Count  Dtype \n",
      "---  ------  --------------  ----- \n",
      " 0   docs    3558 non-null   object\n",
      " 1   score   3558 non-null   object\n",
      "dtypes: object(2)\n",
      "memory usage: 55.7+ KB\n"
     ]
    }
   ],
   "source": [
    "#빈도 구하기 전\n",
    "df5=pd.DataFrame()\n",
    "df5['docs']=tokenized_list_no\n",
    "df5['score']=df2['score'].values\n",
    "df5.info()"
   ]
  },
  {
   "cell_type": "code",
   "execution_count": 21,
   "id": "41a8690f",
   "metadata": {},
   "outputs": [
    {
     "data": {
      "text/html": [
       "<div>\n",
       "<style scoped>\n",
       "    .dataframe tbody tr th:only-of-type {\n",
       "        vertical-align: middle;\n",
       "    }\n",
       "\n",
       "    .dataframe tbody tr th {\n",
       "        vertical-align: top;\n",
       "    }\n",
       "\n",
       "    .dataframe thead th {\n",
       "        text-align: right;\n",
       "    }\n",
       "</style>\n",
       "<table border=\"1\" class=\"dataframe\">\n",
       "  <thead>\n",
       "    <tr style=\"text-align: right;\">\n",
       "      <th></th>\n",
       "      <th>docs</th>\n",
       "      <th>score</th>\n",
       "      <th>topic_num</th>\n",
       "    </tr>\n",
       "  </thead>\n",
       "  <tbody>\n",
       "    <tr>\n",
       "      <th>1</th>\n",
       "      <td>[바쁜, 젊은, 패션, 전체, 관광객, 지역, 주민, 음식, 쇼핑, 패션, 유사한,...</td>\n",
       "      <td>5</td>\n",
       "      <td>NaN</td>\n",
       "    </tr>\n",
       "    <tr>\n",
       "      <th>3</th>\n",
       "      <td>[거리, 길거리, 젊은, 대학생, 겨울, 딱히, 대부분, 점포, 판매, 여성, 소매...</td>\n",
       "      <td>3</td>\n",
       "      <td>NaN</td>\n",
       "    </tr>\n",
       "    <tr>\n",
       "      <th>20</th>\n",
       "      <td>[나쁘지, 않음, 브로, 있는, 조금, 넘게, 했습니다, 미술, 작업, 나쁘지, 않...</td>\n",
       "      <td>3</td>\n",
       "      <td>NaN</td>\n",
       "    </tr>\n",
       "    <tr>\n",
       "      <th>29</th>\n",
       "      <td>[하지, 않고, 있는, 찾을, 홍대, 놀라면, 화이트, 아웃, 계획, 가기, 했습니...</td>\n",
       "      <td>5</td>\n",
       "      <td>NaN</td>\n",
       "    </tr>\n",
       "    <tr>\n",
       "      <th>60</th>\n",
       "      <td>[여행, 추억, 대학, 묵었던, 호스텔, 있고, 놀라운, 방문, 했다, 먹을, 많고...</td>\n",
       "      <td>5</td>\n",
       "      <td>NaN</td>\n",
       "    </tr>\n",
       "    <tr>\n",
       "      <th>...</th>\n",
       "      <td>...</td>\n",
       "      <td>...</td>\n",
       "      <td>...</td>\n",
       "    </tr>\n",
       "    <tr>\n",
       "      <th>3440</th>\n",
       "      <td>[거대한, 쇼핑몰, 쇼핑, 엔터테인먼트, 레스토랑, 이는, 깨끗한, 가장, 가장, ...</td>\n",
       "      <td>4</td>\n",
       "      <td>NaN</td>\n",
       "    </tr>\n",
       "    <tr>\n",
       "      <th>3442</th>\n",
       "      <td>[많은, 선택, 잠실역, 롯데, 월드, 쇼핑몰, 통해, 쉽게, 있는, 서울역, 지하...</td>\n",
       "      <td>4</td>\n",
       "      <td>NaN</td>\n",
       "    </tr>\n",
       "    <tr>\n",
       "      <th>3455</th>\n",
       "      <td>[롯데, 월드, 타워, 인상, 전망대, 일몰, 있는, timed, tix, 샀다, ...</td>\n",
       "      <td>5</td>\n",
       "      <td>NaN</td>\n",
       "    </tr>\n",
       "    <tr>\n",
       "      <th>3547</th>\n",
       "      <td>[모든, 있다, 영화관, 쇼핑몰, 음식점, 호텔, 모든, 갖추어진, 가까워, 자주,...</td>\n",
       "      <td>5</td>\n",
       "      <td>NaN</td>\n",
       "    </tr>\n",
       "    <tr>\n",
       "      <th>3550</th>\n",
       "      <td>[모든, 있어요, 하지만, 모두, 많이, 필요해요, 정말, 대단한, 규모, 구성, ...</td>\n",
       "      <td>4</td>\n",
       "      <td>NaN</td>\n",
       "    </tr>\n",
       "  </tbody>\n",
       "</table>\n",
       "<p>104 rows × 3 columns</p>\n",
       "</div>"
      ],
      "text/plain": [
       "                                                   docs score  topic_num\n",
       "1     [바쁜, 젊은, 패션, 전체, 관광객, 지역, 주민, 음식, 쇼핑, 패션, 유사한,...     5        NaN\n",
       "3     [거리, 길거리, 젊은, 대학생, 겨울, 딱히, 대부분, 점포, 판매, 여성, 소매...     3        NaN\n",
       "20    [나쁘지, 않음, 브로, 있는, 조금, 넘게, 했습니다, 미술, 작업, 나쁘지, 않...     3        NaN\n",
       "29    [하지, 않고, 있는, 찾을, 홍대, 놀라면, 화이트, 아웃, 계획, 가기, 했습니...     5        NaN\n",
       "60    [여행, 추억, 대학, 묵었던, 호스텔, 있고, 놀라운, 방문, 했다, 먹을, 많고...     5        NaN\n",
       "...                                                 ...   ...        ...\n",
       "3440  [거대한, 쇼핑몰, 쇼핑, 엔터테인먼트, 레스토랑, 이는, 깨끗한, 가장, 가장, ...     4        NaN\n",
       "3442  [많은, 선택, 잠실역, 롯데, 월드, 쇼핑몰, 통해, 쉽게, 있는, 서울역, 지하...     4        NaN\n",
       "3455  [롯데, 월드, 타워, 인상, 전망대, 일몰, 있는, timed, tix, 샀다, ...     5        NaN\n",
       "3547  [모든, 있다, 영화관, 쇼핑몰, 음식점, 호텔, 모든, 갖추어진, 가까워, 자주,...     5        NaN\n",
       "3550  [모든, 있어요, 하지만, 모두, 많이, 필요해요, 정말, 대단한, 규모, 구성, ...     4        NaN\n",
       "\n",
       "[104 rows x 3 columns]"
      ]
     },
     "execution_count": 21,
     "metadata": {},
     "output_type": "execute_result"
    }
   ],
   "source": [
    "#빈도 구하기\n",
    "\n",
    "topic_num=[]\n",
    "temp1=[] #토픽번호\n",
    "temp2=[] #분포율\n",
    "for i in range(len(model.docs)):\n",
    "    a=model.docs[i].get_topics()\n",
    "    temp1.append([x[0] for x in a])\n",
    "    temp2.append([x[1] for x in a])\n",
    "for i in range(len(temp1)):\n",
    "    if temp2[i][0] >= 0.5:\n",
    "        topic_num.append(temp1[i][0])\n",
    "    else :\n",
    "        topic_num.append(np.NaN)\n",
    "df5['topic_num']=topic_num\n",
    "df5[df5['topic_num'].isnull()]"
   ]
  },
  {
   "cell_type": "code",
   "execution_count": 22,
   "id": "8699ca55",
   "metadata": {},
   "outputs": [
    {
     "name": "stdout",
     "output_type": "stream",
     "text": [
      "    topic_num score  counts\n",
      "0         0.0     1      19\n",
      "1         0.0     2      70\n",
      "2         0.0     3     266\n",
      "3         0.0     4     438\n",
      "4         0.0     5     373\n",
      "5         1.0     1       5\n",
      "6         1.0     2      27\n",
      "7         1.0     3     126\n",
      "8         1.0     4     415\n",
      "9         1.0     5     470\n",
      "10        2.0     1       3\n",
      "11        2.0     2       8\n",
      "12        2.0     3     107\n",
      "13        2.0     4     480\n",
      "14        2.0     5     647\n"
     ]
    }
   ],
   "source": [
    "df6=df5.groupby(['topic_num','score'])['docs']\n",
    "print(df6.size().reset_index(name='counts'))"
   ]
  },
  {
   "cell_type": "code",
   "execution_count": null,
   "id": "e371d2ab",
   "metadata": {},
   "outputs": [],
   "source": []
  }
 ],
 "metadata": {
  "kernelspec": {
   "display_name": "Python 3 (ipykernel)",
   "language": "python",
   "name": "python3"
  },
  "language_info": {
   "codemirror_mode": {
    "name": "ipython",
    "version": 3
   },
   "file_extension": ".py",
   "mimetype": "text/x-python",
   "name": "python",
   "nbconvert_exporter": "python",
   "pygments_lexer": "ipython3",
   "version": "3.8.12"
  }
 },
 "nbformat": 4,
 "nbformat_minor": 5
}
