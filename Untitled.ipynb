{
 "cells": [
  {
   "cell_type": "code",
   "execution_count": 8,
   "id": "7ce014a6",
   "metadata": {},
   "outputs": [],
   "source": [
    "import tomotopy as tp\n",
    "import numpy as np\n",
    "import pandas as pd\n",
    "import re\n",
    "import os\n",
    "import time\n",
    "import itertools\n",
    "import konlpy\n",
    "from kiwipiepy import Kiwi\n",
    "from hanspell import spell_checker\n",
    "from tqdm import tqdm\n",
    "import matplotlib.pyplot as plt\n",
    "import matplotlib.ticker as ticker\n",
    "import pyLDAvis"
   ]
  },
  {
   "cell_type": "code",
   "execution_count": 9,
   "id": "e8e74b4c",
   "metadata": {},
   "outputs": [],
   "source": [
    "forders=os.listdir('C:/Users/jenny/1115rawdata')\n",
    "\n",
    "df=pd.DataFrame()\n",
    "for files in forders:\n",
    "    if files in ['activity.csv','plus.csv','leisure2.csv','secondary.csv'] :\n",
    "        temp=pd.read_csv(files, encoding='utf-8-sig',header=0)\n",
    "        df=pd.concat([df,temp])\n",
    "    else:\n",
    "        pass"
   ]
  },
  {
   "cell_type": "code",
   "execution_count": 10,
   "id": "86819f86",
   "metadata": {},
   "outputs": [
    {
     "name": "stdout",
     "output_type": "stream",
     "text": [
      "<class 'pandas.core.frame.DataFrame'>\n",
      "Int64Index: 22886 entries, 0 to 5034\n",
      "Data columns (total 9 columns):\n",
      " #   Column        Non-Null Count  Dtype  \n",
      "---  ------        --------------  -----  \n",
      " 0   review_title  22886 non-null  object \n",
      " 1   review        22886 non-null  object \n",
      " 2   score         22886 non-null  int64  \n",
      " 3   real_date     22886 non-null  object \n",
      " 4   year          22886 non-null  float64\n",
      " 5   month         22886 non-null  float64\n",
      " 6   type          20366 non-null  object \n",
      " 7   dataset       22554 non-null  object \n",
      " 8   Unnamed: 0    12029 non-null  float64\n",
      "dtypes: float64(3), int64(1), object(5)\n",
      "memory usage: 1.7+ MB\n"
     ]
    }
   ],
   "source": [
    "df.info()"
   ]
  },
  {
   "cell_type": "code",
   "execution_count": 11,
   "id": "4fb2cf63",
   "metadata": {},
   "outputs": [
    {
     "data": {
      "text/html": [
       "<div>\n",
       "<style scoped>\n",
       "    .dataframe tbody tr th:only-of-type {\n",
       "        vertical-align: middle;\n",
       "    }\n",
       "\n",
       "    .dataframe tbody tr th {\n",
       "        vertical-align: top;\n",
       "    }\n",
       "\n",
       "    .dataframe thead th {\n",
       "        text-align: right;\n",
       "    }\n",
       "</style>\n",
       "<table border=\"1\" class=\"dataframe\">\n",
       "  <thead>\n",
       "    <tr style=\"text-align: right;\">\n",
       "      <th></th>\n",
       "      <th>review_title</th>\n",
       "      <th>review</th>\n",
       "      <th>score</th>\n",
       "      <th>real_date</th>\n",
       "      <th>year</th>\n",
       "      <th>month</th>\n",
       "      <th>type</th>\n",
       "      <th>dataset</th>\n",
       "      <th>Unnamed: 0</th>\n",
       "    </tr>\n",
       "  </thead>\n",
       "  <tbody>\n",
       "    <tr>\n",
       "      <th>0</th>\n",
       "      <td>우리 가족도 즐길 수 있는 난타!</td>\n",
       "      <td>내 가족, 포함한 14, 12, 9살 고 - 아이들은, 모든 난타 명동 극장에서 즐...</td>\n",
       "      <td>5</td>\n",
       "      <td>2015년 8월</td>\n",
       "      <td>2015.0</td>\n",
       "      <td>8.0</td>\n",
       "      <td>가족</td>\n",
       "      <td>우리 가족도 즐길 수 있는 난타! 내 가족, 포함한 14, 12, 9살 고 - 아이...</td>\n",
       "      <td>NaN</td>\n",
       "    </tr>\n",
       "    <tr>\n",
       "      <th>1</th>\n",
       "      <td>좋은 곳에 좋은 비지니스 여행객 수 없습니다.</td>\n",
       "      <td>아주 좋은 이유가 있지만 저는 업무 때문에 방문.  성능은 좋지만 주차할 곳이 없어...</td>\n",
       "      <td>4</td>\n",
       "      <td>2015년 12월</td>\n",
       "      <td>2015.0</td>\n",
       "      <td>12.0</td>\n",
       "      <td>비지니스</td>\n",
       "      <td>좋은 곳에 좋은 비즈니스 여행객 수 없습니다. 아주 좋은 이유가 있지만 저는 업무 ...</td>\n",
       "      <td>NaN</td>\n",
       "    </tr>\n",
       "    <tr>\n",
       "      <th>2</th>\n",
       "      <td>쇼핑 중에 즐길 수 있는 공연</td>\n",
       "      <td>명동 한가운데 있어 접근성이 좋습니다. 유네스코 빌딩안에 있는데 난타 극장을 제외하...</td>\n",
       "      <td>3</td>\n",
       "      <td>2016년 6월</td>\n",
       "      <td>2016.0</td>\n",
       "      <td>6.0</td>\n",
       "      <td>개인</td>\n",
       "      <td>쇼핑 중에 즐길 수 있는 공연 명동 한가운데 있어 접근성이 좋습니다. 유네스코 빌딩...</td>\n",
       "      <td>NaN</td>\n",
       "    </tr>\n",
       "    <tr>\n",
       "      <th>3</th>\n",
       "      <td>아주 엔터테인먼트 쇼</td>\n",
       "      <td>모두가 사랑 하는 것이 대화 쇼는 범용 없습니다. 이 함께 곡예, 주방 용품 및 드...</td>\n",
       "      <td>5</td>\n",
       "      <td>2016년 8월</td>\n",
       "      <td>2016.0</td>\n",
       "      <td>8.0</td>\n",
       "      <td>NaN</td>\n",
       "      <td>아주 엔터테인먼트 쇼 모두가 사랑하는 것이 대화 쇼는 범용 없습니다. 이 함께 곡예...</td>\n",
       "      <td>NaN</td>\n",
       "    </tr>\n",
       "    <tr>\n",
       "      <th>4</th>\n",
       "      <td>철저하게 즐겁게</td>\n",
       "      <td>제 남편과 저는 이 공연을 즐길 수 있었다. 재능 넘치게 갈 수 있는 캐스트 및. ...</td>\n",
       "      <td>5</td>\n",
       "      <td>2017년 4월</td>\n",
       "      <td>2017.0</td>\n",
       "      <td>4.0</td>\n",
       "      <td>커플</td>\n",
       "      <td>철저하게 즐겁게 제 남편과 저는 이 공연을 즐길 수 있었다. 재능 넘치게 갈 수 있...</td>\n",
       "      <td>NaN</td>\n",
       "    </tr>\n",
       "  </tbody>\n",
       "</table>\n",
       "</div>"
      ],
      "text/plain": [
       "                review_title  \\\n",
       "0         우리 가족도 즐길 수 있는 난타!   \n",
       "1  좋은 곳에 좋은 비지니스 여행객 수 없습니다.   \n",
       "2           쇼핑 중에 즐길 수 있는 공연   \n",
       "3                아주 엔터테인먼트 쇼   \n",
       "4                   철저하게 즐겁게   \n",
       "\n",
       "                                              review  score   real_date  \\\n",
       "0  내 가족, 포함한 14, 12, 9살 고 - 아이들은, 모든 난타 명동 극장에서 즐...      5   2015년 8월    \n",
       "1  아주 좋은 이유가 있지만 저는 업무 때문에 방문.  성능은 좋지만 주차할 곳이 없어...      4  2015년 12월    \n",
       "2  명동 한가운데 있어 접근성이 좋습니다. 유네스코 빌딩안에 있는데 난타 극장을 제외하...      3   2016년 6월    \n",
       "3  모두가 사랑 하는 것이 대화 쇼는 범용 없습니다. 이 함께 곡예, 주방 용품 및 드...      5    2016년 8월   \n",
       "4  제 남편과 저는 이 공연을 즐길 수 있었다. 재능 넘치게 갈 수 있는 캐스트 및. ...      5   2017년 4월    \n",
       "\n",
       "     year  month   type                                            dataset  \\\n",
       "0  2015.0    8.0     가족  우리 가족도 즐길 수 있는 난타! 내 가족, 포함한 14, 12, 9살 고 - 아이...   \n",
       "1  2015.0   12.0   비지니스  좋은 곳에 좋은 비즈니스 여행객 수 없습니다. 아주 좋은 이유가 있지만 저는 업무 ...   \n",
       "2  2016.0    6.0     개인  쇼핑 중에 즐길 수 있는 공연 명동 한가운데 있어 접근성이 좋습니다. 유네스코 빌딩...   \n",
       "3  2016.0    8.0    NaN  아주 엔터테인먼트 쇼 모두가 사랑하는 것이 대화 쇼는 범용 없습니다. 이 함께 곡예...   \n",
       "4  2017.0    4.0     커플  철저하게 즐겁게 제 남편과 저는 이 공연을 즐길 수 있었다. 재능 넘치게 갈 수 있...   \n",
       "\n",
       "   Unnamed: 0  \n",
       "0         NaN  \n",
       "1         NaN  \n",
       "2         NaN  \n",
       "3         NaN  \n",
       "4         NaN  "
      ]
     },
     "execution_count": 11,
     "metadata": {},
     "output_type": "execute_result"
    }
   ],
   "source": [
    "df.head()"
   ]
  },
  {
   "cell_type": "code",
   "execution_count": 14,
   "id": "9c42f742",
   "metadata": {},
   "outputs": [
    {
     "name": "stdout",
     "output_type": "stream",
     "text": [
      "     type  score  count\n",
      "0      가족      1     23\n",
      "1      가족      2     54\n",
      "2      가족      3    488\n",
      "3      가족      4   1728\n",
      "4      가족      5   2303\n",
      "5      개인      1     24\n",
      "6      개인      2     57\n",
      "7      개인      3    361\n",
      "8      개인      4   1222\n",
      "9      개인      5   1953\n",
      "10   비지니스      1      4\n",
      "11   비지니스      2     13\n",
      "12   비지니스      3    137\n",
      "13   비지니스      4    451\n",
      "14   비지니스      5    745\n",
      "15     친구      1     21\n",
      "16     친구      2     94\n",
      "17     친구      3    598\n",
      "18     친구      4   2025\n",
      "19     친구      5   2855\n",
      "20     커플      1     34\n",
      "21     커플      2     93\n",
      "22     커플      3    607\n",
      "23     커플      4   1765\n",
      "24     커플      5   2711\n"
     ]
    }
   ],
   "source": [
    "df8=df.groupby(['type','score'])['review']\n",
    "print(df8.size().reset_index(name='count'))"
   ]
  },
  {
   "cell_type": "code",
   "execution_count": null,
   "id": "c6a7a1be",
   "metadata": {},
   "outputs": [],
   "source": []
  },
  {
   "cell_type": "code",
   "execution_count": 3,
   "id": "0c98cf90",
   "metadata": {},
   "outputs": [],
   "source": [
    "df2=pd.read_csv('secondary.csv',header=0,encoding='utf-8-sig')\n",
    "df3=pd.read_csv('activity.csv',header=0,encoding='utf-8-sig')\n",
    "df4=pd.read_csv('leisure2.csv',header=0,encoding='utf-8-sig')\n",
    "df5=pd.read_csv('plus.csv',header=0,encoding='utf-8-sig')"
   ]
  },
  {
   "cell_type": "code",
   "execution_count": 4,
   "id": "9bac534e",
   "metadata": {
    "scrolled": true
   },
   "outputs": [
    {
     "name": "stdout",
     "output_type": "stream",
     "text": [
      "<class 'pandas.core.frame.DataFrame'>\n",
      "RangeIndex: 5035 entries, 0 to 5034\n",
      "Data columns (total 8 columns):\n",
      " #   Column        Non-Null Count  Dtype \n",
      "---  ------        --------------  ----- \n",
      " 0   review_title  5035 non-null   object\n",
      " 1   review        5035 non-null   object\n",
      " 2   score         5035 non-null   int64 \n",
      " 3   real_date     5035 non-null   object\n",
      " 4   year          5035 non-null   int64 \n",
      " 5   month         5035 non-null   int64 \n",
      " 6   type          4558 non-null   object\n",
      " 7   dataset       4966 non-null   object\n",
      "dtypes: int64(3), object(5)\n",
      "memory usage: 314.8+ KB\n"
     ]
    }
   ],
   "source": [
    "df2.info()"
   ]
  },
  {
   "cell_type": "code",
   "execution_count": 12,
   "id": "798ea6ec",
   "metadata": {},
   "outputs": [
    {
     "ename": "ValueError",
     "evalue": "The truth value of a Series is ambiguous. Use a.empty, a.bool(), a.item(), a.any() or a.all().",
     "output_type": "error",
     "traceback": [
      "\u001b[1;31m---------------------------------------------------------------------------\u001b[0m",
      "\u001b[1;31mValueError\u001b[0m                                Traceback (most recent call last)",
      "\u001b[1;32m~\\AppData\\Local\\Temp/ipykernel_4152/3329885137.py\u001b[0m in \u001b[0;36m<module>\u001b[1;34m\u001b[0m\n\u001b[0;32m      1\u001b[0m \u001b[1;32mfor\u001b[0m \u001b[0mi\u001b[0m \u001b[1;32min\u001b[0m \u001b[0mrange\u001b[0m\u001b[1;33m(\u001b[0m\u001b[0mlen\u001b[0m\u001b[1;33m(\u001b[0m\u001b[0mdf2\u001b[0m\u001b[1;33m)\u001b[0m\u001b[1;33m)\u001b[0m\u001b[1;33m:\u001b[0m\u001b[1;33m\u001b[0m\u001b[1;33m\u001b[0m\u001b[0m\n\u001b[1;32m----> 2\u001b[1;33m     \u001b[1;32mif\u001b[0m \u001b[0mdf\u001b[0m\u001b[1;33m.\u001b[0m\u001b[0mloc\u001b[0m\u001b[1;33m[\u001b[0m\u001b[0mi\u001b[0m\u001b[1;33m,\u001b[0m\u001b[1;34m'type'\u001b[0m\u001b[1;33m]\u001b[0m \u001b[1;32min\u001b[0m \u001b[1;33m[\u001b[0m\u001b[1;34m' 친구'\u001b[0m\u001b[1;33m,\u001b[0m\u001b[1;34m' 가족'\u001b[0m\u001b[1;33m,\u001b[0m \u001b[1;34m' 커플'\u001b[0m\u001b[1;33m]\u001b[0m\u001b[1;33m:\u001b[0m\u001b[1;33m\u001b[0m\u001b[1;33m\u001b[0m\u001b[0m\n\u001b[0m\u001b[0;32m      3\u001b[0m         \u001b[0mdf\u001b[0m\u001b[1;33m.\u001b[0m\u001b[0mloc\u001b[0m\u001b[1;33m[\u001b[0m\u001b[0mi\u001b[0m\u001b[1;33m,\u001b[0m\u001b[1;34m'type'\u001b[0m\u001b[1;33m]\u001b[0m\u001b[1;33m=\u001b[0m\u001b[1;34m'no_solo'\u001b[0m\u001b[1;33m\u001b[0m\u001b[1;33m\u001b[0m\u001b[0m\n\u001b[0;32m      4\u001b[0m     \u001b[1;32melif\u001b[0m \u001b[0mdf\u001b[0m\u001b[1;33m.\u001b[0m\u001b[0mloc\u001b[0m\u001b[1;33m[\u001b[0m\u001b[0mi\u001b[0m\u001b[1;33m,\u001b[0m\u001b[1;34m'type'\u001b[0m\u001b[1;33m]\u001b[0m \u001b[1;32min\u001b[0m \u001b[1;33m[\u001b[0m\u001b[1;34m' 비지니스'\u001b[0m\u001b[1;33m,\u001b[0m \u001b[0mnp\u001b[0m\u001b[1;33m.\u001b[0m\u001b[0mNaN\u001b[0m\u001b[1;33m]\u001b[0m\u001b[1;33m:\u001b[0m\u001b[1;33m\u001b[0m\u001b[1;33m\u001b[0m\u001b[0m\n\u001b[0;32m      5\u001b[0m         \u001b[0mdf\u001b[0m\u001b[1;33m.\u001b[0m\u001b[0mloc\u001b[0m\u001b[1;33m[\u001b[0m\u001b[0mi\u001b[0m\u001b[1;33m,\u001b[0m\u001b[1;34m'type'\u001b[0m\u001b[1;33m]\u001b[0m\u001b[1;33m=\u001b[0m\u001b[0mnp\u001b[0m\u001b[1;33m.\u001b[0m\u001b[0mNaN\u001b[0m\u001b[1;33m\u001b[0m\u001b[1;33m\u001b[0m\u001b[0m\n",
      "\u001b[1;32m~\\anaconda3\\lib\\site-packages\\pandas\\core\\generic.py\u001b[0m in \u001b[0;36m__nonzero__\u001b[1;34m(self)\u001b[0m\n\u001b[0;32m   1535\u001b[0m     \u001b[1;33m@\u001b[0m\u001b[0mfinal\u001b[0m\u001b[1;33m\u001b[0m\u001b[1;33m\u001b[0m\u001b[0m\n\u001b[0;32m   1536\u001b[0m     \u001b[1;32mdef\u001b[0m \u001b[0m__nonzero__\u001b[0m\u001b[1;33m(\u001b[0m\u001b[0mself\u001b[0m\u001b[1;33m)\u001b[0m\u001b[1;33m:\u001b[0m\u001b[1;33m\u001b[0m\u001b[1;33m\u001b[0m\u001b[0m\n\u001b[1;32m-> 1537\u001b[1;33m         raise ValueError(\n\u001b[0m\u001b[0;32m   1538\u001b[0m             \u001b[1;34mf\"The truth value of a {type(self).__name__} is ambiguous. \"\u001b[0m\u001b[1;33m\u001b[0m\u001b[1;33m\u001b[0m\u001b[0m\n\u001b[0;32m   1539\u001b[0m             \u001b[1;34m\"Use a.empty, a.bool(), a.item(), a.any() or a.all().\"\u001b[0m\u001b[1;33m\u001b[0m\u001b[1;33m\u001b[0m\u001b[0m\n",
      "\u001b[1;31mValueError\u001b[0m: The truth value of a Series is ambiguous. Use a.empty, a.bool(), a.item(), a.any() or a.all()."
     ]
    }
   ],
   "source": [
    "for i in range(len(df2)):\n",
    "    if df.loc[i,'type'] in [' 친구',' 가족', ' 커플']:\n",
    "        df.loc[i,'type']='no_solo'\n",
    "    elif df.loc[i,'type'] in [' 비지니스', np.NaN]:\n",
    "        df.loc[i,'type']=np.NaN\n",
    "    else :\n",
    "        df.loc[i,'type']='solo'"
   ]
  },
  {
   "cell_type": "code",
   "execution_count": null,
   "id": "c61d9378",
   "metadata": {},
   "outputs": [],
   "source": []
  },
  {
   "cell_type": "code",
   "execution_count": null,
   "id": "afce8626",
   "metadata": {},
   "outputs": [],
   "source": []
  },
  {
   "cell_type": "code",
   "execution_count": 5,
   "id": "8af35c10",
   "metadata": {},
   "outputs": [
    {
     "name": "stdout",
     "output_type": "stream",
     "text": [
      "<class 'pandas.core.frame.DataFrame'>\n",
      "RangeIndex: 2537 entries, 0 to 2536\n",
      "Data columns (total 8 columns):\n",
      " #   Column        Non-Null Count  Dtype  \n",
      "---  ------        --------------  -----  \n",
      " 0   review_title  2537 non-null   object \n",
      " 1   review        2537 non-null   object \n",
      " 2   score         2537 non-null   int64  \n",
      " 3   real_date     2537 non-null   object \n",
      " 4   year          2537 non-null   float64\n",
      " 5   month         2537 non-null   float64\n",
      " 6   type          2272 non-null   object \n",
      " 7   dataset       2500 non-null   object \n",
      "dtypes: float64(2), int64(1), object(5)\n",
      "memory usage: 158.7+ KB\n"
     ]
    }
   ],
   "source": [
    "df3.info()"
   ]
  },
  {
   "cell_type": "code",
   "execution_count": 6,
   "id": "bbf9cefc",
   "metadata": {},
   "outputs": [
    {
     "name": "stdout",
     "output_type": "stream",
     "text": [
      "<class 'pandas.core.frame.DataFrame'>\n",
      "RangeIndex: 12029 entries, 0 to 12028\n",
      "Data columns (total 9 columns):\n",
      " #   Column        Non-Null Count  Dtype \n",
      "---  ------        --------------  ----- \n",
      " 0   Unnamed: 0    12029 non-null  int64 \n",
      " 1   real_date     12029 non-null  object\n",
      " 2   year          12029 non-null  int64 \n",
      " 3   month         12029 non-null  int64 \n",
      " 4   type          10567 non-null  object\n",
      " 5   review_title  12029 non-null  object\n",
      " 6   review        12029 non-null  object\n",
      " 7   score         12029 non-null  int64 \n",
      " 8   dataset       11869 non-null  object\n",
      "dtypes: int64(4), object(5)\n",
      "memory usage: 845.9+ KB\n"
     ]
    }
   ],
   "source": [
    "df4.info()"
   ]
  },
  {
   "cell_type": "code",
   "execution_count": 7,
   "id": "e3f9ae0a",
   "metadata": {},
   "outputs": [
    {
     "name": "stdout",
     "output_type": "stream",
     "text": [
      "<class 'pandas.core.frame.DataFrame'>\n",
      "RangeIndex: 3285 entries, 0 to 3284\n",
      "Data columns (total 8 columns):\n",
      " #   Column        Non-Null Count  Dtype  \n",
      "---  ------        --------------  -----  \n",
      " 0   review_title  3285 non-null   object \n",
      " 1   review        3285 non-null   object \n",
      " 2   score         3285 non-null   int64  \n",
      " 3   real_date     3285 non-null   object \n",
      " 4   year          3285 non-null   float64\n",
      " 5   month         3285 non-null   float64\n",
      " 6   type          2969 non-null   object \n",
      " 7   dataset       3219 non-null   object \n",
      "dtypes: float64(2), int64(1), object(5)\n",
      "memory usage: 205.4+ KB\n"
     ]
    }
   ],
   "source": [
    "df5.info()"
   ]
  },
  {
   "cell_type": "code",
   "execution_count": null,
   "id": "7c53770e",
   "metadata": {},
   "outputs": [],
   "source": []
  }
 ],
 "metadata": {
  "kernelspec": {
   "display_name": "Python 3 (ipykernel)",
   "language": "python",
   "name": "python3"
  },
  "language_info": {
   "codemirror_mode": {
    "name": "ipython",
    "version": 3
   },
   "file_extension": ".py",
   "mimetype": "text/x-python",
   "name": "python",
   "nbconvert_exporter": "python",
   "pygments_lexer": "ipython3",
   "version": "3.8.12"
  }
 },
 "nbformat": 4,
 "nbformat_minor": 5
}
