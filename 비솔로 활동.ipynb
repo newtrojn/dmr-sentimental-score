{
 "cells": [
  {
   "cell_type": "code",
   "execution_count": 1,
   "id": "7cd86a82",
   "metadata": {},
   "outputs": [],
   "source": [
    "import tomotopy as tp\n",
    "import numpy as np\n",
    "import pandas as pd\n",
    "import re\n",
    "import os\n",
    "import time\n",
    "import itertools\n",
    "import konlpy\n",
    "from kiwipiepy import Kiwi\n",
    "from hanspell import spell_checker\n",
    "from tqdm import tqdm\n",
    "import matplotlib.pyplot as plt\n",
    "import matplotlib.ticker as ticker\n",
    "import pyLDAvis\n"
   ]
  },
  {
   "cell_type": "code",
   "execution_count": 2,
   "id": "f1d37b14",
   "metadata": {
    "scrolled": true
   },
   "outputs": [
    {
     "name": "stdout",
     "output_type": "stream",
     "text": [
      "<class 'pandas.core.frame.DataFrame'>\n",
      "RangeIndex: 2537 entries, 0 to 2536\n",
      "Data columns (total 8 columns):\n",
      " #   Column        Non-Null Count  Dtype  \n",
      "---  ------        --------------  -----  \n",
      " 0   review_title  2537 non-null   object \n",
      " 1   review        2537 non-null   object \n",
      " 2   score         2537 non-null   object \n",
      " 3   real_date     2537 non-null   object \n",
      " 4   year          2537 non-null   float64\n",
      " 5   month         2537 non-null   float64\n",
      " 6   type          2272 non-null   object \n",
      " 7   dataset       2500 non-null   object \n",
      "dtypes: float64(2), object(6)\n",
      "memory usage: 158.7+ KB\n"
     ]
    },
    {
     "name": "stderr",
     "output_type": "stream",
     "text": [
      "C:\\Users\\jenny\\AppData\\Local\\Temp/ipykernel_17200/2320953125.py:1: DeprecationWarning: `np.str` is a deprecated alias for the builtin `str`. To silence this warning, use `str` by itself. Doing this will not modify any behavior and is safe. If you specifically wanted the numpy scalar type, use `np.str_` here.\n",
      "Deprecated in NumPy 1.20; for more details and guidance: https://numpy.org/devdocs/release/1.20.0-notes.html#deprecations\n",
      "  df=pd.read_csv('activity.csv',encoding='utf-8-sig',header=0, dtype={'score':np.str})\n"
     ]
    }
   ],
   "source": [
    "df=pd.read_csv('activity.csv',encoding='utf-8-sig',header=0, dtype={'score':np.str})\n",
    "df.info()"
   ]
  },
  {
   "cell_type": "code",
   "execution_count": 3,
   "id": "8b11a13d",
   "metadata": {},
   "outputs": [
    {
     "data": {
      "text/plain": [
       "array([' 가족', ' 비지니스', ' 개인', nan, ' 커플', ' 친구'], dtype=object)"
      ]
     },
     "execution_count": 3,
     "metadata": {},
     "output_type": "execute_result"
    }
   ],
   "source": [
    "df['type'].unique()"
   ]
  },
  {
   "cell_type": "code",
   "execution_count": 4,
   "id": "9bb8e2a5",
   "metadata": {},
   "outputs": [],
   "source": [
    "for i in range(len(df)):\n",
    "    if df.iloc[i,6] in [' 친구',' 가족',' 커플']:\n",
    "        df.iloc[i,6] = 'no_solo'\n",
    "    elif df.iloc[i,6] in [' 비지니스', np.NaN]:\n",
    "        df.iloc[i,6] = np.NaN\n",
    "    elif df.iloc[i,6] in [' 개인']:\n",
    "        df.iloc[i,6]='solo'"
   ]
  },
  {
   "cell_type": "code",
   "execution_count": 5,
   "id": "7f75caac",
   "metadata": {
    "scrolled": true
   },
   "outputs": [
    {
     "data": {
      "text/plain": [
       "array(['no_solo', nan, 'solo'], dtype=object)"
      ]
     },
     "execution_count": 5,
     "metadata": {},
     "output_type": "execute_result"
    }
   ],
   "source": [
    "df['type'].unique()"
   ]
  },
  {
   "cell_type": "code",
   "execution_count": 6,
   "id": "a5b95b57",
   "metadata": {},
   "outputs": [
    {
     "name": "stdout",
     "output_type": "stream",
     "text": [
      "<class 'pandas.core.frame.DataFrame'>\n",
      "Int64Index: 2149 entries, 0 to 2535\n",
      "Data columns (total 8 columns):\n",
      " #   Column        Non-Null Count  Dtype  \n",
      "---  ------        --------------  -----  \n",
      " 0   review_title  2149 non-null   object \n",
      " 1   review        2149 non-null   object \n",
      " 2   score         2149 non-null   object \n",
      " 3   real_date     2149 non-null   object \n",
      " 4   year          2149 non-null   float64\n",
      " 5   month         2149 non-null   float64\n",
      " 6   type          2149 non-null   object \n",
      " 7   dataset       2114 non-null   object \n",
      "dtypes: float64(2), object(6)\n",
      "memory usage: 151.1+ KB\n"
     ]
    }
   ],
   "source": [
    "df.dropna(subset=['type'], how='any', inplace=True)\n",
    "df.info()"
   ]
  },
  {
   "cell_type": "code",
   "execution_count": 7,
   "id": "f24a8613",
   "metadata": {},
   "outputs": [],
   "source": [
    "#솔로/비솔로 데이터 구분\n",
    "#비솔로\n",
    "condition = (df.type=='no_solo')\n",
    "df2=df.loc[condition]"
   ]
  },
  {
   "cell_type": "code",
   "execution_count": 8,
   "id": "5ba1fbbf",
   "metadata": {},
   "outputs": [
    {
     "name": "stdout",
     "output_type": "stream",
     "text": [
      "<class 'pandas.core.frame.DataFrame'>\n",
      "Int64Index: 1725 entries, 0 to 2534\n",
      "Data columns (total 8 columns):\n",
      " #   Column        Non-Null Count  Dtype  \n",
      "---  ------        --------------  -----  \n",
      " 0   review_title  1725 non-null   object \n",
      " 1   review        1725 non-null   object \n",
      " 2   score         1725 non-null   object \n",
      " 3   real_date     1725 non-null   object \n",
      " 4   year          1725 non-null   float64\n",
      " 5   month         1725 non-null   float64\n",
      " 6   type          1725 non-null   object \n",
      " 7   dataset       1704 non-null   object \n",
      "dtypes: float64(2), object(6)\n",
      "memory usage: 121.3+ KB\n"
     ]
    }
   ],
   "source": [
    "df2.info()"
   ]
  },
  {
   "cell_type": "code",
   "execution_count": 9,
   "id": "55a4b5ea",
   "metadata": {},
   "outputs": [
    {
     "name": "stdout",
     "output_type": "stream",
     "text": [
      "<class 'pandas.core.frame.DataFrame'>\n",
      "Int64Index: 1704 entries, 0 to 2534\n",
      "Data columns (total 8 columns):\n",
      " #   Column        Non-Null Count  Dtype  \n",
      "---  ------        --------------  -----  \n",
      " 0   review_title  1704 non-null   object \n",
      " 1   review        1704 non-null   object \n",
      " 2   score         1704 non-null   object \n",
      " 3   real_date     1704 non-null   object \n",
      " 4   year          1704 non-null   float64\n",
      " 5   month         1704 non-null   float64\n",
      " 6   type          1704 non-null   object \n",
      " 7   dataset       1704 non-null   object \n",
      "dtypes: float64(2), object(6)\n",
      "memory usage: 119.8+ KB\n"
     ]
    },
    {
     "name": "stderr",
     "output_type": "stream",
     "text": [
      "C:\\Users\\jenny\\anaconda3\\lib\\site-packages\\pandas\\util\\_decorators.py:311: SettingWithCopyWarning: \n",
      "A value is trying to be set on a copy of a slice from a DataFrame\n",
      "\n",
      "See the caveats in the documentation: https://pandas.pydata.org/pandas-docs/stable/user_guide/indexing.html#returning-a-view-versus-a-copy\n",
      "  return func(*args, **kwargs)\n"
     ]
    }
   ],
   "source": [
    "df2.dropna(subset=['dataset'], how='any', inplace=True)\n",
    "df2.info()"
   ]
  },
  {
   "cell_type": "code",
   "execution_count": 10,
   "id": "75c84dac",
   "metadata": {},
   "outputs": [],
   "source": [
    "#응집도 계산 전 사용할 토크나이저 함수 정의\n",
    "\n",
    "import konlpy\n",
    "stop_list=['우리','함께','있습니다']\n",
    "def tokenize_korean_text(text):\n",
    "    text = re.sub(r'[^,.?!\\w\\s]','', text)\n",
    "    \n",
    "    okt = konlpy.tag.Okt()\n",
    "    Okt_morphs = okt.pos(text)\n",
    "    \n",
    "    words = []\n",
    "    for word, pos in Okt_morphs:\n",
    "        if not pos == 'Josa' and not pos =='Punctuation' and not pos =='Foreign' and len(word) > 1 and word not in stop_list :\n",
    "            words.append(word)\n",
    "    ## word를 이어붙인 string 형태가 아닌 word의 list를 return해주는 게 sklearn lda 준비 과정과의 차이\n",
    "            \n",
    "    return words"
   ]
  },
  {
   "cell_type": "code",
   "execution_count": 11,
   "id": "8a2fd679",
   "metadata": {},
   "outputs": [],
   "source": [
    "#솔로 데이터 토큰화\n",
    "tokenized_list_no = []\n",
    "a=df2['dataset'].values\n",
    "for text in range(len(a)):\n",
    "    tokenized_list_no.append(tokenize_korean_text(a[text]))"
   ]
  },
  {
   "cell_type": "code",
   "execution_count": 12,
   "id": "30ba9c07",
   "metadata": {
    "scrolled": true
   },
   "outputs": [
    {
     "name": "stdout",
     "output_type": "stream",
     "text": [
      "Total docs: 1704\n",
      "Total words: 48809\n",
      "Vocab size: 7336\n"
     ]
    }
   ],
   "source": [
    "#솔로\n",
    "model = tp.DMRModel(k=20, alpha=0.1, eta=0.01, min_cf=1,rm_top=3,tw=tp.TermWeight.IDF)\n",
    "\n",
    "key=df2['score'].values\n",
    "value=tokenized_list_no\n",
    "\n",
    "\n",
    "for pairs in zip(key, value):\n",
    "    try :\n",
    "        model.add_doc(pairs[1],metadata=pairs[0]) # tokenize함수를 이용해 전처리한 결과를 add_doc에 넣습니다.\n",
    "    except RuntimeError :\n",
    "        pass\n",
    "        \n",
    "               \n",
    "model.train(0)\n",
    "print('Total docs:', len(model.docs))\n",
    "print('Total words:', model.num_words)\n",
    "print('Vocab size:', model.num_vocabs)\n",
    " "
   ]
  },
  {
   "cell_type": "code",
   "execution_count": 13,
   "id": "acc57850",
   "metadata": {
    "scrolled": true
   },
   "outputs": [
    {
     "name": "stdout",
     "output_type": "stream",
     "text": [
      "<Basic Info>\n",
      "| DMRModel (current version: 0.12.2)\n",
      "| 1704 docs, 48809 words\n",
      "| Total Vocabs: 7339, Used Vocabs: 7336\n",
      "| Entropy of words: 7.28709\n",
      "| Entropy of term-weighted words: 8.03921\n",
      "| Removed Vocabs: 박물관 있는 한국\n",
      "| Metadata of docs and its distribution\n",
      "|  5: 1047\n",
      "|  3: 129\n",
      "|  4: 500\n",
      "|  1: 11\n",
      "|  2: 17\n",
      "|\n",
      "<Training Info>\n",
      "| Iterations: 0, Burn-in steps: 0\n",
      "| Optimization Interval: 10\n",
      "| Log-likelihood per word: -10.41602\n",
      "|\n",
      "<Initial Parameters>\n",
      "| tw: TermWeight.IDF\n",
      "| min_cf: 1 (minimum collection frequency of words)\n",
      "| min_df: 0 (minimum document frequency of words)\n",
      "| rm_top: 3 (the number of top words to be removed)\n",
      "| k: 20 (the number of topics between 1 ~ 32767)\n",
      "| alpha: [0.1] (an initial value of exponential of mean of normal distribution for `lambdas`, given as a single `float` in case of symmetric prior and as a list with length `k` of `float` in case of asymmetric prior.)\n",
      "| eta: 0.01 (hyperparameter of Dirichlet distribution for topic - word)\n",
      "| sigma: 1.0 (standard deviation of normal distribution for `lambdas`)\n",
      "| alpha_epsilon: 1e-10 (small smoothing value for preventing `exp(lambdas)` to be near zero)\n",
      "| seed: 2826710378 (random seed)\n",
      "| trained in version 0.12.2\n",
      "|\n",
      "<Parameters>\n",
      "| lambda (feature vector per metadata of documents)\n",
      "|  [[[-2.3025851]\n",
      "|    [-2.3025851]\n",
      "|    [-2.3025851]\n",
      "|    [-2.3025851]\n",
      "|    [-2.3025851]]\n",
      "|  \n",
      "|   [[-2.3025851]\n",
      "|    [-2.3025851]\n",
      "|    [-2.3025851]\n",
      "|    [-2.3025851]\n",
      "|    [-2.3025851]]\n",
      "|  \n",
      "|   [[-2.3025851]\n",
      "|    [-2.3025851]\n",
      "|    [-2.3025851]\n",
      "|    [-2.3025851]\n",
      "|    [-2.3025851]]\n",
      "|  \n",
      "|   [[-2.3025851]\n",
      "|    [-2.3025851]\n",
      "|    [-2.3025851]\n",
      "|    [-2.3025851]\n",
      "|    [-2.3025851]]\n",
      "|  \n",
      "|   [[-2.3025851]\n",
      "|    [-2.3025851]\n",
      "|    [-2.3025851]\n",
      "|    [-2.3025851]\n",
      "|    [-2.3025851]]\n",
      "|  \n",
      "|   [[-2.3025851]\n",
      "|    [-2.3025851]\n",
      "|    [-2.3025851]\n",
      "|    [-2.3025851]\n",
      "|    [-2.3025851]]\n",
      "|  \n",
      "|   [[-2.3025851]\n",
      "|    [-2.3025851]\n",
      "|    [-2.3025851]\n",
      "|    [-2.3025851]\n",
      "|    [-2.3025851]]\n",
      "|  \n",
      "|   [[-2.3025851]\n",
      "|    [-2.3025851]\n",
      "|    [-2.3025851]\n",
      "|    [-2.3025851]\n",
      "|    [-2.3025851]]\n",
      "|  \n",
      "|   [[-2.3025851]\n",
      "|    [-2.3025851]\n",
      "|    [-2.3025851]\n",
      "|    [-2.3025851]\n",
      "|    [-2.3025851]]\n",
      "|  \n",
      "|   [[-2.3025851]\n",
      "|    [-2.3025851]\n",
      "|    [-2.3025851]\n",
      "|    [-2.3025851]\n",
      "|    [-2.3025851]]\n",
      "|  \n",
      "|   [[-2.3025851]\n",
      "|    [-2.3025851]\n",
      "|    [-2.3025851]\n",
      "|    [-2.3025851]\n",
      "|    [-2.3025851]]\n",
      "|  \n",
      "|   [[-2.3025851]\n",
      "|    [-2.3025851]\n",
      "|    [-2.3025851]\n",
      "|    [-2.3025851]\n",
      "|    [-2.3025851]]\n",
      "|  \n",
      "|   [[-2.3025851]\n",
      "|    [-2.3025851]\n",
      "|    [-2.3025851]\n",
      "|    [-2.3025851]\n",
      "|    [-2.3025851]]\n",
      "|  \n",
      "|   [[-2.3025851]\n",
      "|    [-2.3025851]\n",
      "|    [-2.3025851]\n",
      "|    [-2.3025851]\n",
      "|    [-2.3025851]]\n",
      "|  \n",
      "|   [[-2.3025851]\n",
      "|    [-2.3025851]\n",
      "|    [-2.3025851]\n",
      "|    [-2.3025851]\n",
      "|    [-2.3025851]]\n",
      "|  \n",
      "|   [[-2.3025851]\n",
      "|    [-2.3025851]\n",
      "|    [-2.3025851]\n",
      "|    [-2.3025851]\n",
      "|    [-2.3025851]]\n",
      "|  \n",
      "|   [[-2.3025851]\n",
      "|    [-2.3025851]\n",
      "|    [-2.3025851]\n",
      "|    [-2.3025851]\n",
      "|    [-2.3025851]]\n",
      "|  \n",
      "|   [[-2.3025851]\n",
      "|    [-2.3025851]\n",
      "|    [-2.3025851]\n",
      "|    [-2.3025851]\n",
      "|    [-2.3025851]]\n",
      "|  \n",
      "|   [[-2.3025851]\n",
      "|    [-2.3025851]\n",
      "|    [-2.3025851]\n",
      "|    [-2.3025851]\n",
      "|    [-2.3025851]]\n",
      "|  \n",
      "|   [[-2.3025851]\n",
      "|    [-2.3025851]\n",
      "|    [-2.3025851]\n",
      "|    [-2.3025851]\n",
      "|    [-2.3025851]]]\n",
      "| alpha (Dirichlet prior on the per-document topic distributions for each metadata)\n",
      "|  5: [0.09999999 0.09999999 0.09999999 0.09999999 0.09999999 0.09999999\n",
      "|     0.09999999 0.09999999 0.09999999 0.09999999 0.09999999 0.09999999\n",
      "|     0.09999999 0.09999999 0.09999999 0.09999999 0.09999999 0.09999999\n",
      "|     0.09999999 0.09999999]\n",
      "|  3: [0.09999999 0.09999999 0.09999999 0.09999999 0.09999999 0.09999999\n",
      "|     0.09999999 0.09999999 0.09999999 0.09999999 0.09999999 0.09999999\n",
      "|     0.09999999 0.09999999 0.09999999 0.09999999 0.09999999 0.09999999\n",
      "|     0.09999999 0.09999999]\n",
      "|  4: [0.09999999 0.09999999 0.09999999 0.09999999 0.09999999 0.09999999\n",
      "|     0.09999999 0.09999999 0.09999999 0.09999999 0.09999999 0.09999999\n",
      "|     0.09999999 0.09999999 0.09999999 0.09999999 0.09999999 0.09999999\n",
      "|     0.09999999 0.09999999]\n",
      "|  1: [0.09999999 0.09999999 0.09999999 0.09999999 0.09999999 0.09999999\n",
      "|     0.09999999 0.09999999 0.09999999 0.09999999 0.09999999 0.09999999\n",
      "|     0.09999999 0.09999999 0.09999999 0.09999999 0.09999999 0.09999999\n",
      "|     0.09999999 0.09999999]\n",
      "|  2: [0.09999999 0.09999999 0.09999999 0.09999999 0.09999999 0.09999999\n",
      "|     0.09999999 0.09999999 0.09999999 0.09999999 0.09999999 0.09999999\n",
      "|     0.09999999 0.09999999 0.09999999 0.09999999 0.09999999 0.09999999\n",
      "|     0.09999999 0.09999999]\n",
      "| eta (Dirichlet prior on the per-topic word distribution)\n",
      "|  0.01\n",
      "|\n",
      "<Topics>\n",
      "| #0 (2474) : 전쟁 많은 생각 전시 시간\n",
      "| #1 (2336) : 전쟁 방문 역사 좋은 아이\n",
      "| #2 (2442) : 많은 좋은 전쟁 하기 정말\n",
      "| #3 (2430) : 전쟁 좋은 무료 추천 방문\n",
      "| #4 (2299) : 전쟁 때문 사진 시간 모든\n",
      "| #5 (2503) : 전시 좋은 정말 전쟁 사진\n",
      "| #6 (2398) : 역사 전쟁 사진 시간 아이\n",
      "| #7 (2490) : 전쟁 하는 사진 입니다 방문\n",
      "| #8 (2432) : 전쟁 시간 사람 방문 전시\n",
      "| #9 (2479) : 전시 전쟁 방문 많은 가족\n",
      "| #10 (2504) : 전쟁 시간 전시 역사 서울\n",
      "| #11 (2517) : 시간 아이 역사 하는 입니다\n",
      "| #12 (2424) : 합니다 방문 전쟁 역사 가치\n",
      "| #13 (2495) : 역사 전쟁 하는 좋은 시간\n",
      "| #14 (2447) : 전쟁 사진 장소 방문 역사\n",
      "| #15 (2485) : 전쟁 시간 사용 전시 모든\n",
      "| #16 (2377) : 아이 전쟁 많은 좋은 하는\n",
      "| #17 (2386) : 전시 좋은 많은 입니다 다시\n",
      "| #18 (2475) : 전쟁 좋은 사진 역사 매우\n",
      "| #19 (2416) : 역사 사진 방문 많은 아이\n",
      "|\n",
      "\n"
     ]
    }
   ],
   "source": [
    "model.summary()"
   ]
  },
  {
   "cell_type": "code",
   "execution_count": 14,
   "id": "86d2b426",
   "metadata": {
    "scrolled": true
   },
   "outputs": [
    {
     "name": "stdout",
     "output_type": "stream",
     "text": [
      "==== Coherence : c ====\n",
      "Average: 0.4341513275611214 \n",
      "Per Topic: [0.45522864125669005, 0.4260441519320011, 0.47097086161375046, 0.4738592028617859, 0.4903569996356964, 0.4029907710850239, 0.334386826865375, 0.40006461143493655, 0.42414284870028496, 0.36293424293398857, 0.41689282804727557, 0.43736319839954374, 0.46875177323818207, 0.4596735820174217, 0.4411409226246178, 0.4625438414514065, 0.4081815416458994, 0.46038377583026885, 0.4801227912306786, 0.4069931384176016]\n"
     ]
    },
    {
     "data": {
      "image/png": "[encoded data removed]",
      "text/plain": [
       "<Figure size 432x288 with 1 Axes>"
      ]
     },
     "metadata": {
      "needs_background": "light"
     },
     "output_type": "display_data"
    },
    {
     "name": "stdout",
     "output_type": "stream",
     "text": [
      "\n"
     ]
    }
   ],
   "source": [
    "# calculate coherence using preset\n",
    "ax=plt.axes()\n",
    "coh = tp.coherence.Coherence(model, coherence='c_v')\n",
    "average_coherence = coh.get_score()\n",
    "coherence_per_topic = [coh.get_score(topic_id=k) for k in range(model.k)]\n",
    "print('==== Coherence : c ====')\n",
    "print('Average:', average_coherence, '\\nPer Topic:', coherence_per_topic)\n",
    "x=range(1,21,1)\n",
    "plt.plot(x, coherence_per_topic,marker='o')\n",
    "plt.xlabel(\"num_topics\")\n",
    "plt.ylabel(\"coherence\")\n",
    "ax.xaxis.set_major_locator(ticker.MultipleLocator(5))\n",
    "ax.xaxis.set_minor_locator(ticker.MultipleLocator(1))\n",
    "plt.show()\n",
    "print()"
   ]
  },
  {
   "cell_type": "markdown",
   "id": "2757602c",
   "metadata": {},
   "source": [
    "위 결과에서 14개일 때 가장 높은 응집도를 보였기 때문에 토픽을 14개로 설정하였다."
   ]
  },
  {
   "cell_type": "code",
   "execution_count": 15,
   "id": "fce23065",
   "metadata": {
    "scrolled": true
   },
   "outputs": [
    {
     "name": "stdout",
     "output_type": "stream",
     "text": [
      "Total docs: 1704\n",
      "Total words: 48809\n",
      "Vocab size: 7336\n",
      "Topic #0\t전쟁, 역사, 많은, 무료, 시간, 좋은, 매우, 정보, 기념관, 모든\n",
      "Topic #1\t전시, 관람, 아이, 좋아요, 있어서, 중앙, 어린이, 미술관, 좋습니다, 우리나라\n",
      "Topic #2\t사진, 재미있는, 경험, 친구, 재미, 시간, 장소, 얼음, 그것, 공연\n",
      "Topic #3\t전쟁, 나라, 너무, 그녀, 않고, 가게, 사람, 주는, 아이, 하고\n"
     ]
    }
   ],
   "source": [
    "#토픽수 정하고 솔로 분석\n",
    "model = tp.DMRModel(k=4, alpha=0.1, eta=0.01, min_cf=1,rm_top=3,tw=tp.TermWeight.IDF)\n",
    "\n",
    "key=df2['score'].values\n",
    "value=tokenized_list_no\n",
    "\n",
    "for pairs in zip(key, value):\n",
    "    try :\n",
    "        model.add_doc(pairs[1],metadata=pairs[0]) # tokenize함수를 이용해 전처리한 결과를 add_doc에 넣습니다.\n",
    "    except RuntimeError :\n",
    "        pass\n",
    "\n",
    "model.train(0)\n",
    "print('Total docs:', len(model.docs))\n",
    "print('Total words:', model.num_words)\n",
    "print('Vocab size:', model.num_vocabs)\n",
    " \n",
    " \n",
    " \n",
    "for i in range(200):\n",
    "    model.train(1)\n",
    "    \n",
    "for i in range(model.k):\n",
    "    res = model.get_topic_words(i, top_n=10)\n",
    "    print('Topic #{}'.format(i), end='\\t')\n",
    "    print(', '.join(w for w, p in res))"
   ]
  },
  {
   "cell_type": "code",
   "execution_count": 16,
   "id": "322351f5",
   "metadata": {
    "scrolled": true
   },
   "outputs": [
    {
     "name": "stdout",
     "output_type": "stream",
     "text": [
      "<Basic Info>\n",
      "| DMRModel (current version: 0.12.2)\n",
      "| 1704 docs, 48809 words\n",
      "| Total Vocabs: 7339, Used Vocabs: 7336\n",
      "| Entropy of words: 7.28709\n",
      "| Entropy of term-weighted words: 8.03921\n",
      "| Removed Vocabs: 박물관 있는 한국\n",
      "| Metadata of docs and its distribution\n",
      "|  5: 1047\n",
      "|  3: 129\n",
      "|  4: 500\n",
      "|  1: 11\n",
      "|  2: 17\n",
      "|\n",
      "<Training Info>\n",
      "| Iterations: 200, Burn-in steps: 0\n",
      "| Optimization Interval: 10\n",
      "| Log-likelihood per word: -8.00884\n",
      "|\n",
      "<Initial Parameters>\n",
      "| tw: TermWeight.IDF\n",
      "| min_cf: 1 (minimum collection frequency of words)\n",
      "| min_df: 0 (minimum document frequency of words)\n",
      "| rm_top: 3 (the number of top words to be removed)\n",
      "| k: 4 (the number of topics between 1 ~ 32767)\n",
      "| alpha: [0.1] (an initial value of exponential of mean of normal distribution for `lambdas`, given as a single `float` in case of symmetric prior and as a list with length `k` of `float` in case of asymmetric prior.)\n",
      "| eta: 0.01 (hyperparameter of Dirichlet distribution for topic - word)\n",
      "| sigma: 1.0 (standard deviation of normal distribution for `lambdas`)\n",
      "| alpha_epsilon: 1e-10 (small smoothing value for preventing `exp(lambdas)` to be near zero)\n",
      "| seed: 43757864 (random seed)\n",
      "| trained in version 0.12.2\n",
      "|\n",
      "<Parameters>\n",
      "| lambda (feature vector per metadata of documents)\n",
      "|  [[[ 0.04423575]\n",
      "|    [-3.198534  ]\n",
      "|    [-0.6600958 ]\n",
      "|    [-2.468765  ]\n",
      "|    [-2.9814687 ]]\n",
      "|  \n",
      "|   [[-3.1251624 ]\n",
      "|    [-3.719319  ]\n",
      "|    [-2.6366575 ]\n",
      "|    [-1.6397469 ]\n",
      "|    [-3.239852  ]]\n",
      "|  \n",
      "|   [[-0.8798399 ]\n",
      "|    [-2.4264789 ]\n",
      "|    [-1.12795   ]\n",
      "|    [-2.912794  ]\n",
      "|    [-4.2341375 ]]\n",
      "|  \n",
      "|   [[-1.8163648 ]\n",
      "|    [-2.9785523 ]\n",
      "|    [-2.6435394 ]\n",
      "|    [-1.7453343 ]\n",
      "|    [-3.1824822 ]]]\n",
      "| alpha (Dirichlet prior on the per-document topic distributions for each metadata)\n",
      "|  5: [1.0452287  0.0439298  0.4148493  0.16261582]\n",
      "|  3: [0.040822   0.02425047 0.08834737 0.05086642]\n",
      "|  4: [0.51680183 0.0716002  0.32369617 0.07110914]\n",
      "|  1: [0.08468939 0.19402914 0.05432373 0.17458662]\n",
      "|  2: [0.05071829 0.0391697  0.0144923  0.04148256]\n",
      "| eta (Dirichlet prior on the per-topic word distribution)\n",
      "|  0.01\n",
      "|\n",
      "<Topics>\n",
      "| #0 (22964) : 전쟁 역사 많은 무료 시간\n",
      "| #1 (8552) : 전시 관람 아이 좋아요 있어서\n",
      "| #2 (13103) : 사진 재미있는 경험 친구 재미\n",
      "| #3 (4190) : 전쟁 나라 너무 그녀 않고\n",
      "|\n",
      "\n"
     ]
    }
   ],
   "source": [
    "model.summary()"
   ]
  },
  {
   "cell_type": "code",
   "execution_count": 17,
   "id": "3e231b8e",
   "metadata": {
    "scrolled": true
   },
   "outputs": [
    {
     "name": "stdout",
     "output_type": "stream",
     "text": [
      "Topic distributions by score, solo\n"
     ]
    },
    {
     "data": {
      "text/html": [
       "<div>\n",
       "<style scoped>\n",
       "    .dataframe tbody tr th:only-of-type {\n",
       "        vertical-align: middle;\n",
       "    }\n",
       "\n",
       "    .dataframe tbody tr th {\n",
       "        vertical-align: top;\n",
       "    }\n",
       "\n",
       "    .dataframe thead th {\n",
       "        text-align: right;\n",
       "    }\n",
       "</style>\n",
       "<table border=\"1\" class=\"dataframe\">\n",
       "  <thead>\n",
       "    <tr style=\"text-align: right;\">\n",
       "      <th></th>\n",
       "      <th>1score</th>\n",
       "      <th>2score</th>\n",
       "      <th>3score</th>\n",
       "      <th>4score</th>\n",
       "      <th>5score</th>\n",
       "      <th>total</th>\n",
       "      <th>re_score</th>\n",
       "    </tr>\n",
       "  </thead>\n",
       "  <tbody>\n",
       "    <tr>\n",
       "      <th>0</th>\n",
       "      <td>0.084689</td>\n",
       "      <td>0.050718</td>\n",
       "      <td>0.040822</td>\n",
       "      <td>0.516802</td>\n",
       "      <td>1.045229</td>\n",
       "      <td>1.738260</td>\n",
       "      <td>4.373305</td>\n",
       "    </tr>\n",
       "    <tr>\n",
       "      <th>1</th>\n",
       "      <td>0.194029</td>\n",
       "      <td>0.039170</td>\n",
       "      <td>0.024250</td>\n",
       "      <td>0.071600</td>\n",
       "      <td>0.043930</td>\n",
       "      <td>0.372979</td>\n",
       "      <td>2.282083</td>\n",
       "    </tr>\n",
       "    <tr>\n",
       "      <th>2</th>\n",
       "      <td>0.054324</td>\n",
       "      <td>0.014492</td>\n",
       "      <td>0.088347</td>\n",
       "      <td>0.323696</td>\n",
       "      <td>0.414849</td>\n",
       "      <td>0.895709</td>\n",
       "      <td>4.150212</td>\n",
       "    </tr>\n",
       "    <tr>\n",
       "      <th>3</th>\n",
       "      <td>0.174587</td>\n",
       "      <td>0.041483</td>\n",
       "      <td>0.050866</td>\n",
       "      <td>0.071109</td>\n",
       "      <td>0.162616</td>\n",
       "      <td>0.500661</td>\n",
       "      <td>3.011355</td>\n",
       "    </tr>\n",
       "  </tbody>\n",
       "</table>\n",
       "</div>"
      ],
      "text/plain": [
       "     1score    2score    3score    4score    5score     total  re_score\n",
       "0  0.084689  0.050718  0.040822  0.516802  1.045229  1.738260  4.373305\n",
       "1  0.194029  0.039170  0.024250  0.071600  0.043930  0.372979  2.282083\n",
       "2  0.054324  0.014492  0.088347  0.323696  0.414849  0.895709  4.150212\n",
       "3  0.174587  0.041483  0.050866  0.071109  0.162616  0.500661  3.011355"
      ]
     },
     "execution_count": 17,
     "metadata": {},
     "output_type": "execute_result"
    }
   ],
   "source": [
    "#솔로 감성점수 계산\n",
    "print('Topic distributions by score, solo')\n",
    "\n",
    "df4=pd.DataFrame()\n",
    "score_labels=['1','2','3','4','5']\n",
    "\n",
    "for i in score_labels:\n",
    "    df4[i+'score']=model.get_topic_prior(i)\n",
    "df4['total']=df4.sum(axis=1)\n",
    "\n",
    "total_sum=df4['total'].values\n",
    "gamsung_sum=0\n",
    "gamsung_list=[]\n",
    "\n",
    "for i in range(model.k):\n",
    "    a=df4.iloc[i,:-1].values\n",
    "    gamsung_sum=(a[0]*1+a[1]*2+a[2]*3+a[3]*4+a[4]*5)/total_sum[i]\n",
    "    gamsung_list.append(gamsung_sum)\n",
    "    \n",
    "df4['re_score']=gamsung_list\n",
    "df4.head(20)"
   ]
  },
  {
   "cell_type": "code",
   "execution_count": 18,
   "id": "e7187651",
   "metadata": {},
   "outputs": [
    {
     "data": {
      "text/html": [
       "<div>\n",
       "<style scoped>\n",
       "    .dataframe tbody tr th:only-of-type {\n",
       "        vertical-align: middle;\n",
       "    }\n",
       "\n",
       "    .dataframe tbody tr th {\n",
       "        vertical-align: top;\n",
       "    }\n",
       "\n",
       "    .dataframe thead th {\n",
       "        text-align: right;\n",
       "    }\n",
       "</style>\n",
       "<table border=\"1\" class=\"dataframe\">\n",
       "  <thead>\n",
       "    <tr style=\"text-align: right;\">\n",
       "      <th></th>\n",
       "      <th>1score</th>\n",
       "      <th>2score</th>\n",
       "      <th>3score</th>\n",
       "      <th>4score</th>\n",
       "      <th>5score</th>\n",
       "      <th>total</th>\n",
       "      <th>re_score</th>\n",
       "      <th>word_list</th>\n",
       "    </tr>\n",
       "  </thead>\n",
       "  <tbody>\n",
       "    <tr>\n",
       "      <th>0</th>\n",
       "      <td>0.084689</td>\n",
       "      <td>0.050718</td>\n",
       "      <td>0.040822</td>\n",
       "      <td>0.516802</td>\n",
       "      <td>1.045229</td>\n",
       "      <td>1.738260</td>\n",
       "      <td>4.373305</td>\n",
       "      <td>[전쟁, 역사, 많은, 무료, 시간, 좋은, 매우, 정보, 기념관, 모든]</td>\n",
       "    </tr>\n",
       "    <tr>\n",
       "      <th>1</th>\n",
       "      <td>0.194029</td>\n",
       "      <td>0.039170</td>\n",
       "      <td>0.024250</td>\n",
       "      <td>0.071600</td>\n",
       "      <td>0.043930</td>\n",
       "      <td>0.372979</td>\n",
       "      <td>2.282083</td>\n",
       "      <td>[전시, 관람, 아이, 좋아요, 있어서, 중앙, 어린이, 미술관, 좋습니다, 우리나라]</td>\n",
       "    </tr>\n",
       "    <tr>\n",
       "      <th>2</th>\n",
       "      <td>0.054324</td>\n",
       "      <td>0.014492</td>\n",
       "      <td>0.088347</td>\n",
       "      <td>0.323696</td>\n",
       "      <td>0.414849</td>\n",
       "      <td>0.895709</td>\n",
       "      <td>4.150212</td>\n",
       "      <td>[사진, 재미있는, 경험, 친구, 재미, 시간, 장소, 얼음, 그것, 공연]</td>\n",
       "    </tr>\n",
       "    <tr>\n",
       "      <th>3</th>\n",
       "      <td>0.174587</td>\n",
       "      <td>0.041483</td>\n",
       "      <td>0.050866</td>\n",
       "      <td>0.071109</td>\n",
       "      <td>0.162616</td>\n",
       "      <td>0.500661</td>\n",
       "      <td>3.011355</td>\n",
       "      <td>[전쟁, 나라, 너무, 그녀, 않고, 가게, 사람, 주는, 아이, 하고]</td>\n",
       "    </tr>\n",
       "  </tbody>\n",
       "</table>\n",
       "</div>"
      ],
      "text/plain": [
       "     1score    2score    3score    4score    5score     total  re_score  \\\n",
       "0  0.084689  0.050718  0.040822  0.516802  1.045229  1.738260  4.373305   \n",
       "1  0.194029  0.039170  0.024250  0.071600  0.043930  0.372979  2.282083   \n",
       "2  0.054324  0.014492  0.088347  0.323696  0.414849  0.895709  4.150212   \n",
       "3  0.174587  0.041483  0.050866  0.071109  0.162616  0.500661  3.011355   \n",
       "\n",
       "                                          word_list  \n",
       "0         [전쟁, 역사, 많은, 무료, 시간, 좋은, 매우, 정보, 기념관, 모든]  \n",
       "1  [전시, 관람, 아이, 좋아요, 있어서, 중앙, 어린이, 미술관, 좋습니다, 우리나라]  \n",
       "2        [사진, 재미있는, 경험, 친구, 재미, 시간, 장소, 얼음, 그것, 공연]  \n",
       "3          [전쟁, 나라, 너무, 그녀, 않고, 가게, 사람, 주는, 아이, 하고]  "
      ]
     },
     "execution_count": 18,
     "metadata": {},
     "output_type": "execute_result"
    }
   ],
   "source": [
    "#각 토픽 별 상위 10개 단어 추출\n",
    "word_list=[]\n",
    "for i in range(model.k):\n",
    "    a=model.get_topic_words(i, top_n=10)\n",
    "    word_list.append([x[0] for x in a])\n",
    "\n",
    "df4['word_list']=word_list\n",
    "df4.head(15)"
   ]
  },
  {
   "cell_type": "code",
   "execution_count": 19,
   "id": "59fcad33",
   "metadata": {
    "scrolled": true
   },
   "outputs": [
    {
     "name": "stdout",
     "output_type": "stream",
     "text": [
      "== Topic #0 ==\n",
      "Labels: 한국, 있는, 모든, 박물관, 시간\n",
      "전쟁\t0.009628325700759888\n",
      "역사\t0.007902947254478931\n",
      "많은\t0.006869974546134472\n",
      "무료\t0.006236988119781017\n",
      "시간\t0.005721142049878836\n",
      "좋은\t0.005530619528144598\n",
      "매우\t0.005296760704368353\n",
      "정보\t0.00526299187913537\n",
      "기념관\t0.005223428830504417\n",
      "모든\t0.005203502718359232\n",
      "\n",
      "== Topic #1 ==\n",
      "Labels: 관람, 대한민국 대표, 연결 되어, 가시, 주차\n",
      "전시\t0.00902759563177824\n",
      "관람\t0.007556361611932516\n",
      "아이\t0.007271222770214081\n",
      "좋아요\t0.006482959724962711\n",
      "있어서\t0.006074205972254276\n",
      "중앙\t0.005828101187944412\n",
      "어린이\t0.00576761644333601\n",
      "미술관\t0.0053528472781181335\n",
      "좋습니다\t0.00535197090357542\n",
      "우리나라\t0.0050300429575145245\n",
      "\n",
      "== Topic #2 ==\n",
      "Labels: 사진, Ice, 얼음, 로커, 카메라\n",
      "사진\t0.01421237550675869\n",
      "재미있는\t0.007528217975050211\n",
      "경험\t0.006438449025154114\n",
      "친구\t0.006344837136566639\n",
      "재미\t0.005843170452862978\n",
      "시간\t0.005691996775567532\n",
      "장소\t0.00568210007622838\n",
      "얼음\t0.005201168358325958\n",
      "그것\t0.004959261044859886\n",
      "공연\t0.004796575754880905\n",
      "\n",
      "== Topic #3 ==\n",
      "Labels: 희망, 한국 이해, 나라 위해, 비극, 있는 체험\n",
      "전쟁\t0.005524120293557644\n",
      "나라\t0.005338463466614485\n",
      "너무\t0.004888693802058697\n",
      "그녀\t0.0045888377353549\n",
      "않고\t0.004555920138955116\n",
      "가게\t0.004390565678477287\n",
      "사람\t0.004339771345257759\n",
      "주는\t0.004219414666295052\n",
      "아이\t0.004042365588247776\n",
      "하고\t0.003976785112172365\n",
      "\n"
     ]
    }
   ],
   "source": [
    " # extract candidates for auto topic labeling\n",
    "extractor = tp.label.PMIExtractor(min_cf=5, min_df=5, max_len=5, max_cand=10000, normalized=True)\n",
    "cands = extractor.extract(model)\n",
    "\n",
    "labeler = tp.label.FoRelevance(model, cands, min_df=5, smoothing=1e-2, mu=0.25)\n",
    "for k in range(model.k):\n",
    "    print(\"== Topic #{} ==\".format(k))\n",
    "    print(\"Labels:\", ', '.join(label for label, score in labeler.get_topic_labels(k, top_n=5)))\n",
    "    for word, prob in model.get_topic_words(k, top_n=10):\n",
    "        print(word, prob, sep='\\t')\n",
    "    print()"
   ]
  },
  {
   "cell_type": "code",
   "execution_count": 20,
   "id": "082cd52d",
   "metadata": {},
   "outputs": [
    {
     "name": "stdout",
     "output_type": "stream",
     "text": [
      "<class 'pandas.core.frame.DataFrame'>\n",
      "RangeIndex: 1704 entries, 0 to 1703\n",
      "Data columns (total 2 columns):\n",
      " #   Column  Non-Null Count  Dtype \n",
      "---  ------  --------------  ----- \n",
      " 0   docs    1704 non-null   object\n",
      " 1   score   1704 non-null   object\n",
      "dtypes: object(2)\n",
      "memory usage: 26.8+ KB\n"
     ]
    }
   ],
   "source": [
    "#빈도 구하기 전\n",
    "df5=pd.DataFrame()\n",
    "df5['docs']=tokenized_list_no\n",
    "df5['score']=df2['score'].values\n",
    "df5.info()"
   ]
  },
  {
   "cell_type": "code",
   "execution_count": 21,
   "id": "41a8690f",
   "metadata": {},
   "outputs": [
    {
     "data": {
      "text/html": [
       "<div>\n",
       "<style scoped>\n",
       "    .dataframe tbody tr th:only-of-type {\n",
       "        vertical-align: middle;\n",
       "    }\n",
       "\n",
       "    .dataframe tbody tr th {\n",
       "        vertical-align: top;\n",
       "    }\n",
       "\n",
       "    .dataframe thead th {\n",
       "        text-align: right;\n",
       "    }\n",
       "</style>\n",
       "<table border=\"1\" class=\"dataframe\">\n",
       "  <thead>\n",
       "    <tr style=\"text-align: right;\">\n",
       "      <th></th>\n",
       "      <th>docs</th>\n",
       "      <th>score</th>\n",
       "      <th>topic_num</th>\n",
       "    </tr>\n",
       "  </thead>\n",
       "  <tbody>\n",
       "    <tr>\n",
       "      <th>4</th>\n",
       "      <td>[매우, 즐거운, 온라인, 예약, 할인, 가격, 사전, 예약, 받지, 않고, 카운터...</td>\n",
       "      <td>4</td>\n",
       "      <td>NaN</td>\n",
       "    </tr>\n",
       "    <tr>\n",
       "      <th>6</th>\n",
       "      <td>[재미있는, 유능한, 공연, 배우, 재미있는, 걸어주었다, 한국말, 하지, 너무, ...</td>\n",
       "      <td>3</td>\n",
       "      <td>NaN</td>\n",
       "    </tr>\n",
       "    <tr>\n",
       "      <th>7</th>\n",
       "      <td>[모든, 커버, 주는, 처음, 철저하게, 재미있었습니다, 기대, 도구, 사용, 하여...</td>\n",
       "      <td>5</td>\n",
       "      <td>NaN</td>\n",
       "    </tr>\n",
       "    <tr>\n",
       "      <th>8</th>\n",
       "      <td>[즐겁고, 유쾌한, 서울, 도착, 위해, 예약, 저희, 명동, 있는, 머물, 선택,...</td>\n",
       "      <td>5</td>\n",
       "      <td>NaN</td>\n",
       "    </tr>\n",
       "    <tr>\n",
       "      <th>10</th>\n",
       "      <td>[기막히게, 멋져요, 재미있는, 구걸, 너무, 재밌었고, 그냥, 유쾌하고, 배우, ...</td>\n",
       "      <td>5</td>\n",
       "      <td>NaN</td>\n",
       "    </tr>\n",
       "    <tr>\n",
       "      <th>...</th>\n",
       "      <td>...</td>\n",
       "      <td>...</td>\n",
       "      <td>...</td>\n",
       "    </tr>\n",
       "    <tr>\n",
       "      <th>1668</th>\n",
       "      <td>[재미있지만, 비싸다, 무슨, 재미, 휴대, 전화, 완전, 충전, 상태, 확인, 하...</td>\n",
       "      <td>3</td>\n",
       "      <td>NaN</td>\n",
       "    </tr>\n",
       "    <tr>\n",
       "      <th>1688</th>\n",
       "      <td>[그럴, 가치, 없어, 사기, 비트, 특별한, 없지만, 실제, 약하다, 귀찮은, 스...</td>\n",
       "      <td>1</td>\n",
       "      <td>NaN</td>\n",
       "    </tr>\n",
       "    <tr>\n",
       "      <th>1693</th>\n",
       "      <td>[아이, 정말, 좋아했어요, 아이, 먼저, 가자고, 제안, 해서, 봤는데, 아빠, ...</td>\n",
       "      <td>5</td>\n",
       "      <td>NaN</td>\n",
       "    </tr>\n",
       "    <tr>\n",
       "      <th>1694</th>\n",
       "      <td>[방문, 후기, 너무, 너무, 재미있었고, 오고, 싶어요, 그리고, 컵홀더, 예쁜,...</td>\n",
       "      <td>5</td>\n",
       "      <td>NaN</td>\n",
       "    </tr>\n",
       "    <tr>\n",
       "      <th>1702</th>\n",
       "      <td>[이상, 박물관, 이상, 흥분하지, 않습니다, 잊지, 경험, 홍익, 대학교, 않은,...</td>\n",
       "      <td>5</td>\n",
       "      <td>NaN</td>\n",
       "    </tr>\n",
       "  </tbody>\n",
       "</table>\n",
       "<p>274 rows × 3 columns</p>\n",
       "</div>"
      ],
      "text/plain": [
       "                                                   docs score  topic_num\n",
       "4     [매우, 즐거운, 온라인, 예약, 할인, 가격, 사전, 예약, 받지, 않고, 카운터...     4        NaN\n",
       "6     [재미있는, 유능한, 공연, 배우, 재미있는, 걸어주었다, 한국말, 하지, 너무, ...     3        NaN\n",
       "7     [모든, 커버, 주는, 처음, 철저하게, 재미있었습니다, 기대, 도구, 사용, 하여...     5        NaN\n",
       "8     [즐겁고, 유쾌한, 서울, 도착, 위해, 예약, 저희, 명동, 있는, 머물, 선택,...     5        NaN\n",
       "10    [기막히게, 멋져요, 재미있는, 구걸, 너무, 재밌었고, 그냥, 유쾌하고, 배우, ...     5        NaN\n",
       "...                                                 ...   ...        ...\n",
       "1668  [재미있지만, 비싸다, 무슨, 재미, 휴대, 전화, 완전, 충전, 상태, 확인, 하...     3        NaN\n",
       "1688  [그럴, 가치, 없어, 사기, 비트, 특별한, 없지만, 실제, 약하다, 귀찮은, 스...     1        NaN\n",
       "1693  [아이, 정말, 좋아했어요, 아이, 먼저, 가자고, 제안, 해서, 봤는데, 아빠, ...     5        NaN\n",
       "1694  [방문, 후기, 너무, 너무, 재미있었고, 오고, 싶어요, 그리고, 컵홀더, 예쁜,...     5        NaN\n",
       "1702  [이상, 박물관, 이상, 흥분하지, 않습니다, 잊지, 경험, 홍익, 대학교, 않은,...     5        NaN\n",
       "\n",
       "[274 rows x 3 columns]"
      ]
     },
     "execution_count": 21,
     "metadata": {},
     "output_type": "execute_result"
    }
   ],
   "source": [
    "#빈도 구하기\n",
    "\n",
    "topic_num=[]\n",
    "temp1=[] #토픽번호\n",
    "temp2=[] #분포율\n",
    "for i in range(len(model.docs)):\n",
    "    a=model.docs[i].get_topics()\n",
    "    temp1.append([x[0] for x in a])\n",
    "    temp2.append([x[1] for x in a])\n",
    "for i in range(len(temp1)):\n",
    "    if temp2[i][0] >= 0.5:\n",
    "        topic_num.append(temp1[i][0])\n",
    "    else :\n",
    "        topic_num.append(np.NaN)\n",
    "df5['topic_num']=topic_num\n",
    "df5[df5['topic_num'].isnull()]"
   ]
  },
  {
   "cell_type": "code",
   "execution_count": 22,
   "id": "8699ca55",
   "metadata": {},
   "outputs": [
    {
     "name": "stdout",
     "output_type": "stream",
     "text": [
      "    topic_num score  counts\n",
      "0         0.0     1       1\n",
      "1         0.0     2       2\n",
      "2         0.0     3      36\n",
      "3         0.0     4     200\n",
      "4         0.0     5     468\n",
      "5         1.0     1       1\n",
      "6         1.0     2       4\n",
      "7         1.0     3      28\n",
      "8         1.0     4     119\n",
      "9         1.0     5     174\n",
      "10        2.0     1       4\n",
      "11        2.0     2       6\n",
      "12        2.0     3      31\n",
      "13        2.0     4      96\n",
      "14        2.0     5     223\n",
      "15        3.0     2       1\n",
      "16        3.0     3       5\n",
      "17        3.0     4      11\n",
      "18        3.0     5      20\n"
     ]
    }
   ],
   "source": [
    "df6=df5.groupby(['topic_num','score'])['docs']\n",
    "print(df6.size().reset_index(name='counts'))"
   ]
  },
  {
   "cell_type": "code",
   "execution_count": null,
   "id": "e371d2ab",
   "metadata": {},
   "outputs": [],
   "source": []
  }
 ],
 "metadata": {
  "kernelspec": {
   "display_name": "Python 3 (ipykernel)",
   "language": "python",
   "name": "python3"
  },
  "language_info": {
   "codemirror_mode": {
    "name": "ipython",
    "version": 3
   },
   "file_extension": ".py",
   "mimetype": "text/x-python",
   "name": "python",
   "nbconvert_exporter": "python",
   "pygments_lexer": "ipython3",
   "version": "3.8.12"
  }
 },
 "nbformat": 4,
 "nbformat_minor": 5
}
