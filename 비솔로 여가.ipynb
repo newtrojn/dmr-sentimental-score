{
 "cells": [
  {
   "cell_type": "code",
   "execution_count": 1,
   "id": "7cd86a82",
   "metadata": {},
   "outputs": [],
   "source": [
    "import tomotopy as tp\n",
    "import numpy as np\n",
    "import pandas as pd\n",
    "import re\n",
    "import os\n",
    "import time\n",
    "import itertools\n",
    "import konlpy\n",
    "from kiwipiepy import Kiwi\n",
    "from hanspell import spell_checker\n",
    "from tqdm import tqdm\n",
    "import matplotlib.pyplot as plt\n",
    "import matplotlib.ticker as ticker\n",
    "import pyLDAvis\n"
   ]
  },
  {
   "cell_type": "code",
   "execution_count": 2,
   "id": "f1d37b14",
   "metadata": {
    "scrolled": true
   },
   "outputs": [
    {
     "name": "stderr",
     "output_type": "stream",
     "text": [
      "C:\\Users\\jenny\\AppData\\Local\\Temp/ipykernel_12104/1705503032.py:1: DeprecationWarning: `np.str` is a deprecated alias for the builtin `str`. To silence this warning, use `str` by itself. Doing this will not modify any behavior and is safe. If you specifically wanted the numpy scalar type, use `np.str_` here.\n",
      "Deprecated in NumPy 1.20; for more details and guidance: https://numpy.org/devdocs/release/1.20.0-notes.html#deprecations\n",
      "  df=pd.read_csv('leisure2.csv',encoding='utf-8-sig',header=0, dtype={'score':np.str})\n"
     ]
    },
    {
     "name": "stdout",
     "output_type": "stream",
     "text": [
      "<class 'pandas.core.frame.DataFrame'>\n",
      "RangeIndex: 12029 entries, 0 to 12028\n",
      "Data columns (total 9 columns):\n",
      " #   Column        Non-Null Count  Dtype \n",
      "---  ------        --------------  ----- \n",
      " 0   Unnamed: 0    12029 non-null  int64 \n",
      " 1   real_date     12029 non-null  object\n",
      " 2   year          12029 non-null  int64 \n",
      " 3   month         12029 non-null  int64 \n",
      " 4   type          10567 non-null  object\n",
      " 5   review_title  12029 non-null  object\n",
      " 6   review        12029 non-null  object\n",
      " 7   score         12029 non-null  object\n",
      " 8   dataset       11869 non-null  object\n",
      "dtypes: int64(3), object(6)\n",
      "memory usage: 845.9+ KB\n"
     ]
    }
   ],
   "source": [
    "df=pd.read_csv('leisure2.csv',encoding='utf-8-sig',header=0, dtype={'score':np.str})\n",
    "df.info()"
   ]
  },
  {
   "cell_type": "code",
   "execution_count": 3,
   "id": "8b11a13d",
   "metadata": {},
   "outputs": [
    {
     "data": {
      "text/plain": [
       "array([' 커플', ' 개인', ' 가족', ' 친구', ' 비지니스', nan], dtype=object)"
      ]
     },
     "execution_count": 3,
     "metadata": {},
     "output_type": "execute_result"
    }
   ],
   "source": [
    "df['type'].unique()"
   ]
  },
  {
   "cell_type": "code",
   "execution_count": 4,
   "id": "9bb8e2a5",
   "metadata": {},
   "outputs": [],
   "source": [
    "for i in range(len(df)):\n",
    "    if df.iloc[i,4] in [' 친구',' 가족',' 커플']:\n",
    "        df.iloc[i,4] = 'no_solo'\n",
    "    elif df.iloc[i,4] in [' 비지니스', np.NaN]:\n",
    "        df.iloc[i,4] = np.NaN\n",
    "    elif df.iloc[i,4] in [' 개인']:\n",
    "        df.iloc[i,4]='solo'"
   ]
  },
  {
   "cell_type": "code",
   "execution_count": 5,
   "id": "7f75caac",
   "metadata": {
    "scrolled": true
   },
   "outputs": [
    {
     "data": {
      "text/plain": [
       "array(['no_solo', 'solo', nan], dtype=object)"
      ]
     },
     "execution_count": 5,
     "metadata": {},
     "output_type": "execute_result"
    }
   ],
   "source": [
    "df['type'].unique()"
   ]
  },
  {
   "cell_type": "code",
   "execution_count": 6,
   "id": "a5b95b57",
   "metadata": {},
   "outputs": [
    {
     "name": "stdout",
     "output_type": "stream",
     "text": [
      "<class 'pandas.core.frame.DataFrame'>\n",
      "Int64Index: 9962 entries, 0 to 12028\n",
      "Data columns (total 9 columns):\n",
      " #   Column        Non-Null Count  Dtype \n",
      "---  ------        --------------  ----- \n",
      " 0   Unnamed: 0    9962 non-null   int64 \n",
      " 1   real_date     9962 non-null   object\n",
      " 2   year          9962 non-null   int64 \n",
      " 3   month         9962 non-null   int64 \n",
      " 4   type          9962 non-null   object\n",
      " 5   review_title  9962 non-null   object\n",
      " 6   review        9962 non-null   object\n",
      " 7   score         9962 non-null   object\n",
      " 8   dataset       9816 non-null   object\n",
      "dtypes: int64(3), object(6)\n",
      "memory usage: 778.3+ KB\n"
     ]
    }
   ],
   "source": [
    "df.dropna(subset=['type'], how='any', inplace=True)\n",
    "df.info()"
   ]
  },
  {
   "cell_type": "code",
   "execution_count": 7,
   "id": "f24a8613",
   "metadata": {},
   "outputs": [],
   "source": [
    "#솔로/비솔로 데이터 구분\n",
    "#솔로\n",
    "condition = (df.type=='no_solo')\n",
    "df2=df.loc[condition]"
   ]
  },
  {
   "cell_type": "code",
   "execution_count": 8,
   "id": "5ba1fbbf",
   "metadata": {},
   "outputs": [
    {
     "name": "stdout",
     "output_type": "stream",
     "text": [
      "<class 'pandas.core.frame.DataFrame'>\n",
      "Int64Index: 8249 entries, 0 to 12028\n",
      "Data columns (total 9 columns):\n",
      " #   Column        Non-Null Count  Dtype \n",
      "---  ------        --------------  ----- \n",
      " 0   Unnamed: 0    8249 non-null   int64 \n",
      " 1   real_date     8249 non-null   object\n",
      " 2   year          8249 non-null   int64 \n",
      " 3   month         8249 non-null   int64 \n",
      " 4   type          8249 non-null   object\n",
      " 5   review_title  8249 non-null   object\n",
      " 6   review        8249 non-null   object\n",
      " 7   score         8249 non-null   object\n",
      " 8   dataset       8128 non-null   object\n",
      "dtypes: int64(3), object(6)\n",
      "memory usage: 644.5+ KB\n"
     ]
    }
   ],
   "source": [
    "df2.info()"
   ]
  },
  {
   "cell_type": "code",
   "execution_count": 9,
   "id": "55a4b5ea",
   "metadata": {},
   "outputs": [
    {
     "name": "stdout",
     "output_type": "stream",
     "text": [
      "<class 'pandas.core.frame.DataFrame'>\n",
      "Int64Index: 8128 entries, 0 to 12028\n",
      "Data columns (total 9 columns):\n",
      " #   Column        Non-Null Count  Dtype \n",
      "---  ------        --------------  ----- \n",
      " 0   Unnamed: 0    8128 non-null   int64 \n",
      " 1   real_date     8128 non-null   object\n",
      " 2   year          8128 non-null   int64 \n",
      " 3   month         8128 non-null   int64 \n",
      " 4   type          8128 non-null   object\n",
      " 5   review_title  8128 non-null   object\n",
      " 6   review        8128 non-null   object\n",
      " 7   score         8128 non-null   object\n",
      " 8   dataset       8128 non-null   object\n",
      "dtypes: int64(3), object(6)\n",
      "memory usage: 635.0+ KB\n"
     ]
    },
    {
     "name": "stderr",
     "output_type": "stream",
     "text": [
      "C:\\Users\\jenny\\anaconda3\\lib\\site-packages\\pandas\\util\\_decorators.py:311: SettingWithCopyWarning: \n",
      "A value is trying to be set on a copy of a slice from a DataFrame\n",
      "\n",
      "See the caveats in the documentation: https://pandas.pydata.org/pandas-docs/stable/user_guide/indexing.html#returning-a-view-versus-a-copy\n",
      "  return func(*args, **kwargs)\n"
     ]
    }
   ],
   "source": [
    "df2.dropna(subset=['dataset'], how='any', inplace=True)\n",
    "df2.info()"
   ]
  },
  {
   "cell_type": "code",
   "execution_count": 10,
   "id": "75c84dac",
   "metadata": {},
   "outputs": [],
   "source": [
    "#응집도 계산 전 사용할 토크나이저 함수 정의\n",
    "\n",
    "import konlpy\n",
    "stop_list=['우리','함께','있습니다']\n",
    "def tokenize_korean_text(text):\n",
    "    text = re.sub(r'[^,.?!\\w\\s]','', text)\n",
    "    \n",
    "    okt = konlpy.tag.Okt()\n",
    "    Okt_morphs = okt.pos(text)\n",
    "    \n",
    "    words = []\n",
    "    for word, pos in Okt_morphs:\n",
    "        if not pos == 'Josa' and not pos =='Punctuation' and not pos =='Foreign' and len(word) > 1 and word not in stop_list :\n",
    "            words.append(word)\n",
    "    ## word를 이어붙인 string 형태가 아닌 word의 list를 return해주는 게 sklearn lda 준비 과정과의 차이\n",
    "            \n",
    "    return words"
   ]
  },
  {
   "cell_type": "code",
   "execution_count": 11,
   "id": "8a2fd679",
   "metadata": {},
   "outputs": [],
   "source": [
    "#솔로 데이터 토큰화\n",
    "tokenized_list_no = []\n",
    "a=df2['dataset'].values\n",
    "for text in range(len(a)):\n",
    "    tokenized_list_no.append(tokenize_korean_text(a[text]))"
   ]
  },
  {
   "cell_type": "code",
   "execution_count": 12,
   "id": "30ba9c07",
   "metadata": {
    "scrolled": true
   },
   "outputs": [
    {
     "name": "stdout",
     "output_type": "stream",
     "text": [
      "Total docs: 8128\n",
      "Total words: 212041\n",
      "Vocab size: 5980\n"
     ]
    }
   ],
   "source": [
    "#솔로\n",
    "model = tp.DMRModel(k=20, alpha=0.1, eta=0.01, min_cf=3,rm_top=3,tw=tp.TermWeight.IDF)\n",
    "\n",
    "key=df2['score'].values\n",
    "value=tokenized_list_no\n",
    "\n",
    "\n",
    "for pairs in zip(key, value):\n",
    "    try :\n",
    "        model.add_doc(pairs[1],metadata=pairs[0]) # tokenize함수를 이용해 전처리한 결과를 add_doc에 넣습니다.\n",
    "    except RuntimeError :\n",
    "        pass\n",
    "        \n",
    "               \n",
    "model.train(0)\n",
    "print('Total docs:', len(model.docs))\n",
    "print('Total words:', model.num_words)\n",
    "print('Vocab size:', model.num_vocabs)\n",
    " "
   ]
  },
  {
   "cell_type": "code",
   "execution_count": 13,
   "id": "acc57850",
   "metadata": {
    "scrolled": true
   },
   "outputs": [
    {
     "name": "stdout",
     "output_type": "stream",
     "text": [
      "<Basic Info>\n",
      "| DMRModel (current version: 0.12.2)\n",
      "| 8128 docs, 212041 words\n",
      "| Total Vocabs: 16664, Used Vocabs: 5980\n",
      "| Entropy of words: 7.19274\n",
      "| Entropy of term-weighted words: 7.81201\n",
      "| Removed Vocabs: 있는 좋은 서울\n",
      "| Metadata of docs and its distribution\n",
      "|  5: 4032\n",
      "|  4: 3055\n",
      "|  3: 913\n",
      "|  2: 100\n",
      "|  1: 28\n",
      "|\n",
      "<Training Info>\n",
      "| Iterations: 0, Burn-in steps: 0\n",
      "| Optimization Interval: 10\n",
      "| Log-likelihood per word: -10.61094\n",
      "|\n",
      "<Initial Parameters>\n",
      "| tw: TermWeight.IDF\n",
      "| min_cf: 3 (minimum collection frequency of words)\n",
      "| min_df: 0 (minimum document frequency of words)\n",
      "| rm_top: 3 (the number of top words to be removed)\n",
      "| k: 20 (the number of topics between 1 ~ 32767)\n",
      "| alpha: [0.1] (an initial value of exponential of mean of normal distribution for `lambdas`, given as a single `float` in case of symmetric prior and as a list with length `k` of `float` in case of asymmetric prior.)\n",
      "| eta: 0.01 (hyperparameter of Dirichlet distribution for topic - word)\n",
      "| sigma: 1.0 (standard deviation of normal distribution for `lambdas`)\n",
      "| alpha_epsilon: 1e-10 (small smoothing value for preventing `exp(lambdas)` to be near zero)\n",
      "| seed: 3759633559 (random seed)\n",
      "| trained in version 0.12.2\n",
      "|\n",
      "<Parameters>\n",
      "| lambda (feature vector per metadata of documents)\n",
      "|  [[[-2.3025851]\n",
      "|    [-2.3025851]\n",
      "|    [-2.3025851]\n",
      "|    [-2.3025851]\n",
      "|    [-2.3025851]]\n",
      "|  \n",
      "|   [[-2.3025851]\n",
      "|    [-2.3025851]\n",
      "|    [-2.3025851]\n",
      "|    [-2.3025851]\n",
      "|    [-2.3025851]]\n",
      "|  \n",
      "|   [[-2.3025851]\n",
      "|    [-2.3025851]\n",
      "|    [-2.3025851]\n",
      "|    [-2.3025851]\n",
      "|    [-2.3025851]]\n",
      "|  \n",
      "|   [[-2.3025851]\n",
      "|    [-2.3025851]\n",
      "|    [-2.3025851]\n",
      "|    [-2.3025851]\n",
      "|    [-2.3025851]]\n",
      "|  \n",
      "|   [[-2.3025851]\n",
      "|    [-2.3025851]\n",
      "|    [-2.3025851]\n",
      "|    [-2.3025851]\n",
      "|    [-2.3025851]]\n",
      "|  \n",
      "|   [[-2.3025851]\n",
      "|    [-2.3025851]\n",
      "|    [-2.3025851]\n",
      "|    [-2.3025851]\n",
      "|    [-2.3025851]]\n",
      "|  \n",
      "|   [[-2.3025851]\n",
      "|    [-2.3025851]\n",
      "|    [-2.3025851]\n",
      "|    [-2.3025851]\n",
      "|    [-2.3025851]]\n",
      "|  \n",
      "|   [[-2.3025851]\n",
      "|    [-2.3025851]\n",
      "|    [-2.3025851]\n",
      "|    [-2.3025851]\n",
      "|    [-2.3025851]]\n",
      "|  \n",
      "|   [[-2.3025851]\n",
      "|    [-2.3025851]\n",
      "|    [-2.3025851]\n",
      "|    [-2.3025851]\n",
      "|    [-2.3025851]]\n",
      "|  \n",
      "|   [[-2.3025851]\n",
      "|    [-2.3025851]\n",
      "|    [-2.3025851]\n",
      "|    [-2.3025851]\n",
      "|    [-2.3025851]]\n",
      "|  \n",
      "|   [[-2.3025851]\n",
      "|    [-2.3025851]\n",
      "|    [-2.3025851]\n",
      "|    [-2.3025851]\n",
      "|    [-2.3025851]]\n",
      "|  \n",
      "|   [[-2.3025851]\n",
      "|    [-2.3025851]\n",
      "|    [-2.3025851]\n",
      "|    [-2.3025851]\n",
      "|    [-2.3025851]]\n",
      "|  \n",
      "|   [[-2.3025851]\n",
      "|    [-2.3025851]\n",
      "|    [-2.3025851]\n",
      "|    [-2.3025851]\n",
      "|    [-2.3025851]]\n",
      "|  \n",
      "|   [[-2.3025851]\n",
      "|    [-2.3025851]\n",
      "|    [-2.3025851]\n",
      "|    [-2.3025851]\n",
      "|    [-2.3025851]]\n",
      "|  \n",
      "|   [[-2.3025851]\n",
      "|    [-2.3025851]\n",
      "|    [-2.3025851]\n",
      "|    [-2.3025851]\n",
      "|    [-2.3025851]]\n",
      "|  \n",
      "|   [[-2.3025851]\n",
      "|    [-2.3025851]\n",
      "|    [-2.3025851]\n",
      "|    [-2.3025851]\n",
      "|    [-2.3025851]]\n",
      "|  \n",
      "|   [[-2.3025851]\n",
      "|    [-2.3025851]\n",
      "|    [-2.3025851]\n",
      "|    [-2.3025851]\n",
      "|    [-2.3025851]]\n",
      "|  \n",
      "|   [[-2.3025851]\n",
      "|    [-2.3025851]\n",
      "|    [-2.3025851]\n",
      "|    [-2.3025851]\n",
      "|    [-2.3025851]]\n",
      "|  \n",
      "|   [[-2.3025851]\n",
      "|    [-2.3025851]\n",
      "|    [-2.3025851]\n",
      "|    [-2.3025851]\n",
      "|    [-2.3025851]]\n",
      "|  \n",
      "|   [[-2.3025851]\n",
      "|    [-2.3025851]\n",
      "|    [-2.3025851]\n",
      "|    [-2.3025851]\n",
      "|    [-2.3025851]]]\n",
      "| alpha (Dirichlet prior on the per-document topic distributions for each metadata)\n",
      "|  5: [0.09999999 0.09999999 0.09999999 0.09999999 0.09999999 0.09999999\n",
      "|     0.09999999 0.09999999 0.09999999 0.09999999 0.09999999 0.09999999\n",
      "|     0.09999999 0.09999999 0.09999999 0.09999999 0.09999999 0.09999999\n",
      "|     0.09999999 0.09999999]\n",
      "|  4: [0.09999999 0.09999999 0.09999999 0.09999999 0.09999999 0.09999999\n",
      "|     0.09999999 0.09999999 0.09999999 0.09999999 0.09999999 0.09999999\n",
      "|     0.09999999 0.09999999 0.09999999 0.09999999 0.09999999 0.09999999\n",
      "|     0.09999999 0.09999999]\n",
      "|  3: [0.09999999 0.09999999 0.09999999 0.09999999 0.09999999 0.09999999\n",
      "|     0.09999999 0.09999999 0.09999999 0.09999999 0.09999999 0.09999999\n",
      "|     0.09999999 0.09999999 0.09999999 0.09999999 0.09999999 0.09999999\n",
      "|     0.09999999 0.09999999]\n",
      "|  2: [0.09999999 0.09999999 0.09999999 0.09999999 0.09999999 0.09999999\n",
      "|     0.09999999 0.09999999 0.09999999 0.09999999 0.09999999 0.09999999\n",
      "|     0.09999999 0.09999999 0.09999999 0.09999999 0.09999999 0.09999999\n",
      "|     0.09999999 0.09999999]\n",
      "|  1: [0.09999999 0.09999999 0.09999999 0.09999999 0.09999999 0.09999999\n",
      "|     0.09999999 0.09999999 0.09999999 0.09999999 0.09999999 0.09999999\n",
      "|     0.09999999 0.09999999 0.09999999 0.09999999 0.09999999 0.09999999\n",
      "|     0.09999999 0.09999999]\n",
      "| eta (Dirichlet prior on the per-topic word distribution)\n",
      "|  0.01\n",
      "|\n",
      "<Topics>\n",
      "| #0 (10658) : 타워 방문 아름다운 많은 공원\n",
      "| #1 (10567) : 방문 타워 많은 사람 궁전\n",
      "| #2 (10615) : 방문 아름다운 타워 정말 시간\n",
      "| #3 (10639) : 타워 아름다운 방문 사람 하는\n",
      "| #4 (10551) : 하는 방문 시간 타워 전망\n",
      "| #5 (10664) : 타워 방문 정말 하는 많은\n",
      "| #6 (10572) : 타워 하는 입니다 합니다 방문\n",
      "| #7 (10481) : 타워 아름다운 방문 사람 하는\n",
      "| #8 (10316) : 타워 아름다운 입니다 멋진 전망\n",
      "| #9 (10585) : 타워 아름다운 하는 궁전 입니다\n",
      "| #10 (10796) : 타워 하는 아름다운 방문 많은\n",
      "| #11 (10743) : 타워 아름다운 시간 방문 입니다\n",
      "| #12 (10595) : 타워 방문 합니다 멋진 아름다운\n",
      "| #13 (10574) : 타워 아름다운 시간 전망 입니다\n",
      "| #14 (10531) : 타워 궁전 많은 아름다운 공원\n",
      "| #15 (10655) : 타워 방문 하는 아름다운 정말\n",
      "| #16 (10598) : 아름다운 방문 타워 하는 입니다\n",
      "| #17 (10704) : 방문 시간 아름다운 타워 하는\n",
      "| #18 (10399) : 타워 하는 방문 사람 입니다\n",
      "| #19 (10798) : 타워 방문 사람 합니다 시간\n",
      "|\n",
      "\n"
     ]
    }
   ],
   "source": [
    "model.summary()"
   ]
  },
  {
   "cell_type": "code",
   "execution_count": 14,
   "id": "86d2b426",
   "metadata": {
    "scrolled": true
   },
   "outputs": [
    {
     "name": "stdout",
     "output_type": "stream",
     "text": [
      "==== Coherence : c ====\n",
      "Average: 0.37306130850571206 \n",
      "Per Topic: [0.3825239211320877, 0.30469024628400804, 0.4028746792813763, 0.3488425612449646, 0.4083853095769882, 0.3640001766383648, 0.3705336734652519, 0.41031710654497144, 0.3749296128749847, 0.3650775983929634, 0.40951028317213056, 0.33726796619594096, 0.3851757600903511, 0.3132634162902832, 0.3867073869332671, 0.40230110883712766, 0.33082379326224326, 0.3908406987786293, 0.3859031558036804, 0.3872577153146267]\n"
     ]
    },
    {
     "data": {
      "image/png": "[encoded data removed]",
      "text/plain": [
       "<Figure size 432x288 with 1 Axes>"
      ]
     },
     "metadata": {
      "needs_background": "light"
     },
     "output_type": "display_data"
    },
    {
     "name": "stdout",
     "output_type": "stream",
     "text": [
      "\n"
     ]
    }
   ],
   "source": [
    "# calculate coherence using preset\n",
    "ax=plt.axes()\n",
    "coh = tp.coherence.Coherence(model, coherence='c_v')\n",
    "average_coherence = coh.get_score()\n",
    "coherence_per_topic = [coh.get_score(topic_id=k) for k in range(model.k)]\n",
    "print('==== Coherence : c ====')\n",
    "print('Average:', average_coherence, '\\nPer Topic:', coherence_per_topic)\n",
    "x=range(1,21,1)\n",
    "plt.plot(x, coherence_per_topic,marker='o')\n",
    "plt.xlabel(\"num_topics\")\n",
    "plt.ylabel(\"coherence\")\n",
    "ax.xaxis.set_major_locator(ticker.MultipleLocator(5))\n",
    "ax.xaxis.set_minor_locator(ticker.MultipleLocator(1))\n",
    "plt.show()\n",
    "print()"
   ]
  },
  {
   "cell_type": "code",
   "execution_count": 15,
   "id": "fce23065",
   "metadata": {
    "scrolled": true
   },
   "outputs": [
    {
     "name": "stdout",
     "output_type": "stream",
     "text": [
      "Total docs: 8128\n",
      "Total words: 212041\n",
      "Vocab size: 5980\n",
      "Topic #0\t궁전, 아름다운, 방문, 투어, 한국, 역사, 시간, 팰리스, 건물, 많은\n",
      "Topic #1\t한강, 좋아요, 너무, 공원, 산책, 야경, 도심, 입니다, 청계천, 좋습니다\n",
      "Topic #2\t타워, 전망, 케이블카, 타고, 버스, 도시, 멋진, 사랑, 남산, 공원\n"
     ]
    }
   ],
   "source": [
    "#토픽수 정하고 솔로 분석\n",
    "model = tp.DMRModel(k=3, alpha=0.1, eta=0.01, min_cf=3,rm_top=3,tw=tp.TermWeight.IDF)\n",
    "\n",
    "key=df2['score'].values\n",
    "value=tokenized_list_no\n",
    "\n",
    "for pairs in zip(key, value):\n",
    "    try :\n",
    "        model.add_doc(pairs[1],metadata=pairs[0]) # tokenize함수를 이용해 전처리한 결과를 add_doc에 넣습니다.\n",
    "    except RuntimeError :\n",
    "        pass\n",
    "\n",
    "model.train(0)\n",
    "print('Total docs:', len(model.docs))\n",
    "print('Total words:', model.num_words)\n",
    "print('Vocab size:', model.num_vocabs)\n",
    " \n",
    " \n",
    " \n",
    "for i in range(200):\n",
    "    model.train(1)\n",
    "    \n",
    "for i in range(model.k):\n",
    "    res = model.get_topic_words(i, top_n=10)\n",
    "    print('Topic #{}'.format(i), end='\\t')\n",
    "    print(', '.join(w for w, p in res))"
   ]
  },
  {
   "cell_type": "code",
   "execution_count": 16,
   "id": "322351f5",
   "metadata": {
    "scrolled": true
   },
   "outputs": [
    {
     "name": "stdout",
     "output_type": "stream",
     "text": [
      "<Basic Info>\n",
      "| DMRModel (current version: 0.12.2)\n",
      "| 8128 docs, 212041 words\n",
      "| Total Vocabs: 16664, Used Vocabs: 5980\n",
      "| Entropy of words: 7.19274\n",
      "| Entropy of term-weighted words: 7.81201\n",
      "| Removed Vocabs: 있는 좋은 서울\n",
      "| Metadata of docs and its distribution\n",
      "|  5: 4032\n",
      "|  4: 3055\n",
      "|  3: 913\n",
      "|  2: 100\n",
      "|  1: 28\n",
      "|\n",
      "<Training Info>\n",
      "| Iterations: 200, Burn-in steps: 0\n",
      "| Optimization Interval: 10\n",
      "| Log-likelihood per word: -7.74844\n",
      "|\n",
      "<Initial Parameters>\n",
      "| tw: TermWeight.IDF\n",
      "| min_cf: 3 (minimum collection frequency of words)\n",
      "| min_df: 0 (minimum document frequency of words)\n",
      "| rm_top: 3 (the number of top words to be removed)\n",
      "| k: 3 (the number of topics between 1 ~ 32767)\n",
      "| alpha: [0.1] (an initial value of exponential of mean of normal distribution for `lambdas`, given as a single `float` in case of symmetric prior and as a list with length `k` of `float` in case of asymmetric prior.)\n",
      "| eta: 0.01 (hyperparameter of Dirichlet distribution for topic - word)\n",
      "| sigma: 1.0 (standard deviation of normal distribution for `lambdas`)\n",
      "| alpha_epsilon: 1e-10 (small smoothing value for preventing `exp(lambdas)` to be near zero)\n",
      "| seed: 209898990 (random seed)\n",
      "| trained in version 0.12.2\n",
      "|\n",
      "<Parameters>\n",
      "| lambda (feature vector per metadata of documents)\n",
      "|  [[[-1.8982158]\n",
      "|    [-1.4097906]\n",
      "|    [-1.6816229]\n",
      "|    [-2.4210505]\n",
      "|    [-3.523514 ]]\n",
      "|  \n",
      "|   [[-2.5958025]\n",
      "|    [-2.0444276]\n",
      "|    [-2.4096508]\n",
      "|    [-0.6171767]\n",
      "|    [-2.2419422]]\n",
      "|  \n",
      "|   [[-2.3196537]\n",
      "|    [-1.797594 ]\n",
      "|    [-2.3462172]\n",
      "|    [-1.8549789]\n",
      "|    [-1.2239008]]]\n",
      "| alpha (Dirichlet prior on the per-document topic distributions for each metadata)\n",
      "|  5: [0.14983572 0.074586   0.09830762]\n",
      "|  4: [0.2441944  0.12945427 0.16569708]\n",
      "|  3: [0.18607177 0.08984666 0.09573061]\n",
      "|  2: [0.08882825 0.53946537 0.15645625]\n",
      "|  1: [0.0294956  0.10625195 0.29408076]\n",
      "| eta (Dirichlet prior on the per-topic word distribution)\n",
      "|  0.01\n",
      "|\n",
      "<Topics>\n",
      "| #0 (97745) : 궁전 아름다운 방문 투어 한국\n",
      "| #1 (53593) : 한강 좋아요 너무 공원 산책\n",
      "| #2 (60703) : 타워 전망 케이블카 타고 버스\n",
      "|\n",
      "\n"
     ]
    }
   ],
   "source": [
    "model.summary()"
   ]
  },
  {
   "cell_type": "code",
   "execution_count": 17,
   "id": "3e231b8e",
   "metadata": {
    "scrolled": true
   },
   "outputs": [
    {
     "name": "stdout",
     "output_type": "stream",
     "text": [
      "Topic distributions by score, solo\n"
     ]
    },
    {
     "data": {
      "text/html": [
       "<div>\n",
       "<style scoped>\n",
       "    .dataframe tbody tr th:only-of-type {\n",
       "        vertical-align: middle;\n",
       "    }\n",
       "\n",
       "    .dataframe tbody tr th {\n",
       "        vertical-align: top;\n",
       "    }\n",
       "\n",
       "    .dataframe thead th {\n",
       "        text-align: right;\n",
       "    }\n",
       "</style>\n",
       "<table border=\"1\" class=\"dataframe\">\n",
       "  <thead>\n",
       "    <tr style=\"text-align: right;\">\n",
       "      <th></th>\n",
       "      <th>1score</th>\n",
       "      <th>2score</th>\n",
       "      <th>3score</th>\n",
       "      <th>4score</th>\n",
       "      <th>5score</th>\n",
       "      <th>total</th>\n",
       "      <th>re_score</th>\n",
       "    </tr>\n",
       "  </thead>\n",
       "  <tbody>\n",
       "    <tr>\n",
       "      <th>0</th>\n",
       "      <td>0.029496</td>\n",
       "      <td>0.088828</td>\n",
       "      <td>0.186072</td>\n",
       "      <td>0.244194</td>\n",
       "      <td>0.149836</td>\n",
       "      <td>0.698426</td>\n",
       "      <td>3.567056</td>\n",
       "    </tr>\n",
       "    <tr>\n",
       "      <th>1</th>\n",
       "      <td>0.106252</td>\n",
       "      <td>0.539465</td>\n",
       "      <td>0.089847</td>\n",
       "      <td>0.129454</td>\n",
       "      <td>0.074586</td>\n",
       "      <td>0.939604</td>\n",
       "      <td>2.496232</td>\n",
       "    </tr>\n",
       "    <tr>\n",
       "      <th>2</th>\n",
       "      <td>0.294081</td>\n",
       "      <td>0.156456</td>\n",
       "      <td>0.095731</td>\n",
       "      <td>0.165697</td>\n",
       "      <td>0.098308</td>\n",
       "      <td>0.810272</td>\n",
       "      <td>2.528177</td>\n",
       "    </tr>\n",
       "  </tbody>\n",
       "</table>\n",
       "</div>"
      ],
      "text/plain": [
       "     1score    2score    3score    4score    5score     total  re_score\n",
       "0  0.029496  0.088828  0.186072  0.244194  0.149836  0.698426  3.567056\n",
       "1  0.106252  0.539465  0.089847  0.129454  0.074586  0.939604  2.496232\n",
       "2  0.294081  0.156456  0.095731  0.165697  0.098308  0.810272  2.528177"
      ]
     },
     "execution_count": 17,
     "metadata": {},
     "output_type": "execute_result"
    }
   ],
   "source": [
    "#솔로 감성점수 계산\n",
    "print('Topic distributions by score, solo')\n",
    "\n",
    "df4=pd.DataFrame()\n",
    "score_labels=['1','2','3','4','5']\n",
    "\n",
    "for i in score_labels:\n",
    "    df4[i+'score']=model.get_topic_prior(i)\n",
    "df4['total']=df4.sum(axis=1)\n",
    "\n",
    "total_sum=df4['total'].values\n",
    "gamsung_sum=0\n",
    "gamsung_list=[]\n",
    "\n",
    "for i in range(model.k):\n",
    "    a=df4.iloc[i,:-1].values\n",
    "    gamsung_sum=(a[0]*1+a[1]*2+a[2]*3+a[3]*4+a[4]*5)/total_sum[i]\n",
    "    gamsung_list.append(gamsung_sum)\n",
    "    \n",
    "df4['re_score']=gamsung_list\n",
    "df4.head(20)"
   ]
  },
  {
   "cell_type": "code",
   "execution_count": 18,
   "id": "e7187651",
   "metadata": {},
   "outputs": [
    {
     "data": {
      "text/html": [
       "<div>\n",
       "<style scoped>\n",
       "    .dataframe tbody tr th:only-of-type {\n",
       "        vertical-align: middle;\n",
       "    }\n",
       "\n",
       "    .dataframe tbody tr th {\n",
       "        vertical-align: top;\n",
       "    }\n",
       "\n",
       "    .dataframe thead th {\n",
       "        text-align: right;\n",
       "    }\n",
       "</style>\n",
       "<table border=\"1\" class=\"dataframe\">\n",
       "  <thead>\n",
       "    <tr style=\"text-align: right;\">\n",
       "      <th></th>\n",
       "      <th>1score</th>\n",
       "      <th>2score</th>\n",
       "      <th>3score</th>\n",
       "      <th>4score</th>\n",
       "      <th>5score</th>\n",
       "      <th>total</th>\n",
       "      <th>re_score</th>\n",
       "      <th>word_list</th>\n",
       "    </tr>\n",
       "  </thead>\n",
       "  <tbody>\n",
       "    <tr>\n",
       "      <th>0</th>\n",
       "      <td>0.029496</td>\n",
       "      <td>0.088828</td>\n",
       "      <td>0.186072</td>\n",
       "      <td>0.244194</td>\n",
       "      <td>0.149836</td>\n",
       "      <td>0.698426</td>\n",
       "      <td>3.567056</td>\n",
       "      <td>[궁전, 아름다운, 방문, 투어, 한국, 역사, 시간, 팰리스, 건물, 많은]</td>\n",
       "    </tr>\n",
       "    <tr>\n",
       "      <th>1</th>\n",
       "      <td>0.106252</td>\n",
       "      <td>0.539465</td>\n",
       "      <td>0.089847</td>\n",
       "      <td>0.129454</td>\n",
       "      <td>0.074586</td>\n",
       "      <td>0.939604</td>\n",
       "      <td>2.496232</td>\n",
       "      <td>[한강, 좋아요, 너무, 공원, 산책, 야경, 도심, 입니다, 청계천, 좋습니다]</td>\n",
       "    </tr>\n",
       "    <tr>\n",
       "      <th>2</th>\n",
       "      <td>0.294081</td>\n",
       "      <td>0.156456</td>\n",
       "      <td>0.095731</td>\n",
       "      <td>0.165697</td>\n",
       "      <td>0.098308</td>\n",
       "      <td>0.810272</td>\n",
       "      <td>2.528177</td>\n",
       "      <td>[타워, 전망, 케이블카, 타고, 버스, 도시, 멋진, 사랑, 남산, 공원]</td>\n",
       "    </tr>\n",
       "  </tbody>\n",
       "</table>\n",
       "</div>"
      ],
      "text/plain": [
       "     1score    2score    3score    4score    5score     total  re_score  \\\n",
       "0  0.029496  0.088828  0.186072  0.244194  0.149836  0.698426  3.567056   \n",
       "1  0.106252  0.539465  0.089847  0.129454  0.074586  0.939604  2.496232   \n",
       "2  0.294081  0.156456  0.095731  0.165697  0.098308  0.810272  2.528177   \n",
       "\n",
       "                                       word_list  \n",
       "0    [궁전, 아름다운, 방문, 투어, 한국, 역사, 시간, 팰리스, 건물, 많은]  \n",
       "1  [한강, 좋아요, 너무, 공원, 산책, 야경, 도심, 입니다, 청계천, 좋습니다]  \n",
       "2     [타워, 전망, 케이블카, 타고, 버스, 도시, 멋진, 사랑, 남산, 공원]  "
      ]
     },
     "execution_count": 18,
     "metadata": {},
     "output_type": "execute_result"
    }
   ],
   "source": [
    "#각 토픽 별 상위 10개 단어 추출\n",
    "word_list=[]\n",
    "for i in range(model.k):\n",
    "    a=model.get_topic_words(i, top_n=10)\n",
    "    word_list.append([x[0] for x in a])\n",
    "\n",
    "df4['word_list']=word_list\n",
    "df4.head(15)"
   ]
  },
  {
   "cell_type": "code",
   "execution_count": 19,
   "id": "59fcad33",
   "metadata": {
    "scrolled": true
   },
   "outputs": [
    {
     "name": "stdout",
     "output_type": "stream",
     "text": [
      "== Topic #0 ==\n",
      "Labels: 팰리스, 궁전, 가이드, 영어, 투어\n",
      "궁전\t0.007291365880519152\n",
      "아름다운\t0.0061088320799171925\n",
      "방문\t0.005989737343043089\n",
      "투어\t0.0057149664498865604\n",
      "한국\t0.005483351182192564\n",
      "역사\t0.005447895731776953\n",
      "시간\t0.005257850978523493\n",
      "팰리스\t0.005101337097585201\n",
      "건물\t0.004951192997395992\n",
      "많은\t0.004927217494696379\n",
      "\n",
      "== Topic #1 ==\n",
      "Labels: 좋아요, 도심, 같아요, 다만 주말, 데이트\n",
      "한강\t0.00725347688421607\n",
      "좋아요\t0.007018682546913624\n",
      "너무\t0.005803179461508989\n",
      "공원\t0.005603605881333351\n",
      "산책\t0.005409713368862867\n",
      "야경\t0.005145154893398285\n",
      "도심\t0.004744945093989372\n",
      "입니다\t0.004701399244368076\n",
      "청계천\t0.004624018445611\n",
      "좋습니다\t0.0043707904405891895\n",
      "\n",
      "== Topic #2 ==\n",
      "Labels: 타워, 케이블카, 타고, 전망, 케이블\n",
      "타워\t0.01673901453614235\n",
      "전망\t0.011057371273636818\n",
      "케이블카\t0.009275693446397781\n",
      "타고\t0.007990209385752678\n",
      "버스\t0.006595817860215902\n",
      "도시\t0.005927341990172863\n",
      "멋진\t0.005853669252246618\n",
      "사랑\t0.0053087021224200726\n",
      "남산\t0.00511753186583519\n",
      "공원\t0.0048339152708649635\n",
      "\n"
     ]
    }
   ],
   "source": [
    " # extract candidates for auto topic labeling\n",
    "extractor = tp.label.PMIExtractor(min_cf=5, min_df=5, max_len=5, max_cand=10000, normalized=True)\n",
    "cands = extractor.extract(model)\n",
    "\n",
    "labeler = tp.label.FoRelevance(model, cands, min_df=5, smoothing=1e-2, mu=0.25)\n",
    "for k in range(model.k):\n",
    "    print(\"== Topic #{} ==\".format(k))\n",
    "    print(\"Labels:\", ', '.join(label for label, score in labeler.get_topic_labels(k, top_n=5)))\n",
    "    for word, prob in model.get_topic_words(k, top_n=10):\n",
    "        print(word, prob, sep='\\t')\n",
    "    print()"
   ]
  },
  {
   "cell_type": "code",
   "execution_count": 20,
   "id": "082cd52d",
   "metadata": {},
   "outputs": [
    {
     "name": "stdout",
     "output_type": "stream",
     "text": [
      "<class 'pandas.core.frame.DataFrame'>\n",
      "RangeIndex: 8128 entries, 0 to 8127\n",
      "Data columns (total 2 columns):\n",
      " #   Column  Non-Null Count  Dtype \n",
      "---  ------  --------------  ----- \n",
      " 0   docs    8128 non-null   object\n",
      " 1   score   8128 non-null   object\n",
      "dtypes: object(2)\n",
      "memory usage: 127.1+ KB\n"
     ]
    }
   ],
   "source": [
    "#빈도 구하기 전\n",
    "df5=pd.DataFrame()\n",
    "df5['docs']=tokenized_list_no\n",
    "df5['score']=df2['score'].values\n",
    "df5.info()"
   ]
  },
  {
   "cell_type": "code",
   "execution_count": 21,
   "id": "41a8690f",
   "metadata": {},
   "outputs": [
    {
     "data": {
      "text/html": [
       "<div>\n",
       "<style scoped>\n",
       "    .dataframe tbody tr th:only-of-type {\n",
       "        vertical-align: middle;\n",
       "    }\n",
       "\n",
       "    .dataframe tbody tr th {\n",
       "        vertical-align: top;\n",
       "    }\n",
       "\n",
       "    .dataframe thead th {\n",
       "        text-align: right;\n",
       "    }\n",
       "</style>\n",
       "<table border=\"1\" class=\"dataframe\">\n",
       "  <thead>\n",
       "    <tr style=\"text-align: right;\">\n",
       "      <th></th>\n",
       "      <th>docs</th>\n",
       "      <th>score</th>\n",
       "      <th>topic_num</th>\n",
       "    </tr>\n",
       "  </thead>\n",
       "  <tbody>\n",
       "    <tr>\n",
       "      <th>2</th>\n",
       "      <td>[나들이, 하기, 좋은, 가끔, 어머니, 산책, 하러, 갑니다, 향원정, 너무, 이...</td>\n",
       "      <td>4</td>\n",
       "      <td>NaN</td>\n",
       "    </tr>\n",
       "    <tr>\n",
       "      <th>126</th>\n",
       "      <td>[봐야, 하는, 궁전, 혼잡, 이유, 있나, 건축, 아름다우면서, 세부, 심압, 대...</td>\n",
       "      <td>4</td>\n",
       "      <td>NaN</td>\n",
       "    </tr>\n",
       "    <tr>\n",
       "      <th>177</th>\n",
       "      <td>[놀라운, 정말, 놀라운, 역사, 애호가, 관광객, 시간, 자연, 가깝습니다, 풍경...</td>\n",
       "      <td>5</td>\n",
       "      <td>NaN</td>\n",
       "    </tr>\n",
       "    <tr>\n",
       "      <th>687</th>\n",
       "      <td>[외국인, 친구, 가기, 좋은, 가장, 한국, 이기, 때문, 외국인, 친구, 아주,...</td>\n",
       "      <td>5</td>\n",
       "      <td>NaN</td>\n",
       "    </tr>\n",
       "    <tr>\n",
       "      <th>810</th>\n",
       "      <td>[멋진, 장소, 다른, 야간, 개장, 주는, 다른, 매력, 때마침, 내린, 비는, ...</td>\n",
       "      <td>5</td>\n",
       "      <td>NaN</td>\n",
       "    </tr>\n",
       "    <tr>\n",
       "      <th>...</th>\n",
       "      <td>...</td>\n",
       "      <td>...</td>\n",
       "      <td>...</td>\n",
       "    </tr>\n",
       "    <tr>\n",
       "      <th>7690</th>\n",
       "      <td>[좋아하는, 서울, 좋아하는, 서울, 입니다, 아주, 사랑스러운, 가을, 비원, 이...</td>\n",
       "      <td>5</td>\n",
       "      <td>NaN</td>\n",
       "    </tr>\n",
       "    <tr>\n",
       "      <th>7699</th>\n",
       "      <td>[편안한, 지하철, 수인, 종로구, 근처, 머물, 경우, 걸어갈, 있는, 아침, 추...</td>\n",
       "      <td>4</td>\n",
       "      <td>NaN</td>\n",
       "    </tr>\n",
       "    <tr>\n",
       "      <th>7741</th>\n",
       "      <td>[역사, 알기, 궁궐, 지킴, 이의, 설명, 들으며, 역사, 다시, 생각, 하게, ...</td>\n",
       "      <td>5</td>\n",
       "      <td>NaN</td>\n",
       "    </tr>\n",
       "    <tr>\n",
       "      <th>7767</th>\n",
       "      <td>[사랑스러운, 궁전, 위대한, 도보, 예의, 많은, 궁전, 유사한, 조금, 다른, ...</td>\n",
       "      <td>5</td>\n",
       "      <td>NaN</td>\n",
       "    </tr>\n",
       "    <tr>\n",
       "      <th>8116</th>\n",
       "      <td>[외국인, 고객, 부부, 끼리, 방문, 했는데, 외국인, 고객, 접대, 위해, 방문...</td>\n",
       "      <td>4</td>\n",
       "      <td>NaN</td>\n",
       "    </tr>\n",
       "  </tbody>\n",
       "</table>\n",
       "<p>206 rows × 3 columns</p>\n",
       "</div>"
      ],
      "text/plain": [
       "                                                   docs score  topic_num\n",
       "2     [나들이, 하기, 좋은, 가끔, 어머니, 산책, 하러, 갑니다, 향원정, 너무, 이...     4        NaN\n",
       "126   [봐야, 하는, 궁전, 혼잡, 이유, 있나, 건축, 아름다우면서, 세부, 심압, 대...     4        NaN\n",
       "177   [놀라운, 정말, 놀라운, 역사, 애호가, 관광객, 시간, 자연, 가깝습니다, 풍경...     5        NaN\n",
       "687   [외국인, 친구, 가기, 좋은, 가장, 한국, 이기, 때문, 외국인, 친구, 아주,...     5        NaN\n",
       "810   [멋진, 장소, 다른, 야간, 개장, 주는, 다른, 매력, 때마침, 내린, 비는, ...     5        NaN\n",
       "...                                                 ...   ...        ...\n",
       "7690  [좋아하는, 서울, 좋아하는, 서울, 입니다, 아주, 사랑스러운, 가을, 비원, 이...     5        NaN\n",
       "7699  [편안한, 지하철, 수인, 종로구, 근처, 머물, 경우, 걸어갈, 있는, 아침, 추...     4        NaN\n",
       "7741  [역사, 알기, 궁궐, 지킴, 이의, 설명, 들으며, 역사, 다시, 생각, 하게, ...     5        NaN\n",
       "7767  [사랑스러운, 궁전, 위대한, 도보, 예의, 많은, 궁전, 유사한, 조금, 다른, ...     5        NaN\n",
       "8116  [외국인, 고객, 부부, 끼리, 방문, 했는데, 외국인, 고객, 접대, 위해, 방문...     4        NaN\n",
       "\n",
       "[206 rows x 3 columns]"
      ]
     },
     "execution_count": 21,
     "metadata": {},
     "output_type": "execute_result"
    }
   ],
   "source": [
    "#빈도 구하기\n",
    "\n",
    "topic_num=[]\n",
    "temp1=[] #토픽번호\n",
    "temp2=[] #분포율\n",
    "for i in range(len(model.docs)):\n",
    "    a=model.docs[i].get_topics()\n",
    "    temp1.append([x[0] for x in a])\n",
    "    temp2.append([x[1] for x in a])\n",
    "for i in range(len(temp1)):\n",
    "    if temp2[i][0] >= 0.5:\n",
    "        topic_num.append(temp1[i][0])\n",
    "    else :\n",
    "        topic_num.append(np.NaN)\n",
    "df5['topic_num']=topic_num\n",
    "df5[df5['topic_num'].isnull()]"
   ]
  },
  {
   "cell_type": "code",
   "execution_count": 22,
   "id": "8699ca55",
   "metadata": {},
   "outputs": [
    {
     "name": "stdout",
     "output_type": "stream",
     "text": [
      "    topic_num score  counts\n",
      "0         0.0     1      12\n",
      "1         0.0     2      43\n",
      "2         0.0     3     388\n",
      "3         0.0     4    1350\n",
      "4         0.0     5    1773\n",
      "5         1.0     1       6\n",
      "6         1.0     2      29\n",
      "7         1.0     3     229\n",
      "8         1.0     4     873\n",
      "9         1.0     5    1372\n",
      "10        2.0     1       9\n",
      "11        2.0     2      23\n",
      "12        2.0     3     268\n",
      "13        2.0     4     748\n",
      "14        2.0     5     799\n"
     ]
    }
   ],
   "source": [
    "df6=df5.groupby(['topic_num','score'])['docs']\n",
    "print(df6.size().reset_index(name='counts'))"
   ]
  },
  {
   "cell_type": "code",
   "execution_count": null,
   "id": "e371d2ab",
   "metadata": {},
   "outputs": [],
   "source": []
  }
 ],
 "metadata": {
  "kernelspec": {
   "display_name": "Python 3 (ipykernel)",
   "language": "python",
   "name": "python3"
  },
  "language_info": {
   "codemirror_mode": {
    "name": "ipython",
    "version": 3
   },
   "file_extension": ".py",
   "mimetype": "text/x-python",
   "name": "python",
   "nbconvert_exporter": "python",
   "pygments_lexer": "ipython3",
   "version": "3.8.12"
  }
 },
 "nbformat": 4,
 "nbformat_minor": 5
}
